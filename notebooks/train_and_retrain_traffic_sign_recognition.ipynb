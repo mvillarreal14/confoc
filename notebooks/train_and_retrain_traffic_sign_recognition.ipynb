{
 "cells": [
  {
   "cell_type": "markdown",
   "metadata": {},
   "source": [
    "# Example with Traffic Sign Recognition (GTSRB)"
   ]
  },
  {
   "cell_type": "markdown",
   "metadata": {
    "heading_collapsed": true
   },
   "source": [
    "## Initial setup and imprts"
   ]
  },
  {
   "cell_type": "code",
   "execution_count": 9,
   "metadata": {
    "hidden": true
   },
   "outputs": [],
   "source": [
    "# To get automatic reloading and inline plotting\n",
    "%reload_ext autoreload\n",
    "%autoreload 2\n",
    "%matplotlib inline"
   ]
  },
  {
   "cell_type": "code",
   "execution_count": 10,
   "metadata": {
    "hidden": true
   },
   "outputs": [],
   "source": [
    "# Add the proper imports\n",
    "from fastai.sgdr import *\n",
    "from fastai.plots import *\n",
    "from fastai.model import *\n",
    "from fastai.dataset import *\n",
    "from fastai.imports import *\n",
    "from fastai.transforms import *\n",
    "from fastai.conv_learner import *"
   ]
  },
  {
   "cell_type": "code",
   "execution_count": 11,
   "metadata": {
    "hidden": true
   },
   "outputs": [
    {
     "data": {
      "text/plain": [
       "True"
      ]
     },
     "execution_count": 11,
     "metadata": {},
     "output_type": "execute_result"
    }
   ],
   "source": [
    "# Check for CUDA. Must return True if there is an working NVidia GPU set up.\n",
    "torch.cuda.is_available()"
   ]
  },
  {
   "cell_type": "code",
   "execution_count": 12,
   "metadata": {
    "hidden": true
   },
   "outputs": [
    {
     "data": {
      "text/plain": [
       "True"
      ]
     },
     "execution_count": 12,
     "metadata": {},
     "output_type": "execute_result"
    }
   ],
   "source": [
    "# Check CuDNN, a NVidia package that provides special accelerated functions for deep learning.\n",
    "torch.backends.cudnn.enabled"
   ]
  },
  {
   "cell_type": "code",
   "execution_count": 13,
   "metadata": {
    "hidden": true
   },
   "outputs": [
    {
     "name": "stdout",
     "output_type": "stream",
     "text": [
      "Wed Jul 24 19:07:11 2019       \r\n",
      "+-----------------------------------------------------------------------------+\r\n",
      "| NVIDIA-SMI 390.59                 Driver Version: 390.59                    |\r\n",
      "|-------------------------------+----------------------+----------------------+\r\n",
      "| GPU  Name        Persistence-M| Bus-Id        Disp.A | Volatile Uncorr. ECC |\r\n",
      "| Fan  Temp  Perf  Pwr:Usage/Cap|         Memory-Usage | GPU-Util  Compute M. |\r\n",
      "|===============================+======================+======================|\r\n",
      "|   0  GeForce GTX 106...  Off  | 00000000:02:00.0 Off |                  N/A |\r\n",
      "| 24%   56C    P2    42W / 120W |   5621MiB /  6078MiB |     41%      Default |\r\n",
      "+-------------------------------+----------------------+----------------------+\r\n",
      "|   1  GeForce GTX 106...  Off  | 00000000:03:00.0 Off |                  N/A |\r\n",
      "| 24%   38C    P2    39W / 120W |   5621MiB /  6078MiB |     39%      Default |\r\n",
      "+-------------------------------+----------------------+----------------------+\r\n",
      "|   2  GeForce GTX 106...  Off  | 00000000:83:00.0 Off |                  N/A |\r\n",
      "| 24%   34C    P8    10W / 120W |     10MiB /  6078MiB |      0%      Default |\r\n",
      "+-------------------------------+----------------------+----------------------+\r\n",
      "|   3  GeForce GTX 106...  Off  | 00000000:84:00.0 Off |                  N/A |\r\n",
      "| 24%   47C    P2    30W / 120W |   5621MiB /  6078MiB |     32%      Default |\r\n",
      "+-------------------------------+----------------------+----------------------+\r\n",
      "                                                                               \r\n",
      "+-----------------------------------------------------------------------------+\r\n",
      "| Processes:                                                       GPU Memory |\r\n",
      "|  GPU       PID   Type   Process name                             Usage      |\r\n",
      "|=============================================================================|\r\n",
      "|    0     21331      C   python                                      5611MiB |\r\n",
      "|    1      2613      C   python                                      5611MiB |\r\n",
      "|    3     25204      C   python                                      5611MiB |\r\n",
      "+-----------------------------------------------------------------------------+\r\n"
     ]
    }
   ],
   "source": [
    "# See details of GPU usage:\n",
    "!nvidia-smi"
   ]
  },
  {
   "cell_type": "code",
   "execution_count": 14,
   "metadata": {
    "hidden": true
   },
   "outputs": [],
   "source": [
    "# Set device\n",
    "torch.cuda.set_device(2)"
   ]
  },
  {
   "cell_type": "code",
   "execution_count": 15,
   "metadata": {
    "hidden": true
   },
   "outputs": [],
   "source": [
    "# Enable benchmark mode in cudnn. This way, cudnn will look for the optimal set of algorithms for that \n",
    "# particular configuration.\n",
    "torch.backends.cudnn.benchmark=True"
   ]
  },
  {
   "cell_type": "markdown",
   "metadata": {
    "hidden": true
   },
   "source": [
    "\n",
    "## Dataset description: GTSRB"
   ]
  },
  {
   "cell_type": "markdown",
   "metadata": {
    "hidden": true
   },
   "source": [
    "The German Traffic Sign Benchmark (GTSRB) is a multi-class, single-image classification challenge held at the International Joint Conference on Neural Networks (IJCNN) 2011. The benchmark has the following properties:\n",
    "\n",
    " - Single-image, multi-class classification problem\n",
    " - More than 40 classes\n",
    " - More than 50,000 images in total\n",
    " - Large, lifelike database"
   ]
  },
  {
   "cell_type": "markdown",
   "metadata": {
    "heading_collapsed": true
   },
   "source": [
    "## Path setup"
   ]
  },
  {
   "cell_type": "code",
   "execution_count": 16,
   "metadata": {
    "hidden": true
   },
   "outputs": [
    {
     "data": {
      "text/plain": [
       "['valid_01',\n",
       " 'heal_10',\n",
       " 'comb_07',\n",
       " 'bases',\n",
       " 'test_10each_01',\n",
       " 'test2_10each_01',\n",
       " 'heal_09',\n",
       " 'heal_08',\n",
       " 'models',\n",
       " 'heal',\n",
       " 'tmp']"
      ]
     },
     "execution_count": 16,
     "metadata": {},
     "output_type": "execute_result"
    }
   ],
   "source": [
    "# Set proper path\n",
    "path = 'data/gtsrb/'\n",
    "os.listdir(path)"
   ]
  },
  {
   "cell_type": "markdown",
   "metadata": {
    "heading_collapsed": true
   },
   "source": [
    "## CREATE MODEL TO TRAIN"
   ]
  },
  {
   "cell_type": "code",
   "execution_count": null,
   "metadata": {
    "hidden": true
   },
   "outputs": [],
   "source": [
    "# Data augmenatation setting\n",
    "arch=resnet34\n",
    "sz=96\n",
    "wd=5e-4\n",
    "bs = 1\n",
    "aug_tfms = [RandomRotate(20), RandomLighting(0.8, 0.8)]\n",
    "tfms = tfms_from_model(arch, sz, aug_tfms=aug_tfms, max_zoom=1.2)"
   ]
  },
  {
   "cell_type": "code",
   "execution_count": null,
   "metadata": {
    "hidden": true
   },
   "outputs": [],
   "source": [
    "# Get data and leaner\n",
    "trn_ds_name  = 'valid'\n",
    "val_ds_name  = 'valid'\n",
    "test_ds_name = 'test_10each'\n",
    "precompute = False                                                            # <---- Set it to False after training\n",
    "data = ImageClassifierData.from_paths(path, tfms=tfms, bs=bs, trn_name=trn_ds_name, \n",
    "                                      val_name=val_ds_name, test_name=test_ds_name)\n",
    "learner = ConvLearner.pretrained(arch, data, precompute=precompute)"
   ]
  },
  {
   "cell_type": "markdown",
   "metadata": {
    "heading_collapsed": true
   },
   "source": [
    "## Get TSR Model 0"
   ]
  },
  {
   "cell_type": "markdown",
   "metadata": {
    "hidden": true
   },
   "source": [
    "Model trained using all the original data. The traditional split is used as follows:\n",
    " - Train:  80% \n",
    " - Valid:  20%"
   ]
  },
  {
   "cell_type": "markdown",
   "metadata": {
    "heading_collapsed": true,
    "hidden": true
   },
   "source": [
    "### Train model (first training)"
   ]
  },
  {
   "cell_type": "code",
   "execution_count": 101,
   "metadata": {
    "hidden": true
   },
   "outputs": [
    {
     "data": {
      "application/vnd.jupyter.widget-view+json": {
       "model_id": "8496a69e778d4733900ce9c7e72f85a2",
       "version_major": 2,
       "version_minor": 0
      },
      "text/plain": [
       "HBox(children=(IntProgress(value=0, description='Epoch', max=1, style=ProgressStyle(description_width='initial…"
      ]
     },
     "metadata": {},
     "output_type": "display_data"
    },
    {
     "name": "stdout",
     "output_type": "stream",
     "text": [
      "                                                            \r"
     ]
    },
    {
     "data": {
      "image/png": "[encoded data removed]",
      "text/plain": [
       "<Figure size 432x288 with 1 Axes>"
      ]
     },
     "metadata": {
      "needs_background": "light"
     },
     "output_type": "display_data"
    }
   ],
   "source": [
    "lrf = learner.lr_find()\n",
    "learner.sched.plot()"
   ]
  },
  {
   "cell_type": "code",
   "execution_count": 102,
   "metadata": {
    "hidden": true,
    "scrolled": true
   },
   "outputs": [
    {
     "data": {
      "application/vnd.jupyter.widget-view+json": {
       "model_id": "c445ad9183814a64ad332a0517560b20",
       "version_major": 2,
       "version_minor": 0
      },
      "text/plain": [
       "HBox(children=(IntProgress(value=0, description='Epoch', max=31, style=ProgressStyle(description_width='initia…"
      ]
     },
     "metadata": {},
     "output_type": "display_data"
    },
    {
     "name": "stdout",
     "output_type": "stream",
     "text": [
      "\n",
      "epoch      trn_loss   val_loss   accuracy                   \n",
      "    0      1.153348   1.2297     0.610856  \n",
      "    1      0.807491   1.140165   0.645977                    \n",
      "    2      0.634162   1.10344    0.660409                    \n",
      "    3      0.627016   1.124144   0.649553                    \n",
      "    4      0.521686   1.120835   0.654662                    \n",
      "    5      0.424756   1.086167   0.671775                    \n",
      "    6      0.380786   1.072458   0.673436                    \n",
      "    7      0.443269   1.136555   0.657982                    \n",
      "    8      0.417134   1.136276   0.661175                    \n",
      "    9      0.361775   1.11431    0.668838                    \n",
      "    10     0.311001   1.114614   0.669987                    \n",
      "    11     0.268165   1.119677   0.673819                    \n",
      "    12     0.239373   1.12245    0.674457                    \n",
      "    13     0.224652   1.11879    0.675734                    \n",
      "    14     0.213137   1.117829   0.675734                    \n",
      "    15     0.320544   1.16087    0.657216                    \n",
      "    16     0.320845   1.146895   0.668838                    \n",
      "    17     0.304331   1.22665    0.656833                    \n",
      "    18     0.270892   1.19345    0.656833                    \n",
      "    19     0.250424   1.216154   0.65811                     \n",
      "    20     0.2363     1.161162   0.664879                    \n",
      "    21     0.209579   1.19704    0.662324                    \n",
      "    22     0.190765   1.188863   0.663346                    \n",
      "    23     0.172951   1.182352   0.665262                    \n",
      "    24     0.16104    1.178558   0.666284                    \n",
      "    25     0.148015   1.177158   0.667305                    \n",
      "    26     0.136      1.180467   0.667433                    \n",
      "    27     0.126166   1.169629   0.669349                    \n",
      "    28     0.118307   1.175715   0.667688                    \n",
      "    29     0.11508    1.173355   0.668327                    \n",
      "    30     0.114026   1.176133   0.668455                    \n"
     ]
    },
    {
     "data": {
      "text/plain": [
       "[1.176132855180884, 0.6684546614667617]"
      ]
     },
     "execution_count": 102,
     "metadata": {},
     "output_type": "execute_result"
    }
   ],
   "source": [
    "# Train last layer with pre-computed activations using SGDR\n",
    "learner.fit(1e-1, n_cycle=5, cycle_len=1, cycle_mult=2, wds=wd)"
   ]
  },
  {
   "cell_type": "code",
   "execution_count": 103,
   "metadata": {
    "hidden": true,
    "scrolled": true
   },
   "outputs": [
    {
     "data": {
      "application/vnd.jupyter.widget-view+json": {
       "model_id": "9aa511489496405381fd563deaf06ed8",
       "version_major": 2,
       "version_minor": 0
      },
      "text/plain": [
       "HBox(children=(IntProgress(value=0, description='Epoch', max=7, style=ProgressStyle(description_width='initial…"
      ]
     },
     "metadata": {},
     "output_type": "display_data"
    },
    {
     "name": "stdout",
     "output_type": "stream",
     "text": [
      "\n",
      "epoch      trn_loss   val_loss   accuracy                   \n",
      "    0      1.886244   1.297878   0.660409  \n",
      "    1      1.681075   1.155733   0.669093                   \n",
      "    2      1.606237   1.154868   0.666539                   \n",
      "    3      1.569017   1.101926   0.669349                   \n",
      "    4      1.515598   1.081826   0.669604                   \n",
      "    5      1.493811   1.071633   0.670498                   \n",
      "    6      1.475937   1.067928   0.67152                    \n"
     ]
    },
    {
     "data": {
      "text/plain": [
       "[1.06792779793989, 0.6715197963428375]"
      ]
     },
     "execution_count": 103,
     "metadata": {},
     "output_type": "execute_result"
    }
   ],
   "source": [
    "# Stops using pre-computed activations and apply SGDR\n",
    "learner.precompute=False\n",
    "learner.fit(1e-2, n_cycle=3, cycle_len=1, cycle_mult=2, wds=wd)"
   ]
  },
  {
   "cell_type": "code",
   "execution_count": 107,
   "metadata": {
    "hidden": true
   },
   "outputs": [
    {
     "data": {
      "application/vnd.jupyter.widget-view+json": {
       "model_id": "18dc35a3854c466fb2a1231b0233e761",
       "version_major": 2,
       "version_minor": 0
      },
      "text/plain": [
       "HBox(children=(IntProgress(value=0, description='Epoch', max=1, style=ProgressStyle(description_width='initial…"
      ]
     },
     "metadata": {},
     "output_type": "display_data"
    },
    {
     "name": "stdout",
     "output_type": "stream",
     "text": [
      " 93%|█████████▎| 114/123 [00:29<00:01,  5.84it/s, loss=7.77]"
     ]
    },
    {
     "data": {
      "image/png": "[encoded data removed]",
      "text/plain": [
       "<Figure size 432x288 with 1 Axes>"
      ]
     },
     "metadata": {
      "needs_background": "light"
     },
     "output_type": "display_data"
    }
   ],
   "source": [
    "# Unfreeze all layers and get new lr\n",
    "learner.unfreeze()\n",
    "learner.lr_find()\n",
    "learner.sched.plot()"
   ]
  },
  {
   "cell_type": "code",
   "execution_count": 108,
   "metadata": {
    "hidden": true,
    "scrolled": true
   },
   "outputs": [
    {
     "data": {
      "application/vnd.jupyter.widget-view+json": {
       "model_id": "cc4673b15c02410098a55d67f4270687",
       "version_major": 2,
       "version_minor": 0
      },
      "text/plain": [
       "HBox(children=(IntProgress(value=0, description='Epoch', max=7, style=ProgressStyle(description_width='initial…"
      ]
     },
     "metadata": {},
     "output_type": "display_data"
    },
    {
     "name": "stdout",
     "output_type": "stream",
     "text": [
      "epoch      trn_loss   val_loss   accuracy                    \n",
      "    0      0.976901   0.133935   0.954151  \n",
      "    1      0.765906   0.054743   0.98378                     \n",
      "    2      0.668221   0.036475   0.987612                    \n",
      "    3      0.684877   0.070041   0.973691                    \n",
      "    4      0.643282   0.02543    0.991188                    \n",
      "    5      0.626138   0.021386   0.993487                    \n",
      "    6      0.597509   0.02173    0.993614                    \n"
     ]
    },
    {
     "data": {
      "text/plain": [
       "[0.021730329496797894, 0.9936143039591315]"
      ]
     },
     "execution_count": 108,
     "metadata": {},
     "output_type": "execute_result"
    }
   ],
   "source": [
    "learner.fit(1e-2, n_cycle=3, cycle_len=1, cycle_mult=2, wds=wd)"
   ]
  },
  {
   "cell_type": "code",
   "execution_count": 15,
   "metadata": {
    "hidden": true,
    "scrolled": true
   },
   "outputs": [
    {
     "data": {
      "application/vnd.jupyter.widget-view+json": {
       "model_id": "8652d807e91b4d2695cc8b390b87ea24",
       "version_major": 2,
       "version_minor": 0
      },
      "text/plain": [
       "HBox(children=(IntProgress(value=0, description='Epoch', max=31, style=ProgressStyle(description_width='initia…"
      ]
     },
     "metadata": {},
     "output_type": "display_data"
    },
    {
     "name": "stdout",
     "output_type": "stream",
     "text": [
      "epoch      trn_loss   val_loss   accuracy                    \n",
      "    0      0.477116   0.013729   0.995913  \n",
      "    1      0.47225    0.013531   0.995913                    \n",
      "    2      0.463173   0.0138     0.995913                    \n",
      "    3      0.47274    0.013375   0.995785                    \n",
      "    4      0.471218   0.013726   0.995913                    \n",
      "    5      0.486764   0.013843   0.995913                    \n",
      "    6      0.482909   0.013642   0.995913                    \n",
      "    7      0.475395   0.013549   0.996041                    \n",
      "    8      0.473507   0.013399   0.995913                    \n",
      "    9      0.476348   0.01392    0.995913                    \n",
      "    10     0.4656     0.014044   0.995913                    \n",
      "    11     0.471962   0.014196   0.995913                    \n",
      "    12     0.468501   0.01414    0.995913                    \n",
      "    13     0.477899   0.014544   0.995913                    \n",
      "    14     0.463643   0.01435    0.995785                    \n",
      "    15     0.477849   0.014514   0.995913                    \n",
      "    16     0.474992   0.014218   0.995785                    \n",
      "    17     0.465721   0.013892   0.995913                    \n",
      "    18     0.475211   0.014354   0.995785                    \n",
      "    19     0.474745   0.014545   0.996041                    \n",
      "    20     0.481087   0.013979   0.996424                    \n",
      "    21     0.472859   0.014299   0.996041                    \n",
      "    22     0.470096   0.014337   0.996041                    \n",
      "    23     0.467079   0.014084   0.996041                    \n",
      "    24     0.468806   0.013963   0.995913                    \n",
      "    25     0.481053   0.013991   0.995913                    \n",
      "    26     0.474258   0.013957   0.996041                    \n",
      "    27     0.474877   0.013988   0.995913                    \n",
      "    28     0.472294   0.014274   0.996041                    \n",
      "    29     0.474869   0.013778   0.996169                    \n",
      "    30     0.478465   0.014139   0.996041                    \n"
     ]
    },
    {
     "data": {
      "text/plain": [
       "[0.014139278182857415, 0.9960408684546616]"
      ]
     },
     "execution_count": 15,
     "metadata": {},
     "output_type": "execute_result"
    }
   ],
   "source": [
    "learner.fit(1e-2, n_cycle=5, cycle_len=1, cycle_mult=2, wds=wd)"
   ]
  },
  {
   "cell_type": "code",
   "execution_count": 16,
   "metadata": {
    "hidden": true
   },
   "outputs": [],
   "source": [
    "learner.save('model0')"
   ]
  },
  {
   "cell_type": "markdown",
   "metadata": {
    "heading_collapsed": true,
    "hidden": true
   },
   "source": [
    "### Test model with valid set"
   ]
  },
  {
   "cell_type": "code",
   "execution_count": 58,
   "metadata": {
    "hidden": true
   },
   "outputs": [],
   "source": [
    "# Load model\n",
    "learner.precompute=False\n",
    "learner.load('model0')"
   ]
  },
  {
   "cell_type": "code",
   "execution_count": 60,
   "metadata": {
    "hidden": true
   },
   "outputs": [
    {
     "data": {
      "text/plain": [
       "0.9989974937343359"
      ]
     },
     "execution_count": 60,
     "metadata": {},
     "output_type": "execute_result"
    }
   ],
   "source": [
    "# Test model\n",
    "log_preds, y = learner.predict_with_targs()\n",
    "preds = np.exp(log_preds)\n",
    "accuracy_np(preds, y)"
   ]
  },
  {
   "cell_type": "code",
   "execution_count": 61,
   "metadata": {
    "hidden": true
   },
   "outputs": [
    {
     "name": "stdout",
     "output_type": "stream",
     "text": [
      "                                             \r"
     ]
    },
    {
     "data": {
      "text/plain": [
       "0.9987468671679198"
      ]
     },
     "execution_count": 61,
     "metadata": {},
     "output_type": "execute_result"
    }
   ],
   "source": [
    "# Test model with TTA\n",
    "log_preds, y = learner.TTA()\n",
    "probs = np.mean(np.exp(log_preds),0)\n",
    "accuracy_np(probs, y)"
   ]
  },
  {
   "cell_type": "markdown",
   "metadata": {
    "heading_collapsed": true,
    "hidden": true
   },
   "source": [
    "### Test model with test set"
   ]
  },
  {
   "cell_type": "code",
   "execution_count": 62,
   "metadata": {
    "hidden": true
   },
   "outputs": [],
   "source": [
    "# Load model\n",
    "learner.precompute=False\n",
    "learner.load('model0')"
   ]
  },
  {
   "cell_type": "code",
   "execution_count": 63,
   "metadata": {
    "hidden": true
   },
   "outputs": [],
   "source": [
    "# Get ground truth\n",
    "class_indexes = {c: i for i, c in enumerate(data.classes)}\n",
    "filenames = [filepath[filepath.find('/') + 1:] for filepath in data.test_ds.fnames]\n",
    "labels = [str(int(f[6:11])) for f in filenames]\n",
    "y_true = np.array([class_indexes[label] for label in labels])"
   ]
  },
  {
   "cell_type": "code",
   "execution_count": 64,
   "metadata": {
    "hidden": true
   },
   "outputs": [
    {
     "data": {
      "text/plain": [
       "0.9874109263657957"
      ]
     },
     "execution_count": 64,
     "metadata": {},
     "output_type": "execute_result"
    }
   ],
   "source": [
    "# Test model\n",
    "log_preds = learner.predict(is_test=True)\n",
    "preds = np.exp(log_preds)\n",
    "accuracy_np(preds, y_true)"
   ]
  },
  {
   "cell_type": "code",
   "execution_count": 65,
   "metadata": {
    "hidden": true
   },
   "outputs": [
    {
     "name": "stdout",
     "output_type": "stream",
     "text": [
      "                                             \r"
     ]
    },
    {
     "data": {
      "text/plain": [
       "0.9890736342042755"
      ]
     },
     "execution_count": 65,
     "metadata": {},
     "output_type": "execute_result"
    }
   ],
   "source": [
    "# Test model with TTA\n",
    "log_preds,_ = learner.TTA(is_test=True)\n",
    "preds = np.mean(np.exp(log_preds),0)\n",
    "accuracy_np(preds, y_true)"
   ]
  },
  {
   "cell_type": "markdown",
   "metadata": {
    "heading_collapsed": true
   },
   "source": [
    "## Get TSR Model 1"
   ]
  },
  {
   "cell_type": "markdown",
   "metadata": {
    "hidden": true
   },
   "source": [
    "Model trained as follows:\n",
    " - Train:  70% \n",
    " - Trojan: 10% (no used)\n",
    " - Valid:  10%\n",
    " - Heal:   10% (no used)"
   ]
  },
  {
   "cell_type": "markdown",
   "metadata": {
    "heading_collapsed": true,
    "hidden": true
   },
   "source": [
    "### Train model (first training)"
   ]
  },
  {
   "cell_type": "code",
   "execution_count": 44,
   "metadata": {
    "hidden": true
   },
   "outputs": [
    {
     "data": {
      "application/vnd.jupyter.widget-view+json": {
       "model_id": "bceb787a185f48aa9bafeaf277a97534",
       "version_major": 2,
       "version_minor": 0
      },
      "text/plain": [
       "HBox(children=(IntProgress(value=0, description='Epoch', max=1, style=ProgressStyle(description_width='initial…"
      ]
     },
     "metadata": {},
     "output_type": "display_data"
    },
    {
     "name": "stdout",
     "output_type": "stream",
     "text": [
      "                                                            \r"
     ]
    },
    {
     "data": {
      "image/png": "[encoded data removed]",
      "text/plain": [
       "<Figure size 432x288 with 1 Axes>"
      ]
     },
     "metadata": {
      "needs_background": "light"
     },
     "output_type": "display_data"
    }
   ],
   "source": [
    "# Find lr\n",
    "learner.lr_find()\n",
    "learner.sched.plot()"
   ]
  },
  {
   "cell_type": "code",
   "execution_count": 45,
   "metadata": {
    "hidden": true,
    "scrolled": true
   },
   "outputs": [
    {
     "data": {
      "application/vnd.jupyter.widget-view+json": {
       "model_id": "fa3e7d1a2b584f53ae2758076c6bc4a4",
       "version_major": 2,
       "version_minor": 0
      },
      "text/plain": [
       "HBox(children=(IntProgress(value=0, description='Epoch', max=31, style=ProgressStyle(description_width='initia…"
      ]
     },
     "metadata": {},
     "output_type": "display_data"
    },
    {
     "name": "stdout",
     "output_type": "stream",
     "text": [
      "epoch      trn_loss   val_loss   accuracy                   \n",
      "    0      1.237557   1.22528    0.605514  \n",
      "    1      0.862859   1.151665   0.633584                    \n",
      "    2      0.657136   1.089341   0.653133                    \n",
      "    3      0.622442   1.104185   0.647118                    \n",
      "    4      0.512322   1.077079   0.67193                     \n",
      "    5      0.428671   1.08083    0.674687                    \n",
      "    6      0.383223   1.078572   0.677694                    \n",
      "    7      0.440704   1.132703   0.658647                    \n",
      "    8      0.398134   1.105503   0.67619                     \n",
      "    9      0.357114   1.101139   0.670927                    \n",
      "    10     0.310443   1.131594   0.679449                    \n",
      "    11     0.267319   1.08476    0.684712                    \n",
      "    12     0.243321   1.086548   0.691228                    \n",
      "    13     0.21527    1.082985   0.694737                    \n",
      "    14     0.206785   1.088935   0.693734                    \n",
      "    15     0.293904   1.146271   0.672682                    \n",
      "    16     0.292751   1.116088   0.681704                    \n",
      "    17     0.281583   1.129285   0.666416                    \n",
      "    18     0.262291   1.151754   0.682456                    \n",
      "    19     0.238402   1.182737   0.670175                    \n",
      "    20     0.218793   1.14919    0.683208                    \n",
      "    21     0.198971   1.140709   0.681454                    \n",
      "    22     0.183673   1.114332   0.690727                    \n",
      "    23     0.165146   1.139959   0.682456                    \n",
      "    24     0.145719   1.122661   0.686967                    \n",
      "    25     0.133827   1.120569   0.683459                    \n",
      "    26     0.128612   1.11402    0.69599                     \n",
      "    27     0.118829   1.113585   0.696742                    \n",
      "    28     0.111506   1.117506   0.695238                    \n",
      "    29     0.108751   1.109659   0.694236                    \n",
      "    30     0.110484   1.112208   0.692732                    \n"
     ]
    },
    {
     "data": {
      "text/plain": [
       "[1.1122083946726375, 0.6927318310080316]"
      ]
     },
     "execution_count": 45,
     "metadata": {},
     "output_type": "execute_result"
    }
   ],
   "source": [
    "# Train last layer with pre-computed activations using SGDR\n",
    "learner.fit(1e-1, n_cycle=5, cycle_len=1, cycle_mult=2, wds=wd)"
   ]
  },
  {
   "cell_type": "code",
   "execution_count": 46,
   "metadata": {
    "hidden": true
   },
   "outputs": [
    {
     "data": {
      "application/vnd.jupyter.widget-view+json": {
       "model_id": "4135ca99f155450e957f7618790da5e1",
       "version_major": 2,
       "version_minor": 0
      },
      "text/plain": [
       "HBox(children=(IntProgress(value=0, description='Epoch', max=7, style=ProgressStyle(description_width='initial…"
      ]
     },
     "metadata": {},
     "output_type": "display_data"
    },
    {
     "name": "stdout",
     "output_type": "stream",
     "text": [
      "epoch      trn_loss   val_loss   accuracy                   \n",
      "    0      1.780322   1.070717   0.667168  \n",
      "    1      1.609531   1.029834   0.672431                   \n",
      "    2      1.50527    0.961836   0.683459                   \n",
      "    3      1.499802   1.020049   0.675188                  \n",
      "    4      1.43916    0.965664   0.680952                   \n",
      "    5      1.393264   0.946203   0.687719                   \n",
      "    6      1.349627   0.94657    0.686717                   \n"
     ]
    },
    {
     "data": {
      "text/plain": [
       "[0.9465695595681518, 0.6867167921293349]"
      ]
     },
     "execution_count": 46,
     "metadata": {},
     "output_type": "execute_result"
    }
   ],
   "source": [
    "# Stops using pre-computed activations and apply SGDR\n",
    "learner.precompute=False\n",
    "learner.fit(1e-1, n_cycle=3, cycle_len=1, cycle_mult=2, wds=wd)"
   ]
  },
  {
   "cell_type": "code",
   "execution_count": 47,
   "metadata": {
    "hidden": true
   },
   "outputs": [
    {
     "data": {
      "application/vnd.jupyter.widget-view+json": {
       "model_id": "3d5a4ccb9807497c90f5cee82d9520c3",
       "version_major": 2,
       "version_minor": 0
      },
      "text/plain": [
       "HBox(children=(IntProgress(value=0, description='Epoch', max=1, style=ProgressStyle(description_width='initial…"
      ]
     },
     "metadata": {},
     "output_type": "display_data"
    },
    {
     "name": "stdout",
     "output_type": "stream",
     "text": [
      " 95%|█████████▌| 102/107 [01:23<00:03,  1.32it/s, loss=13.6]"
     ]
    },
    {
     "data": {
      "image/png": "[encoded data removed]",
      "text/plain": [
       "<Figure size 432x288 with 1 Axes>"
      ]
     },
     "metadata": {
      "needs_background": "light"
     },
     "output_type": "display_data"
    }
   ],
   "source": [
    "# Unfreeze all layers and get new lr\n",
    "learner.unfreeze()\n",
    "learner.lr_find()\n",
    "learner.sched.plot()"
   ]
  },
  {
   "cell_type": "code",
   "execution_count": 48,
   "metadata": {
    "hidden": true,
    "scrolled": true
   },
   "outputs": [
    {
     "data": {
      "application/vnd.jupyter.widget-view+json": {
       "model_id": "f2e60fb0c8f0474798dc2add97862a83",
       "version_major": 2,
       "version_minor": 0
      },
      "text/plain": [
       "HBox(children=(IntProgress(value=0, description='Epoch', max=31, style=ProgressStyle(description_width='initia…"
      ]
     },
     "metadata": {},
     "output_type": "display_data"
    },
    {
     "name": "stdout",
     "output_type": "stream",
     "text": [
      "epoch      trn_loss   val_loss   accuracy                    \n",
      "    0      0.949536   0.127239   0.961404  \n",
      "    1      0.758348   0.076588   0.978195                    \n",
      "    2      0.690588   0.047512   0.986216                    \n",
      "    3      0.678803   0.041923   0.990727                    \n",
      "    4      0.638681   0.028357   0.992481                    \n",
      "    5      0.605579   0.024517   0.994236                    \n",
      "    6      0.59623    0.022981   0.994486                    \n",
      "    7      0.607688   0.045      0.988221                    \n",
      "    8      0.59909    0.049754   0.987218                    \n",
      "    9      0.583465   0.034543   0.989474                    \n",
      "    10     0.574479   0.017986   0.995238                    \n",
      "    11     0.55958    0.023014   0.992732                    \n",
      "    12     0.538843   0.017013   0.996241                    \n",
      "    13     0.53412    0.016202   0.995739                    \n",
      "    14     0.533101   0.015516   0.995739                    \n",
      "    15     0.561151   0.025658   0.992481                    \n",
      "    16     0.559566   0.027767   0.990226                    \n",
      "    17     0.554251   0.037846   0.989223                    \n",
      "    18     0.549926   0.036414   0.987719                    \n",
      "    19     0.540803   0.021124   0.994486                    \n",
      "    20     0.539853   0.022223   0.994236                    \n",
      "    21     0.512091   0.018606   0.994486                    \n",
      "    22     0.525286   0.015775   0.996491                    \n",
      "    23     0.514217   0.015852   0.99599                     \n",
      "    24     0.50712    0.018787   0.994486                    \n",
      "    25     0.508072   0.01945    0.994486                    \n",
      "    26     0.493306   0.017655   0.995489                    \n",
      "    27     0.505174   0.017007   0.99599                     \n",
      "    28     0.488231   0.017431   0.995489                    \n",
      "    29     0.479318   0.017622   0.995238                    \n",
      "    30     0.483102   0.01794    0.995489                    \n"
     ]
    },
    {
     "data": {
      "text/plain": [
       "[0.017939726986051688, 0.9954887218045113]"
      ]
     },
     "execution_count": 48,
     "metadata": {},
     "output_type": "execute_result"
    }
   ],
   "source": [
    "# Fit model\n",
    "#lr = np.array([1e-4,1e-3,1e-2])\n",
    "lr = 1e-2\n",
    "learner.fit(lr, n_cycle=5, cycle_len=1, cycle_mult=2, wds=wd)"
   ]
  },
  {
   "cell_type": "code",
   "execution_count": 49,
   "metadata": {
    "hidden": true
   },
   "outputs": [],
   "source": [
    "learner.save('model1')"
   ]
  },
  {
   "cell_type": "markdown",
   "metadata": {
    "heading_collapsed": true,
    "hidden": true
   },
   "source": [
    "### Test model with valid set"
   ]
  },
  {
   "cell_type": "code",
   "execution_count": 69,
   "metadata": {
    "hidden": true
   },
   "outputs": [],
   "source": [
    "# Load model\n",
    "learner.precompute=False\n",
    "learner.load('model1')"
   ]
  },
  {
   "cell_type": "code",
   "execution_count": 70,
   "metadata": {
    "hidden": true
   },
   "outputs": [
    {
     "data": {
      "text/plain": [
       "0.9954887218045113"
      ]
     },
     "execution_count": 70,
     "metadata": {},
     "output_type": "execute_result"
    }
   ],
   "source": [
    "# Test model\n",
    "log_preds, y = learner.predict_with_targs()\n",
    "preds = np.exp(log_preds)\n",
    "accuracy_np(preds, y)"
   ]
  },
  {
   "cell_type": "code",
   "execution_count": 71,
   "metadata": {
    "hidden": true
   },
   "outputs": [
    {
     "name": "stdout",
     "output_type": "stream",
     "text": [
      "                                             \r"
     ]
    },
    {
     "data": {
      "text/plain": [
       "0.9929824561403509"
      ]
     },
     "execution_count": 71,
     "metadata": {},
     "output_type": "execute_result"
    }
   ],
   "source": [
    "# Test model with TTA\n",
    "log_preds, y = learner.TTA()\n",
    "probs = np.mean(np.exp(log_preds),0)\n",
    "accuracy_np(probs, y)"
   ]
  },
  {
   "cell_type": "markdown",
   "metadata": {
    "heading_collapsed": true,
    "hidden": true
   },
   "source": [
    "### Test model with test set"
   ]
  },
  {
   "cell_type": "markdown",
   "metadata": {
    "heading_collapsed": true,
    "hidden": true
   },
   "source": [
    "#### Test all (no needed)"
   ]
  },
  {
   "cell_type": "code",
   "execution_count": 54,
   "metadata": {
    "hidden": true
   },
   "outputs": [],
   "source": [
    "# Load model\n",
    "learner.precompute=False\n",
    "learner.load('model1')"
   ]
  },
  {
   "cell_type": "code",
   "execution_count": 72,
   "metadata": {
    "hidden": true
   },
   "outputs": [],
   "source": [
    "# Get ground truth\n",
    "class_indexes = {c: i for i, c in enumerate(data.classes)}\n",
    "filenames = [filepath[filepath.find('/') + 1:] for filepath in data.test_ds.fnames]\n",
    "labels = [str(int(f[6:11])) for f in filenames]\n",
    "y_true = np.array([class_indexes[label] for label in labels])"
   ]
  },
  {
   "cell_type": "code",
   "execution_count": 73,
   "metadata": {
    "hidden": true
   },
   "outputs": [
    {
     "data": {
      "text/plain": [
       "0.9902612826603325"
      ]
     },
     "execution_count": 73,
     "metadata": {},
     "output_type": "execute_result"
    }
   ],
   "source": [
    "# Test model \n",
    "log_preds = learner.predict(is_test=True)\n",
    "preds = np.exp(log_preds)\n",
    "accuracy_np(preds, y_true)"
   ]
  },
  {
   "cell_type": "code",
   "execution_count": 75,
   "metadata": {
    "hidden": true
   },
   "outputs": [
    {
     "name": "stdout",
     "output_type": "stream",
     "text": [
      "                                             \r"
     ]
    },
    {
     "data": {
      "text/plain": [
       "0.9901029295328583"
      ]
     },
     "execution_count": 75,
     "metadata": {},
     "output_type": "execute_result"
    }
   ],
   "source": [
    "# Test model with TTA\n",
    "log_preds,_ = learner.TTA(is_test=True)\n",
    "preds = np.mean(np.exp(log_preds),0)\n",
    "accuracy_np(preds, y_true)"
   ]
  },
  {
   "cell_type": "markdown",
   "metadata": {
    "heading_collapsed": true,
    "hidden": true
   },
   "source": [
    "#### Test 10 each: Accuracy with benign data"
   ]
  },
  {
   "cell_type": "code",
   "execution_count": 20,
   "metadata": {
    "hidden": true
   },
   "outputs": [],
   "source": [
    "# Load model\n",
    "learner.precompute=False\n",
    "learner.load('model1')"
   ]
  },
  {
   "cell_type": "code",
   "execution_count": 21,
   "metadata": {
    "hidden": true
   },
   "outputs": [],
   "source": [
    "# Get ground truth\n",
    "class_indexes = {c: i for i, c in enumerate(data.classes)}\n",
    "filenames = [filepath[filepath.find('/') + 1:] for filepath in data.test_ds.fnames]\n",
    "labels = [str(int(f[6:11])) for f in filenames]\n",
    "y_true = np.array([class_indexes[label] for label in labels])"
   ]
  },
  {
   "cell_type": "code",
   "execution_count": 22,
   "metadata": {
    "hidden": true
   },
   "outputs": [
    {
     "data": {
      "text/plain": [
       "0.9790697674418605"
      ]
     },
     "execution_count": 22,
     "metadata": {},
     "output_type": "execute_result"
    }
   ],
   "source": [
    "# Test model \n",
    "log_preds = learner.predict(is_test=True)\n",
    "preds = np.exp(log_preds)\n",
    "accuracy_np(preds, y_true)"
   ]
  },
  {
   "cell_type": "markdown",
   "metadata": {
    "hidden": true
   },
   "source": [
    "### Test mode with test set with trojan"
   ]
  },
  {
   "cell_type": "markdown",
   "metadata": {
    "heading_collapsed": true,
    "hidden": true
   },
   "source": [
    "#### Test all (no needed)"
   ]
  },
  {
   "cell_type": "code",
   "execution_count": null,
   "metadata": {
    "hidden": true
   },
   "outputs": [],
   "source": []
  },
  {
   "cell_type": "markdown",
   "metadata": {
    "heading_collapsed": true,
    "hidden": true
   },
   "source": [
    "#### Test 10 each: Accuracy with adversarial data"
   ]
  },
  {
   "cell_type": "code",
   "execution_count": 24,
   "metadata": {
    "hidden": true
   },
   "outputs": [],
   "source": [
    "# Load model\n",
    "learner.precompute=False\n",
    "learner.load('model1')"
   ]
  },
  {
   "cell_type": "code",
   "execution_count": 25,
   "metadata": {
    "hidden": true
   },
   "outputs": [],
   "source": [
    "# Get ground truth\n",
    "class_indexes = {c: i for i, c in enumerate(data.classes)}\n",
    "filenames = [filepath[filepath.find('/') + 1:] for filepath in data.test_ds.fnames]\n",
    "labels = [str(int(f[6:11])) for f in filenames]\n",
    "y_true = np.array([class_indexes[label] for label in labels])"
   ]
  },
  {
   "cell_type": "code",
   "execution_count": 26,
   "metadata": {
    "hidden": true
   },
   "outputs": [
    {
     "data": {
      "text/plain": [
       "0.9767441860465116"
      ]
     },
     "execution_count": 26,
     "metadata": {},
     "output_type": "execute_result"
    }
   ],
   "source": [
    "# Test model \n",
    "log_preds = learner.predict(is_test=True)\n",
    "preds = np.exp(log_preds)\n",
    "accuracy_np(preds, y_true)"
   ]
  },
  {
   "cell_type": "markdown",
   "metadata": {
    "heading_collapsed": true,
    "hidden": true
   },
   "source": [
    "#### Test 10 each: Attack success rate with adversarial data"
   ]
  },
  {
   "cell_type": "code",
   "execution_count": 27,
   "metadata": {
    "hidden": true
   },
   "outputs": [],
   "source": [
    "# Load model\n",
    "learner.precompute=False\n",
    "learner.load('model1')"
   ]
  },
  {
   "cell_type": "code",
   "execution_count": 28,
   "metadata": {
    "hidden": true
   },
   "outputs": [
    {
     "name": "stdout",
     "output_type": "stream",
     "text": [
      "Number of samples: 430\n",
      "Target: 11\n"
     ]
    }
   ],
   "source": [
    "# Get ground truth\n",
    "class_indexes = {c: i for i, c in enumerate(data.classes)}\n",
    "target = class_indexes['19']\n",
    "filenames = [filepath[filepath.find('/') + 1:] for filepath in data.test_ds.fnames]\n",
    "y_true = np.array([target for i in range(len(filenames))])\n",
    "print(f'Number of samples: {len(y_true)}\\nTarget: {target}')"
   ]
  },
  {
   "cell_type": "code",
   "execution_count": 29,
   "metadata": {
    "hidden": true
   },
   "outputs": [
    {
     "data": {
      "text/plain": [
       "0.023255813953488372"
      ]
     },
     "execution_count": 29,
     "metadata": {},
     "output_type": "execute_result"
    }
   ],
   "source": [
    "# Test model \n",
    "log_preds = learner.predict(is_test=True)\n",
    "preds = np.exp(log_preds)\n",
    "accuracy_np(preds, y_true)"
   ]
  },
  {
   "cell_type": "markdown",
   "metadata": {
    "heading_collapsed": true
   },
   "source": [
    "## Get TSR Model 2"
   ]
  },
  {
   "cell_type": "markdown",
   "metadata": {
    "hidden": true
   },
   "source": [
    "Model trained as follows:\n",
    " - Train:  70% \n",
    " - Trojan: 10%\n",
    " - Valid:  10%\n",
    " - Heal: 10% (no used)"
   ]
  },
  {
   "cell_type": "markdown",
   "metadata": {
    "heading_collapsed": true,
    "hidden": true
   },
   "source": [
    "### Train model (first training)"
   ]
  },
  {
   "cell_type": "code",
   "execution_count": 20,
   "metadata": {
    "hidden": true
   },
   "outputs": [
    {
     "data": {
      "application/vnd.jupyter.widget-view+json": {
       "model_id": "4ee3b69ffca14a3d8c79913830979273",
       "version_major": 2,
       "version_minor": 0
      },
      "text/plain": [
       "HBox(children=(IntProgress(value=0, description='Epoch', max=1, style=ProgressStyle(description_width='initial…"
      ]
     },
     "metadata": {},
     "output_type": "display_data"
    },
    {
     "name": "stdout",
     "output_type": "stream",
     "text": [
      "                                                            \r"
     ]
    },
    {
     "data": {
      "image/png": "[encoded data removed]",
      "text/plain": [
       "<Figure size 432x288 with 1 Axes>"
      ]
     },
     "metadata": {
      "needs_background": "light"
     },
     "output_type": "display_data"
    }
   ],
   "source": [
    "# Find lr\n",
    "learner.lr_find()\n",
    "learner.sched.plot()"
   ]
  },
  {
   "cell_type": "code",
   "execution_count": 21,
   "metadata": {
    "hidden": true,
    "scrolled": true
   },
   "outputs": [
    {
     "data": {
      "application/vnd.jupyter.widget-view+json": {
       "model_id": "2ab7fb7e95dc4f77bb1e3ba34206c6e6",
       "version_major": 2,
       "version_minor": 0
      },
      "text/plain": [
       "HBox(children=(IntProgress(value=0, description='Epoch', max=31, style=ProgressStyle(description_width='initia…"
      ]
     },
     "metadata": {},
     "output_type": "display_data"
    },
    {
     "name": "stdout",
     "output_type": "stream",
     "text": [
      "epoch      trn_loss   val_loss   accuracy                   \n",
      "    0      1.334845   1.30458    0.589975  \n",
      "    1      0.956396   1.14818    0.629574                    \n",
      "    2      0.735516   1.139433   0.633333                    \n",
      "    3      0.729814   1.145474   0.633835                    \n",
      "    4      0.606253   1.149149   0.642857                    \n",
      "    5      0.502601   1.123275   0.650877                    \n",
      "    6      0.441731   1.125059   0.648622                    \n",
      "    7      0.532988   1.196479   0.641855                    \n",
      "    8      0.489547   1.224165   0.642356                    \n",
      "    9      0.431139   1.200339   0.637093                    \n",
      "    10     0.371511   1.166426   0.649875                    \n",
      "    11     0.321761   1.177515   0.648371                    \n",
      "    12     0.287577   1.159556   0.661654                    \n",
      "    13     0.259502   1.175708   0.653383                    \n",
      "    14     0.251326   1.179057   0.653133                    \n",
      "    15     0.372792   1.272534   0.635088                    \n",
      "    16     0.386152   1.261956   0.633835                    \n",
      "    17     0.357008   1.285496   0.634085                    \n",
      "    18     0.332022   1.286803   0.625815                    \n",
      "    19     0.301731   1.333857   0.630827                    \n",
      "    20     0.278385   1.209435   0.652882                    \n",
      "    21     0.2581     1.215384   0.646867                    \n",
      "    22     0.230607   1.258109   0.63985                     \n",
      "    23     0.214543   1.250314   0.640852                    \n",
      "    24     0.192864   1.23538    0.653383                    \n",
      "    25     0.174953   1.229513   0.645113                    \n",
      "    26     0.166315   1.222547   0.654887                    \n",
      "    27     0.152551   1.235895   0.648622                    \n",
      "    28     0.146522   1.233419   0.651378                    \n",
      "    29     0.139794   1.224856   0.653885                    \n",
      "    30     0.141213   1.224122   0.654386                    \n"
     ]
    },
    {
     "data": {
      "text/plain": [
       "[1.2241220603013099, 0.6543859646433876]"
      ]
     },
     "execution_count": 21,
     "metadata": {},
     "output_type": "execute_result"
    }
   ],
   "source": [
    "# Train last layer with pre-computed activations using SGDR\n",
    "learner.fit(1e-1, n_cycle=5, cycle_len=1, cycle_mult=2, wds=wd)"
   ]
  },
  {
   "cell_type": "code",
   "execution_count": 22,
   "metadata": {
    "hidden": true
   },
   "outputs": [
    {
     "data": {
      "application/vnd.jupyter.widget-view+json": {
       "model_id": "5095490e171a4145a9386a0c63c059ca",
       "version_major": 2,
       "version_minor": 0
      },
      "text/plain": [
       "HBox(children=(IntProgress(value=0, description='Epoch', max=7, style=ProgressStyle(description_width='initial…"
      ]
     },
     "metadata": {},
     "output_type": "display_data"
    },
    {
     "name": "stdout",
     "output_type": "stream",
     "text": [
      "epoch      trn_loss   val_loss   accuracy                   \n",
      "    0      1.940787   1.263446   0.607519  \n",
      "    1      1.741665   1.182215   0.618546                   \n",
      "    2      1.622811   1.121864   0.63985                    \n",
      "    3      1.620574   1.145978   0.638847                   \n",
      "    4      1.572784   1.12753    0.641353                   \n",
      "    5      1.515477   1.091687   0.655639                   \n",
      "    6      1.479689   1.077498   0.657143                   \n"
     ]
    },
    {
     "data": {
      "text/plain": [
       "[1.077498139414871, 0.6571428587263389]"
      ]
     },
     "execution_count": 22,
     "metadata": {},
     "output_type": "execute_result"
    }
   ],
   "source": [
    "# Stops using pre-computed activations and apply SGDR\n",
    "learner.precompute=False\n",
    "learner.fit(1e-1, n_cycle=3, cycle_len=1, cycle_mult=2, wds=wd)"
   ]
  },
  {
   "cell_type": "code",
   "execution_count": 23,
   "metadata": {
    "hidden": true
   },
   "outputs": [
    {
     "data": {
      "application/vnd.jupyter.widget-view+json": {
       "model_id": "23d12220caaa44cf816ba96675ff9820",
       "version_major": 2,
       "version_minor": 0
      },
      "text/plain": [
       "HBox(children=(IntProgress(value=0, description='Epoch', max=1, style=ProgressStyle(description_width='initial…"
      ]
     },
     "metadata": {},
     "output_type": "display_data"
    },
    {
     "name": "stdout",
     "output_type": "stream",
     "text": [
      " 94%|█████████▍| 115/122 [01:58<00:05,  1.28it/s, loss=21.5]"
     ]
    },
    {
     "data": {
      "image/png": "[encoded data removed]",
      "text/plain": [
       "<Figure size 432x288 with 1 Axes>"
      ]
     },
     "metadata": {
      "needs_background": "light"
     },
     "output_type": "display_data"
    }
   ],
   "source": [
    "# Unfreeze all layers and get new lr\n",
    "learner.unfreeze()\n",
    "learner.lr_find()\n",
    "learner.sched.plot()"
   ]
  },
  {
   "cell_type": "code",
   "execution_count": 24,
   "metadata": {
    "hidden": true,
    "scrolled": true
   },
   "outputs": [
    {
     "data": {
      "application/vnd.jupyter.widget-view+json": {
       "model_id": "08366baa943346e48079ea62569116c3",
       "version_major": 2,
       "version_minor": 0
      },
      "text/plain": [
       "HBox(children=(IntProgress(value=0, description='Epoch', max=31, style=ProgressStyle(description_width='initia…"
      ]
     },
     "metadata": {},
     "output_type": "display_data"
    },
    {
     "name": "stdout",
     "output_type": "stream",
     "text": [
      "epoch      trn_loss   val_loss   accuracy                   \n",
      "    0      1.054145   0.21233    0.939599  \n",
      "    1      0.843882   0.129648   0.959398                    \n",
      "    2      0.722564   0.080954   0.976692                    \n",
      "    3      0.727516   0.080156   0.977945                    \n",
      "    4      0.669153   0.095198   0.97218                     \n",
      "    5      0.613484   0.062373   0.983208                    \n",
      "    6      0.613767   0.060732   0.982957                    \n",
      "    7      0.6339     0.06124    0.980952                    \n",
      "    8      0.637784   0.078918   0.975439                    \n",
      "    9      0.591691   0.105606   0.970677                    \n",
      "    10     0.573585   0.066675   0.977444                    \n",
      "    11     0.560111   0.060201   0.981955                    \n",
      "    12     0.543558   0.077209   0.97193                     \n",
      "    13     0.535792   0.069299   0.975689                    \n",
      "    14     0.527455   0.071852   0.974436                    \n",
      "    15     0.565332   0.085388   0.972682                    \n",
      "    16     0.581679   0.110806   0.964662                    \n",
      "    17     0.568783   0.091101   0.96792                     \n",
      "    18     0.551071   0.093457   0.969424                    \n",
      "    19     0.540885   0.081819   0.972682                    \n",
      "    20     0.525929   0.072657   0.976692                    \n",
      "    21     0.518704   0.10435    0.96416                     \n",
      "    22     0.514222   0.090753   0.972682                    \n",
      "    23     0.500665   0.066984   0.977193                    \n",
      "    24     0.495901   0.080461   0.976942                    \n",
      "    25     0.480004   0.072273   0.977945                    \n",
      "    26     0.482348   0.063706   0.980451                    \n",
      "    27     0.468779   0.071098   0.978947                    \n",
      "    28     0.468747   0.071617   0.976942                    \n",
      "    29     0.466167   0.076243   0.97619                     \n",
      "    30     0.457618   0.074737   0.976942                    \n"
     ]
    },
    {
     "data": {
      "text/plain": [
       "[0.07473737019718739, 0.9769423566067726]"
      ]
     },
     "execution_count": 24,
     "metadata": {},
     "output_type": "execute_result"
    }
   ],
   "source": [
    "# Fit model\n",
    "#lr = np.array([1e-4,1e-3,1e-2])\n",
    "lr = 1e-2\n",
    "learner.fit(lr, n_cycle=5, cycle_len=1, cycle_mult=2, wds=wd)"
   ]
  },
  {
   "cell_type": "code",
   "execution_count": 25,
   "metadata": {
    "hidden": true
   },
   "outputs": [],
   "source": [
    "learner.save('model2')"
   ]
  },
  {
   "cell_type": "markdown",
   "metadata": {
    "heading_collapsed": true,
    "hidden": true
   },
   "source": [
    "### Test model with valid set"
   ]
  },
  {
   "cell_type": "code",
   "execution_count": 78,
   "metadata": {
    "hidden": true
   },
   "outputs": [],
   "source": [
    "# Load model\n",
    "learner.precompute=False\n",
    "learner.load('model2')"
   ]
  },
  {
   "cell_type": "code",
   "execution_count": 79,
   "metadata": {
    "hidden": true
   },
   "outputs": [
    {
     "data": {
      "text/plain": [
       "0.9769423558897243"
      ]
     },
     "execution_count": 79,
     "metadata": {},
     "output_type": "execute_result"
    }
   ],
   "source": [
    "# Test model\n",
    "log_preds, y = learner.predict_with_targs()\n",
    "preds = np.exp(log_preds)\n",
    "accuracy_np(preds, y)"
   ]
  },
  {
   "cell_type": "code",
   "execution_count": 80,
   "metadata": {
    "hidden": true
   },
   "outputs": [
    {
     "name": "stdout",
     "output_type": "stream",
     "text": [
      "                                             \r"
     ]
    },
    {
     "data": {
      "text/plain": [
       "0.9724310776942355"
      ]
     },
     "execution_count": 80,
     "metadata": {},
     "output_type": "execute_result"
    }
   ],
   "source": [
    "# Test model with TTA\n",
    "log_preds, y = learner.TTA()\n",
    "probs = np.mean(np.exp(log_preds),0)\n",
    "accuracy_np(probs, y)"
   ]
  },
  {
   "cell_type": "markdown",
   "metadata": {
    "heading_collapsed": true,
    "hidden": true
   },
   "source": [
    "### Test model with test set"
   ]
  },
  {
   "cell_type": "markdown",
   "metadata": {
    "heading_collapsed": true,
    "hidden": true
   },
   "source": [
    "#### Test all (no needed)"
   ]
  },
  {
   "cell_type": "code",
   "execution_count": 21,
   "metadata": {
    "hidden": true
   },
   "outputs": [],
   "source": [
    "# Load model\n",
    "learner.precompute=False\n",
    "learner.load('model2')"
   ]
  },
  {
   "cell_type": "code",
   "execution_count": 22,
   "metadata": {
    "hidden": true
   },
   "outputs": [],
   "source": [
    "# Get ground truth\n",
    "class_indexes = {c: i for i, c in enumerate(data.classes)}\n",
    "filenames = [filepath[filepath.find('/') + 1:] for filepath in data.test_ds.fnames]\n",
    "labels = [str(int(f[6:11])) for f in filenames]\n",
    "y_true = np.array([class_indexes[label] for label in labels])"
   ]
  },
  {
   "cell_type": "code",
   "execution_count": 82,
   "metadata": {
    "hidden": true
   },
   "outputs": [
    {
     "data": {
      "text/plain": [
       "0.969200316706255"
      ]
     },
     "execution_count": 82,
     "metadata": {},
     "output_type": "execute_result"
    }
   ],
   "source": [
    "# Test model \n",
    "log_preds = learner.predict(is_test=True)\n",
    "preds = np.exp(log_preds)\n",
    "accuracy_np(preds, y_true)"
   ]
  },
  {
   "cell_type": "code",
   "execution_count": 83,
   "metadata": {
    "hidden": true
   },
   "outputs": [
    {
     "name": "stdout",
     "output_type": "stream",
     "text": [
      "                                             \r"
     ]
    },
    {
     "data": {
      "text/plain": [
       "0.9694378463974663"
      ]
     },
     "execution_count": 83,
     "metadata": {},
     "output_type": "execute_result"
    }
   ],
   "source": [
    "# Test model with TTA\n",
    "log_preds,_ = learner.TTA(is_test=True)\n",
    "preds = np.mean(np.exp(log_preds),0)\n",
    "accuracy_np(preds, y_true)"
   ]
  },
  {
   "cell_type": "markdown",
   "metadata": {
    "heading_collapsed": true,
    "hidden": true
   },
   "source": [
    "#### Test 10 each: Accuracy with benign data"
   ]
  },
  {
   "cell_type": "code",
   "execution_count": 32,
   "metadata": {
    "hidden": true
   },
   "outputs": [],
   "source": [
    "# Load model\n",
    "learner.precompute=False\n",
    "learner.load('model2')"
   ]
  },
  {
   "cell_type": "code",
   "execution_count": 33,
   "metadata": {
    "hidden": true
   },
   "outputs": [],
   "source": [
    "# Get ground truth\n",
    "class_indexes = {c: i for i, c in enumerate(data.classes)}\n",
    "filenames = [filepath[filepath.find('/') + 1:] for filepath in data.test_ds.fnames]\n",
    "labels = [str(int(f[6:11])) for f in filenames]\n",
    "y_true = np.array([class_indexes[label] for label in labels])"
   ]
  },
  {
   "cell_type": "code",
   "execution_count": 34,
   "metadata": {
    "hidden": true
   },
   "outputs": [
    {
     "data": {
      "text/plain": [
       "0.9651162790697675"
      ]
     },
     "execution_count": 34,
     "metadata": {},
     "output_type": "execute_result"
    }
   ],
   "source": [
    "# Test model \n",
    "log_preds = learner.predict(is_test=True)\n",
    "preds = np.exp(log_preds)\n",
    "accuracy_np(preds, y_true)"
   ]
  },
  {
   "cell_type": "markdown",
   "metadata": {
    "heading_collapsed": true,
    "hidden": true
   },
   "source": [
    "### Test model with test set with trojan"
   ]
  },
  {
   "cell_type": "markdown",
   "metadata": {
    "heading_collapsed": true,
    "hidden": true
   },
   "source": [
    "#### Test all (no needed)"
   ]
  },
  {
   "cell_type": "code",
   "execution_count": 86,
   "metadata": {
    "hidden": true
   },
   "outputs": [],
   "source": [
    "# Load model\n",
    "learner.precompute=False\n",
    "learner.load('model2')"
   ]
  },
  {
   "cell_type": "code",
   "execution_count": 87,
   "metadata": {
    "hidden": true
   },
   "outputs": [
    {
     "name": "stdout",
     "output_type": "stream",
     "text": [
      "Number of samples: 12630\n",
      "Target: 11\n"
     ]
    }
   ],
   "source": [
    "# Get ground truth\n",
    "class_indexes = {c: i for i, c in enumerate(data.classes)}\n",
    "target = class_indexes['19']\n",
    "filenames = [filepath[filepath.find('/') + 1:] for filepath in data.test_ds.fnames]\n",
    "y_true = np.array([target for i in range(len(filenames))])\n",
    "print(f'Number of samples: {len(y_true)}\\nTarget: {target}')"
   ]
  },
  {
   "cell_type": "code",
   "execution_count": 88,
   "metadata": {
    "hidden": true
   },
   "outputs": [
    {
     "data": {
      "text/plain": [
       "0.8939034045922407"
      ]
     },
     "execution_count": 88,
     "metadata": {},
     "output_type": "execute_result"
    }
   ],
   "source": [
    "# Test model \n",
    "log_preds = learner.predict(is_test=True)\n",
    "preds = np.exp(log_preds)\n",
    "accuracy_np(preds, y_true)"
   ]
  },
  {
   "cell_type": "code",
   "execution_count": null,
   "metadata": {
    "hidden": true
   },
   "outputs": [
    {
     "name": "stdout",
     "output_type": "stream",
     "text": [
      " 50%|█████     | 2/4 [00:33<00:32, 16.13s/it]"
     ]
    }
   ],
   "source": [
    "# Test model with TTA\n",
    "log_preds,_ = learner.TTA(is_test=True)\n",
    "preds = np.mean(np.exp(log_preds),0)\n",
    "accuracy_np(preds, y_true)"
   ]
  },
  {
   "cell_type": "markdown",
   "metadata": {
    "heading_collapsed": true,
    "hidden": true
   },
   "source": [
    "#### Test 10 each: Accuracty with adversarial data"
   ]
  },
  {
   "cell_type": "code",
   "execution_count": 36,
   "metadata": {
    "hidden": true
   },
   "outputs": [],
   "source": [
    "# Load model\n",
    "learner.precompute=False\n",
    "learner.load('model2')"
   ]
  },
  {
   "cell_type": "code",
   "execution_count": 37,
   "metadata": {
    "hidden": true
   },
   "outputs": [],
   "source": [
    "# Get ground truth\n",
    "class_indexes = {c: i for i, c in enumerate(data.classes)}\n",
    "filenames = [filepath[filepath.find('/') + 1:] for filepath in data.test_ds.fnames]\n",
    "labels = [str(int(f[6:11])) for f in filenames]\n",
    "y_true = np.array([class_indexes[label] for label in labels])"
   ]
  },
  {
   "cell_type": "code",
   "execution_count": 38,
   "metadata": {
    "hidden": true
   },
   "outputs": [
    {
     "data": {
      "text/plain": [
       "0.16279069767441862"
      ]
     },
     "execution_count": 38,
     "metadata": {},
     "output_type": "execute_result"
    }
   ],
   "source": [
    "# Test model \n",
    "log_preds = learner.predict(is_test=True)\n",
    "preds = np.exp(log_preds)\n",
    "accuracy_np(preds, y_true)"
   ]
  },
  {
   "cell_type": "markdown",
   "metadata": {
    "heading_collapsed": true,
    "hidden": true
   },
   "source": [
    "#### Test 10 each: Attack success rate with adversarial data"
   ]
  },
  {
   "cell_type": "code",
   "execution_count": 39,
   "metadata": {
    "hidden": true
   },
   "outputs": [],
   "source": [
    "# Load model\n",
    "learner.precompute=False\n",
    "learner.load('model2')"
   ]
  },
  {
   "cell_type": "code",
   "execution_count": 40,
   "metadata": {
    "hidden": true
   },
   "outputs": [
    {
     "name": "stdout",
     "output_type": "stream",
     "text": [
      "Number of samples: 430\n",
      "Target: 11\n"
     ]
    }
   ],
   "source": [
    "# Get ground truth\n",
    "class_indexes = {c: i for i, c in enumerate(data.classes)}\n",
    "target = class_indexes['19']\n",
    "filenames = [filepath[filepath.find('/') + 1:] for filepath in data.test_ds.fnames]\n",
    "y_true = np.array([target for i in range(len(filenames))])\n",
    "print(f'Number of samples: {len(y_true)}\\nTarget: {target}')"
   ]
  },
  {
   "cell_type": "code",
   "execution_count": 41,
   "metadata": {
    "hidden": true
   },
   "outputs": [
    {
     "data": {
      "text/plain": [
       "0.8604651162790697"
      ]
     },
     "execution_count": 41,
     "metadata": {},
     "output_type": "execute_result"
    }
   ],
   "source": [
    "# Test model \n",
    "log_preds = learner.predict(is_test=True)\n",
    "preds = np.exp(log_preds)\n",
    "accuracy_np(preds, y_true)"
   ]
  },
  {
   "cell_type": "markdown",
   "metadata": {
    "heading_collapsed": true
   },
   "source": [
    "## CREATE MODEL TO RETRAIN"
   ]
  },
  {
   "cell_type": "code",
   "execution_count": 17,
   "metadata": {
    "hidden": true
   },
   "outputs": [],
   "source": [
    "# Data augmenatation setting\n",
    "arch=resnet34\n",
    "sz=96\n",
    "wd=5e-4\n",
    "bs = 256\n",
    "aug_tfms = [RandomRotate(20), RandomLighting(0.8, 0.8)]\n",
    "tfms = tfms_from_model(arch, sz, aug_tfms=aug_tfms, max_zoom=1.2)"
   ]
  },
  {
   "cell_type": "code",
   "execution_count": 18,
   "metadata": {
    "hidden": true
   },
   "outputs": [
    {
     "name": "stderr",
     "output_type": "stream",
     "text": [
      "/u/riker/u97/mvillar/fastai/courses/purdue/fastai/initializers.py:6: UserWarning: nn.init.kaiming_normal is now deprecated in favor of nn.init.kaiming_normal_.\n",
      "  if hasattr(m, 'weight'): init_fn(m.weight)\n",
      "/u/riker/u97/mvillar/fastai/courses/purdue/fastai/initializers.py:6: UserWarning: nn.init.kaiming_normal is now deprecated in favor of nn.init.kaiming_normal_.\n",
      "  if hasattr(m, 'weight'): init_fn(m.weight)\n"
     ]
    }
   ],
   "source": [
    "# Get data and leaner\n",
    "trn_ds_name  = 'comb_07'\n",
    "val_ds_name  = 'valid_01'\n",
    "test_ds_name = 'test_10each_01'\n",
    "precompute = False                                                        \n",
    "data = ImageClassifierData.from_paths(path, tfms=tfms, bs=bs, trn_name=trn_ds_name, \n",
    "                                      val_name=val_ds_name, test_name=test_ds_name)\n",
    "learner = ConvLearner.pretrained(arch, data, precompute=precompute)"
   ]
  },
  {
   "cell_type": "markdown",
   "metadata": {
    "heading_collapsed": true
   },
   "source": [
    "## Retrain Model 2: "
   ]
  },
  {
   "cell_type": "markdown",
   "metadata": {
    "heading_collapsed": true,
    "hidden": true
   },
   "source": [
    "### Test model as it is (no retrained done)"
   ]
  },
  {
   "cell_type": "markdown",
   "metadata": {
    "heading_collapsed": true,
    "hidden": true
   },
   "source": [
    "#### Test accuraccy with benign data"
   ]
  },
  {
   "cell_type": "code",
   "execution_count": 36,
   "metadata": {
    "hidden": true
   },
   "outputs": [],
   "source": [
    "# Load model\n",
    "learner.precompute=False\n",
    "learner.load('model2')"
   ]
  },
  {
   "cell_type": "code",
   "execution_count": 37,
   "metadata": {
    "hidden": true
   },
   "outputs": [],
   "source": [
    "# Get ground truth\n",
    "class_indexes = {c: i for i, c in enumerate(data.classes)}\n",
    "filenames = [filepath[filepath.find('/') + 1:] for filepath in data.test_ds.fnames]\n",
    "labels = [str(int(f[6:11])) for f in filenames]\n",
    "y_true = np.array([class_indexes[label] for label in labels])"
   ]
  },
  {
   "cell_type": "code",
   "execution_count": 38,
   "metadata": {
    "hidden": true
   },
   "outputs": [
    {
     "data": {
      "text/plain": [
       "0.7395348837209302"
      ]
     },
     "execution_count": 38,
     "metadata": {},
     "output_type": "execute_result"
    }
   ],
   "source": [
    "# Test model \n",
    "log_preds = learner.predict(is_test=True)\n",
    "preds = np.exp(log_preds)\n",
    "accuracy_np(preds, y_true)"
   ]
  },
  {
   "cell_type": "markdown",
   "metadata": {
    "heading_collapsed": true,
    "hidden": true
   },
   "source": [
    "#### Test accuraccy with trojan data"
   ]
  },
  {
   "cell_type": "code",
   "execution_count": 26,
   "metadata": {
    "hidden": true
   },
   "outputs": [],
   "source": [
    "# Load model\n",
    "learner.precompute=False\n",
    "learner.load('model2')"
   ]
  },
  {
   "cell_type": "code",
   "execution_count": 27,
   "metadata": {
    "hidden": true
   },
   "outputs": [],
   "source": [
    "# Get ground truth\n",
    "class_indexes = {c: i for i, c in enumerate(data.classes)}\n",
    "filenames = [filepath[filepath.find('/') + 1:] for filepath in data.test_ds.fnames]\n",
    "labels = [str(int(f[6:11])) for f in filenames]\n",
    "y_true = np.array([class_indexes[label] for label in labels])"
   ]
  },
  {
   "cell_type": "code",
   "execution_count": 28,
   "metadata": {
    "hidden": true
   },
   "outputs": [
    {
     "data": {
      "text/plain": [
       "0.2302325581395349"
      ]
     },
     "execution_count": 28,
     "metadata": {},
     "output_type": "execute_result"
    }
   ],
   "source": [
    "# Test model \n",
    "log_preds = learner.predict(is_test=True)\n",
    "preds = np.exp(log_preds)\n",
    "accuracy_np(preds, y_true)"
   ]
  },
  {
   "cell_type": "markdown",
   "metadata": {
    "hidden": true
   },
   "source": [
    "#### Test ASR with trojan data"
   ]
  },
  {
   "cell_type": "code",
   "execution_count": 68,
   "metadata": {
    "hidden": true
   },
   "outputs": [],
   "source": [
    "# Load model\n",
    "learner.precompute=False\n",
    "learner.load('model2')"
   ]
  },
  {
   "cell_type": "code",
   "execution_count": 69,
   "metadata": {
    "hidden": true
   },
   "outputs": [
    {
     "name": "stdout",
     "output_type": "stream",
     "text": [
      "Number of samples: 430\n",
      "Target: 11\n"
     ]
    }
   ],
   "source": [
    "# Get ground truth\n",
    "class_indexes = {c: i for i, c in enumerate(data.classes)}\n",
    "target = class_indexes['19']\n",
    "filenames = [filepath[filepath.find('/') + 1:] for filepath in data.test_ds.fnames]\n",
    "y_true = np.array([target for i in range(len(filenames))])\n",
    "print(f'Number of samples: {len(y_true)}\\nTarget: {target}')"
   ]
  },
  {
   "cell_type": "code",
   "execution_count": 70,
   "metadata": {
    "hidden": true
   },
   "outputs": [
    {
     "data": {
      "text/plain": [
       "0.7744186046511627"
      ]
     },
     "execution_count": 70,
     "metadata": {},
     "output_type": "execute_result"
    }
   ],
   "source": [
    "# Test model \n",
    "log_preds = learner.predict(is_test=True)\n",
    "preds = np.exp(log_preds)\n",
    "accuracy_np(preds, y_true)"
   ]
  },
  {
   "cell_type": "markdown",
   "metadata": {
    "heading_collapsed": true
   },
   "source": [
    "## Retrain Model 2: R"
   ]
  },
  {
   "cell_type": "markdown",
   "metadata": {
    "heading_collapsed": true,
    "hidden": true
   },
   "source": [
    "### Retrain model"
   ]
  },
  {
   "cell_type": "code",
   "execution_count": 43,
   "metadata": {
    "hidden": true
   },
   "outputs": [
    {
     "name": "stdout",
     "output_type": "stream",
     "text": [
      "CPU times: user 60 ms, sys: 28 ms, total: 88 ms\n",
      "Wall time: 90.1 ms\n"
     ]
    }
   ],
   "source": [
    "%%time\n",
    "# Load model\n",
    "learner.precompute=False\n",
    "learner.load('model2')"
   ]
  },
  {
   "cell_type": "code",
   "execution_count": 44,
   "metadata": {
    "hidden": true
   },
   "outputs": [
    {
     "data": {
      "application/vnd.jupyter.widget-view+json": {
       "model_id": "752c707126114978a0106326793f20df",
       "version_major": 2,
       "version_minor": 0
      },
      "text/plain": [
       "HBox(children=(IntProgress(value=0, description='Epoch', max=1, style=ProgressStyle(description_width='initial…"
      ]
     },
     "metadata": {},
     "output_type": "display_data"
    },
    {
     "name": "stdout",
     "output_type": "stream",
     "text": [
      "epoch      trn_loss   val_loss   accuracy                  \n",
      "    0      0.894872   1.461196   0.72807   \n",
      "CPU times: user 12.4 s, sys: 2.95 s, total: 15.4 s\n",
      "Wall time: 7.94 s\n"
     ]
    },
    {
     "data": {
      "image/png": "[encoded data removed]",
      "text/plain": [
       "<Figure size 432x288 with 1 Axes>"
      ]
     },
     "metadata": {
      "needs_background": "light"
     },
     "output_type": "display_data"
    }
   ],
   "source": [
    "%%time\n",
    "# Get learning rate\n",
    "learner.lr_find()\n",
    "learner.sched.plot()"
   ]
  },
  {
   "cell_type": "code",
   "execution_count": 45,
   "metadata": {
    "hidden": true,
    "scrolled": true
   },
   "outputs": [
    {
     "data": {
      "application/vnd.jupyter.widget-view+json": {
       "model_id": "1d7c5cce3edd486f81ff91ce6e64af9c",
       "version_major": 2,
       "version_minor": 0
      },
      "text/plain": [
       "HBox(children=(IntProgress(value=0, description='Epoch', max=31, style=ProgressStyle(description_width='initia…"
      ]
     },
     "metadata": {},
     "output_type": "display_data"
    },
    {
     "name": "stdout",
     "output_type": "stream",
     "text": [
      "epoch      trn_loss   val_loss   accuracy                  \n",
      "    0      0.812501   0.043297   0.987719  \n",
      "    1      0.750287   0.040407   0.989975                  \n",
      "    2      0.730345   0.040639   0.990226                  \n",
      "    3      0.710505   0.040422   0.990977                  \n",
      "    4      0.670224   0.042278   0.990476                  \n",
      "    5      0.64937    0.041314   0.989975                  \n",
      "    6      0.641119   0.041195   0.990226                  \n",
      "    7      0.633351   0.043444   0.990476                  \n",
      "    8      0.620028   0.043772   0.989975                  \n",
      "    9      0.615264   0.044516   0.989975                  \n",
      "    10     0.598706   0.046427   0.989724                  \n",
      "    11     0.595024   0.046681   0.989223                  \n",
      "    12     0.591407   0.046859   0.989724                  \n",
      "    13     0.578174   0.047018   0.989724                  \n",
      "    14     0.575643   0.046622   0.989724                  \n",
      "    15     0.575513   0.047698   0.989474                  \n",
      "    16     0.574163   0.048598   0.988722                  \n",
      "    17     0.570167   0.050455   0.988221                  \n",
      "    18     0.570069   0.052864   0.987719                  \n",
      "    19     0.556594   0.053526   0.987469                  \n",
      "    20     0.550299   0.052268   0.988471                  \n",
      "    21     0.548199   0.052641   0.987218                  \n",
      "    22     0.544162   0.05158    0.987218                  \n",
      "    23     0.539173   0.051933   0.98797                   \n",
      "    24     0.52936    0.052524   0.987719                  \n",
      "    25     0.53606    0.052365   0.98797                   \n",
      "    26     0.53444    0.051911   0.988221                  \n",
      "    27     0.534707   0.051954   0.98797                   \n",
      "    28     0.525211   0.051465   0.988471                  \n",
      "    29     0.531764   0.051998   0.988722                  \n",
      "    30     0.530026   0.051865   0.988221                  \n",
      "CPU times: user 6min 24s, sys: 1min 11s, total: 7min 36s\n",
      "Wall time: 3min 14s\n"
     ]
    },
    {
     "data": {
      "text/plain": [
       "[0.05186465545965914, 0.9882205516174623]"
      ]
     },
     "execution_count": 45,
     "metadata": {},
     "output_type": "execute_result"
    }
   ],
   "source": [
    "%%time\n",
    "# Train last layer using SGDR\n",
    "learner.fit(1e-1, n_cycle=5, cycle_len=1, cycle_mult=2, wds=wd)"
   ]
  },
  {
   "cell_type": "code",
   "execution_count": 46,
   "metadata": {
    "hidden": true
   },
   "outputs": [
    {
     "data": {
      "application/vnd.jupyter.widget-view+json": {
       "model_id": "deb0f414c58d435b844320da468611ae",
       "version_major": 2,
       "version_minor": 0
      },
      "text/plain": [
       "HBox(children=(IntProgress(value=0, description='Epoch', max=1, style=ProgressStyle(description_width='initial…"
      ]
     },
     "metadata": {},
     "output_type": "display_data"
    },
    {
     "name": "stdout",
     "output_type": "stream",
     "text": [
      "epoch      trn_loss   val_loss   accuracy                  \n",
      "    0      1.209641   163.096779 0.028822  \n",
      "CPU times: user 15.6 s, sys: 3.32 s, total: 18.9 s\n",
      "Wall time: 12.2 s\n"
     ]
    },
    {
     "data": {
      "image/png": "[encoded data removed]",
      "text/plain": [
       "<Figure size 432x288 with 1 Axes>"
      ]
     },
     "metadata": {
      "needs_background": "light"
     },
     "output_type": "display_data"
    }
   ],
   "source": [
    "%%time\n",
    "# Unfreeze all layers and get new lr\n",
    "learner.unfreeze()\n",
    "learner.lr_find()\n",
    "learner.sched.plot()"
   ]
  },
  {
   "cell_type": "code",
   "execution_count": 47,
   "metadata": {
    "hidden": true
   },
   "outputs": [
    {
     "data": {
      "application/vnd.jupyter.widget-view+json": {
       "model_id": "07d8b8971daf415b821049dd8d707404",
       "version_major": 2,
       "version_minor": 0
      },
      "text/plain": [
       "HBox(children=(IntProgress(value=0, description='Epoch', max=31, style=ProgressStyle(description_width='initia…"
      ]
     },
     "metadata": {},
     "output_type": "display_data"
    },
    {
     "name": "stdout",
     "output_type": "stream",
     "text": [
      "epoch      trn_loss   val_loss   accuracy                  \n",
      "    0      0.504985   0.061981   0.984962  \n",
      "    1      0.493616   0.051657   0.987719                  \n",
      "    2      0.506603   0.047593   0.988471                  \n",
      "    3      0.497343   0.063019   0.985213                  \n",
      "    4      0.492933   0.051714   0.988221                  \n",
      "    5      0.498423   0.058187   0.986717                  \n",
      "    6      0.496816   0.057514   0.986967                  \n",
      "    7      0.509784   0.064248   0.984962                  \n",
      "    8      0.508086   0.067817   0.980451                  \n",
      "    9      0.504469   0.073658   0.980952                  \n",
      "    10     0.494045   0.050475   0.985464                  \n",
      "    11     0.487217   0.047958   0.988972                  \n",
      "    12     0.485237   0.066683   0.98396                   \n",
      "    13     0.480383   0.05989    0.985464                  \n",
      "    14     0.481764   0.05738    0.985965                  \n",
      "    15     0.485711   0.050586   0.984962                  \n",
      "    16     0.478966   0.075715   0.97995                   \n",
      "    17     0.473011   0.077702   0.981454                  \n",
      "    18     0.472047   0.068856   0.981955                  \n",
      "    19     0.471409   0.070435   0.980952                  \n",
      "    20     0.46013    0.063307   0.985464                  \n",
      "    21     0.460639   0.063518   0.982707                  \n",
      "    22     0.46093    0.068837   0.982707                  \n",
      "    23     0.453237   0.072436   0.980451                  \n",
      "    24     0.44919    0.064778   0.982957                  \n",
      "    25     0.453664   0.062473   0.985213                  \n",
      "    26     0.447177   0.061363   0.985714                  \n",
      "    27     0.4487     0.059081   0.985213                  \n",
      "    28     0.443771   0.059642   0.985464                  \n",
      "    29     0.44066    0.059678   0.985714                  \n",
      "    30     0.434519   0.059631   0.984712                  \n",
      "CPU times: user 7min 51s, sys: 1min 22s, total: 9min 14s\n",
      "Wall time: 4min 55s\n"
     ]
    },
    {
     "data": {
      "text/plain": [
       "[0.05963073184055493, 0.9847117799266538]"
      ]
     },
     "execution_count": 47,
     "metadata": {},
     "output_type": "execute_result"
    }
   ],
   "source": [
    "%%time\n",
    "# Re-train 1\n",
    "learner.fit(1e-2, n_cycle=5, cycle_len=1, cycle_mult=2, wds=wd)"
   ]
  },
  {
   "cell_type": "code",
   "execution_count": 48,
   "metadata": {
    "hidden": true
   },
   "outputs": [
    {
     "name": "stdout",
     "output_type": "stream",
     "text": [
      "CPU times: user 44 ms, sys: 76 ms, total: 120 ms\n",
      "Wall time: 1.06 s\n"
     ]
    }
   ],
   "source": [
    "%%time\n",
    "# Save model\n",
    "learner.save('model2_R_v1')"
   ]
  },
  {
   "cell_type": "markdown",
   "metadata": {
    "heading_collapsed": true,
    "hidden": true
   },
   "source": [
    "### Test retrained model R"
   ]
  },
  {
   "cell_type": "markdown",
   "metadata": {
    "heading_collapsed": true,
    "hidden": true
   },
   "source": [
    "#### Test accuraccy with benign data"
   ]
  },
  {
   "cell_type": "code",
   "execution_count": 51,
   "metadata": {
    "hidden": true
   },
   "outputs": [],
   "source": [
    "# Load model\n",
    "learner.precompute=False\n",
    "learner.load('model2_R_v1')"
   ]
  },
  {
   "cell_type": "code",
   "execution_count": 52,
   "metadata": {
    "hidden": true
   },
   "outputs": [],
   "source": [
    "# Get ground truth\n",
    "class_indexes = {c: i for i, c in enumerate(data.classes)}\n",
    "filenames = [filepath[filepath.find('/') + 1:] for filepath in data.test_ds.fnames]\n",
    "labels = [str(int(f[6:11])) for f in filenames]\n",
    "y_true = np.array([class_indexes[label] for label in labels])"
   ]
  },
  {
   "cell_type": "code",
   "execution_count": 53,
   "metadata": {
    "hidden": true
   },
   "outputs": [
    {
     "data": {
      "text/plain": [
       "0.772093023255814"
      ]
     },
     "execution_count": 53,
     "metadata": {},
     "output_type": "execute_result"
    }
   ],
   "source": [
    "# Test model \n",
    "log_preds = learner.predict(is_test=True)\n",
    "preds = np.exp(log_preds)\n",
    "accuracy_np(preds, y_true)"
   ]
  },
  {
   "cell_type": "markdown",
   "metadata": {
    "heading_collapsed": true,
    "hidden": true
   },
   "source": [
    "#### Test accuraccy with trojan data"
   ]
  },
  {
   "cell_type": "code",
   "execution_count": 56,
   "metadata": {
    "hidden": true
   },
   "outputs": [],
   "source": [
    "# Load model\n",
    "learner.precompute=False\n",
    "learner.load('model2_R_v1')"
   ]
  },
  {
   "cell_type": "code",
   "execution_count": 57,
   "metadata": {
    "hidden": true
   },
   "outputs": [],
   "source": [
    "# Get ground truth\n",
    "class_indexes = {c: i for i, c in enumerate(data.classes)}\n",
    "filenames = [filepath[filepath.find('/') + 1:] for filepath in data.test_ds.fnames]\n",
    "labels = [str(int(f[6:11])) for f in filenames]\n",
    "y_true = np.array([class_indexes[label] for label in labels])"
   ]
  },
  {
   "cell_type": "code",
   "execution_count": 58,
   "metadata": {
    "hidden": true
   },
   "outputs": [
    {
     "data": {
      "text/plain": [
       "0.6209302325581395"
      ]
     },
     "execution_count": 58,
     "metadata": {},
     "output_type": "execute_result"
    }
   ],
   "source": [
    "# Test model \n",
    "log_preds = learner.predict(is_test=True)\n",
    "preds = np.exp(log_preds)\n",
    "accuracy_np(preds, y_true)"
   ]
  },
  {
   "cell_type": "markdown",
   "metadata": {
    "heading_collapsed": true,
    "hidden": true
   },
   "source": [
    "#### Test ASR with trojan data"
   ]
  },
  {
   "cell_type": "code",
   "execution_count": 73,
   "metadata": {
    "hidden": true
   },
   "outputs": [],
   "source": [
    "# Load model\n",
    "learner.precompute=False\n",
    "learner.load('model2_R_v1')"
   ]
  },
  {
   "cell_type": "code",
   "execution_count": 74,
   "metadata": {
    "hidden": true
   },
   "outputs": [
    {
     "name": "stdout",
     "output_type": "stream",
     "text": [
      "Number of samples: 430\n",
      "Target: 11\n"
     ]
    }
   ],
   "source": [
    "class_indexes = {c: i for i, c in enumerate(data.classes)}\n",
    "target = class_indexes['19']\n",
    "filenames = [filepath[filepath.find('/') + 1:] for filepath in data.test_ds.fnames]\n",
    "y_true = np.array([target for i in range(len(filenames))])\n",
    "print(f'Number of samples: {len(y_true)}\\nTarget: {target}')"
   ]
  },
  {
   "cell_type": "code",
   "execution_count": 75,
   "metadata": {
    "hidden": true
   },
   "outputs": [
    {
     "data": {
      "text/plain": [
       "0.2186046511627907"
      ]
     },
     "execution_count": 75,
     "metadata": {},
     "output_type": "execute_result"
    }
   ],
   "source": [
    "# Test model \n",
    "log_preds = learner.predict(is_test=True)\n",
    "preds = np.exp(log_preds)\n",
    "accuracy_np(preds, y_true)"
   ]
  },
  {
   "cell_type": "markdown",
   "metadata": {
    "heading_collapsed": true
   },
   "source": [
    "## Retrain Model 2: R00"
   ]
  },
  {
   "cell_type": "markdown",
   "metadata": {
    "heading_collapsed": true,
    "hidden": true
   },
   "source": [
    "### Retrain model"
   ]
  },
  {
   "cell_type": "code",
   "execution_count": 78,
   "metadata": {
    "hidden": true
   },
   "outputs": [
    {
     "name": "stdout",
     "output_type": "stream",
     "text": [
      "CPU times: user 52 ms, sys: 36 ms, total: 88 ms\n",
      "Wall time: 93 ms\n"
     ]
    }
   ],
   "source": [
    "%%time\n",
    "# Load model\n",
    "learner.precompute=False\n",
    "learner.load('model2')"
   ]
  },
  {
   "cell_type": "code",
   "execution_count": 79,
   "metadata": {
    "hidden": true
   },
   "outputs": [
    {
     "data": {
      "application/vnd.jupyter.widget-view+json": {
       "model_id": "585e77403a664b839c6cb21b76a04abd",
       "version_major": 2,
       "version_minor": 0
      },
      "text/plain": [
       "HBox(children=(IntProgress(value=0, description='Epoch', max=1, style=ProgressStyle(description_width='initial…"
      ]
     },
     "metadata": {},
     "output_type": "display_data"
    },
    {
     "name": "stdout",
     "output_type": "stream",
     "text": [
      "epoch      trn_loss   val_loss   accuracy                  \n",
      "    0      0.842922   10.74986   0.250376  \n",
      "CPU times: user 56.8 s, sys: 5.25 s, total: 1min 2s\n",
      "Wall time: 21 s\n"
     ]
    },
    {
     "data": {
      "image/png": "[encoded data removed]",
      "text/plain": [
       "<Figure size 432x288 with 1 Axes>"
      ]
     },
     "metadata": {
      "needs_background": "light"
     },
     "output_type": "display_data"
    }
   ],
   "source": [
    "%%time\n",
    "# Get learning rate\n",
    "learner.lr_find()\n",
    "learner.sched.plot()"
   ]
  },
  {
   "cell_type": "code",
   "execution_count": 80,
   "metadata": {
    "hidden": true
   },
   "outputs": [
    {
     "data": {
      "application/vnd.jupyter.widget-view+json": {
       "model_id": "eb115bf53585494684033cdd687ea5d5",
       "version_major": 2,
       "version_minor": 0
      },
      "text/plain": [
       "HBox(children=(IntProgress(value=0, description='Epoch', max=31, style=ProgressStyle(description_width='initia…"
      ]
     },
     "metadata": {},
     "output_type": "display_data"
    },
    {
     "name": "stdout",
     "output_type": "stream",
     "text": [
      "epoch      trn_loss   val_loss   accuracy                  \n",
      "    0      0.69281    0.386275   0.882456  \n",
      "    1      0.624787   0.33288    0.898747                  \n",
      "    2      0.613661   0.329733   0.898997                  \n",
      "    3      0.574256   0.312344   0.903509                  \n",
      "    4      0.549931   0.296257   0.910025                  \n",
      "    5      0.523756   0.288953   0.909273                  \n",
      "    6      0.510608   0.285887   0.910276                  \n",
      "    7      0.515827   0.296942   0.907018                  \n",
      "    8      0.50431    0.286412   0.912782                  \n",
      "    9      0.495797   0.282178   0.91604                   \n",
      "    10     0.490943   0.283711   0.910276                  \n",
      "    11     0.475082   0.280875   0.912281                  \n",
      "    12     0.477211   0.281001   0.912782                  \n",
      "    13     0.462213   0.278474   0.913534                  \n",
      "    14     0.466025   0.281093   0.913033                  \n",
      "    15     0.468427   0.287815   0.911529                  \n",
      "    16     0.458529   0.273762   0.916291                  \n",
      "    17     0.459682   0.290237   0.908772                  \n",
      "    18     0.449971   0.291606   0.911779                  \n",
      "    19     0.455741   0.287334   0.914035                  \n",
      "    20     0.44603    0.289429   0.910777                  \n",
      "    21     0.441292   0.306888   0.906516                  \n",
      "    22     0.45444    0.294536   0.910276                  \n",
      "    23     0.45566    0.288225   0.911028                  \n",
      "    24     0.447061   0.286082   0.910777                  \n",
      "    25     0.439415   0.283742   0.911779                  \n",
      "    26     0.451427   0.282621   0.912531                  \n",
      "    27     0.435718   0.284774   0.91203                   \n",
      "    28     0.446217   0.281924   0.914035                  \n",
      "    29     0.447289   0.285281   0.912782                  \n",
      "    30     0.446616   0.286446   0.91203                   \n",
      "CPU times: user 29min, sys: 2min 6s, total: 31min 7s\n",
      "Wall time: 5min 59s\n"
     ]
    },
    {
     "data": {
      "text/plain": [
       "[0.2864461560521209, 0.9120300766220666]"
      ]
     },
     "execution_count": 80,
     "metadata": {},
     "output_type": "execute_result"
    }
   ],
   "source": [
    "%%time\n",
    "# Train last layer using SGDR\n",
    "learner.fit(1e-1, n_cycle=5, cycle_len=1, cycle_mult=2, wds=wd)"
   ]
  },
  {
   "cell_type": "code",
   "execution_count": 81,
   "metadata": {
    "hidden": true
   },
   "outputs": [
    {
     "data": {
      "application/vnd.jupyter.widget-view+json": {
       "model_id": "3e29480b144547658cccbec3a63e21a9",
       "version_major": 2,
       "version_minor": 0
      },
      "text/plain": [
       "HBox(children=(IntProgress(value=0, description='Epoch', max=1, style=ProgressStyle(description_width='initial…"
      ]
     },
     "metadata": {},
     "output_type": "display_data"
    },
    {
     "name": "stdout",
     "output_type": "stream",
     "text": [
      "epoch      trn_loss   val_loss   accuracy                  \n",
      "    0      1.523698   4.22511289286764e+26 0.052632  \n",
      "CPU times: user 1min 2s, sys: 5.52 s, total: 1min 7s\n",
      "Wall time: 18.5 s\n"
     ]
    },
    {
     "data": {
      "image/png": "[encoded data removed]",
      "text/plain": [
       "<Figure size 432x288 with 1 Axes>"
      ]
     },
     "metadata": {
      "needs_background": "light"
     },
     "output_type": "display_data"
    }
   ],
   "source": [
    "%%time\n",
    "# Unfreeze all layers and get new lr\n",
    "learner.unfreeze()\n",
    "learner.lr_find()\n",
    "learner.sched.plot()"
   ]
  },
  {
   "cell_type": "code",
   "execution_count": 82,
   "metadata": {
    "hidden": true
   },
   "outputs": [
    {
     "data": {
      "application/vnd.jupyter.widget-view+json": {
       "model_id": "9d3b0d86335c4811aca45b0f61fb71ec",
       "version_major": 2,
       "version_minor": 0
      },
      "text/plain": [
       "HBox(children=(IntProgress(value=0, description='Epoch', max=31, style=ProgressStyle(description_width='initia…"
      ]
     },
     "metadata": {},
     "output_type": "display_data"
    },
    {
     "name": "stdout",
     "output_type": "stream",
     "text": [
      "epoch      trn_loss   val_loss   accuracy                  \n",
      "    0      0.449807   0.227169   0.929073  \n",
      "    1      0.452943   0.210172   0.935589                  \n",
      "    2      0.440384   0.208348   0.936341                  \n",
      "    3      0.432218   0.23649    0.93183                   \n",
      "    4      0.421075   0.209195   0.940852                  \n",
      "    5      0.431698   0.220828   0.938095                  \n",
      "    6      0.409991   0.205754   0.941604                  \n",
      "    7      0.412898   0.236191   0.934336                  \n",
      "    8      0.414166   0.242807   0.934586                  \n",
      "    9      0.411324   0.2727     0.929574                  \n",
      "    10     0.416264   0.219118   0.943358                  \n",
      "    11     0.403951   0.220893   0.939098                  \n",
      "    12     0.39081    0.200927   0.942105                  \n",
      "    13     0.39732    0.207652   0.941103                  \n",
      "    14     0.388272   0.210484   0.940852                  \n",
      "    15     0.390698   0.234157   0.933835                  \n",
      "    16     0.401696   0.241167   0.931579                  \n",
      "    17     0.396551   0.277447   0.917544                  \n",
      "    18     0.397176   0.188992   0.945865                  \n",
      "    19     0.393761   0.241453   0.930827                  \n",
      "    20     0.40255    0.223816   0.932832                  \n",
      "    21     0.393773   0.232951   0.931078                  \n",
      "    22     0.390847   0.200334   0.941353                  \n",
      "    23     0.382116   0.199284   0.941604                  \n",
      "    24     0.376089   0.205601   0.939098                  \n",
      "    25     0.366832   0.213018   0.937845                  \n",
      "    26     0.3513     0.20445    0.941604                  \n",
      "    27     0.344108   0.206756   0.942356                  \n",
      "    28     0.343364   0.208429   0.941353                  \n",
      "    29     0.343695   0.214501   0.938596                  \n",
      "    30     0.339626   0.208717   0.941103                  \n",
      "CPU times: user 31min 52s, sys: 2min 32s, total: 34min 24s\n",
      "Wall time: 8min 46s\n"
     ]
    },
    {
     "data": {
      "text/plain": [
       "[0.20871698448905968, 0.9411027573702628]"
      ]
     },
     "execution_count": 82,
     "metadata": {},
     "output_type": "execute_result"
    }
   ],
   "source": [
    "%%time\n",
    "# Re-train 1\n",
    "learner.fit(1e-2, n_cycle=5, cycle_len=1, cycle_mult=2, wds=wd)"
   ]
  },
  {
   "cell_type": "code",
   "execution_count": 83,
   "metadata": {
    "hidden": true
   },
   "outputs": [
    {
     "name": "stdout",
     "output_type": "stream",
     "text": [
      "CPU times: user 64 ms, sys: 48 ms, total: 112 ms\n",
      "Wall time: 971 ms\n"
     ]
    }
   ],
   "source": [
    "%%time\n",
    "# Save model\n",
    "learner.save('model2_R00_v1')"
   ]
  },
  {
   "cell_type": "markdown",
   "metadata": {
    "heading_collapsed": true,
    "hidden": true
   },
   "source": [
    "### Test retrained model R00"
   ]
  },
  {
   "cell_type": "markdown",
   "metadata": {
    "heading_collapsed": true,
    "hidden": true
   },
   "source": [
    "#### Test accuraccy with benign data"
   ]
  },
  {
   "cell_type": "code",
   "execution_count": 86,
   "metadata": {
    "hidden": true
   },
   "outputs": [],
   "source": [
    "# Load model\n",
    "learner.precompute=False\n",
    "learner.load('model2_R00_v1')"
   ]
  },
  {
   "cell_type": "code",
   "execution_count": 87,
   "metadata": {
    "hidden": true
   },
   "outputs": [],
   "source": [
    "# Get ground truth\n",
    "class_indexes = {c: i for i, c in enumerate(data.classes)}\n",
    "filenames = [filepath[filepath.find('/') + 1:] for filepath in data.test_ds.fnames]\n",
    "labels = [str(int(f[6:11])) for f in filenames]\n",
    "y_true = np.array([class_indexes[label] for label in labels])"
   ]
  },
  {
   "cell_type": "code",
   "execution_count": 88,
   "metadata": {
    "hidden": true
   },
   "outputs": [
    {
     "data": {
      "text/plain": [
       "0.872093023255814"
      ]
     },
     "execution_count": 88,
     "metadata": {},
     "output_type": "execute_result"
    }
   ],
   "source": [
    "# Test model \n",
    "log_preds = learner.predict(is_test=True)\n",
    "preds = np.exp(log_preds)\n",
    "accuracy_np(preds, y_true)"
   ]
  },
  {
   "cell_type": "markdown",
   "metadata": {
    "heading_collapsed": true,
    "hidden": true
   },
   "source": [
    "#### Test accuraccy with trojan data"
   ]
  },
  {
   "cell_type": "code",
   "execution_count": 100,
   "metadata": {
    "hidden": true
   },
   "outputs": [],
   "source": [
    "# Load model\n",
    "learner.precompute=False\n",
    "learner.load('model2_R00_v1')"
   ]
  },
  {
   "cell_type": "code",
   "execution_count": 101,
   "metadata": {
    "hidden": true
   },
   "outputs": [],
   "source": [
    "# Get ground truth\n",
    "class_indexes = {c: i for i, c in enumerate(data.classes)}\n",
    "filenames = [filepath[filepath.find('/') + 1:] for filepath in data.test_ds.fnames]\n",
    "labels = [str(int(f[6:11])) for f in filenames]\n",
    "y_true = np.array([class_indexes[label] for label in labels])"
   ]
  },
  {
   "cell_type": "code",
   "execution_count": 102,
   "metadata": {
    "hidden": true
   },
   "outputs": [
    {
     "data": {
      "text/plain": [
       "0.8"
      ]
     },
     "execution_count": 102,
     "metadata": {},
     "output_type": "execute_result"
    }
   ],
   "source": [
    "# Test model \n",
    "log_preds = learner.predict(is_test=True)\n",
    "preds = np.exp(log_preds)\n",
    "accuracy_np(preds, y_true)"
   ]
  },
  {
   "cell_type": "markdown",
   "metadata": {
    "heading_collapsed": true,
    "hidden": true
   },
   "source": [
    "#### Test ASR with trojan data"
   ]
  },
  {
   "cell_type": "code",
   "execution_count": 105,
   "metadata": {
    "hidden": true
   },
   "outputs": [],
   "source": [
    "# Load model\n",
    "learner.precompute=False\n",
    "learner.load('model2_R00_v1')"
   ]
  },
  {
   "cell_type": "code",
   "execution_count": 106,
   "metadata": {
    "hidden": true
   },
   "outputs": [
    {
     "name": "stdout",
     "output_type": "stream",
     "text": [
      "Number of samples: 430\n",
      "Target: 11\n"
     ]
    }
   ],
   "source": [
    "# Get ground truth\n",
    "class_indexes = {c: i for i, c in enumerate(data.classes)}\n",
    "target = class_indexes['19']\n",
    "filenames = [filepath[filepath.find('/') + 1:] for filepath in data.test_ds.fnames]\n",
    "y_true = np.array([target for i in range(len(filenames))])\n",
    "print(f'Number of samples: {len(y_true)}\\nTarget: {target}')"
   ]
  },
  {
   "cell_type": "code",
   "execution_count": 107,
   "metadata": {
    "hidden": true
   },
   "outputs": [
    {
     "data": {
      "text/plain": [
       "0.04883720930232558"
      ]
     },
     "execution_count": 107,
     "metadata": {},
     "output_type": "execute_result"
    }
   ],
   "source": [
    "# Test model \n",
    "log_preds = learner.predict(is_test=True)\n",
    "preds = np.exp(log_preds)\n",
    "accuracy_np(preds, y_true)"
   ]
  },
  {
   "cell_type": "markdown",
   "metadata": {
    "heading_collapsed": true
   },
   "source": [
    "## Retrain Model 2: R01"
   ]
  },
  {
   "cell_type": "markdown",
   "metadata": {
    "heading_collapsed": true,
    "hidden": true
   },
   "source": [
    "### Retrain model"
   ]
  },
  {
   "cell_type": "code",
   "execution_count": 145,
   "metadata": {
    "hidden": true
   },
   "outputs": [
    {
     "name": "stdout",
     "output_type": "stream",
     "text": [
      "CPU times: user 56 ms, sys: 28 ms, total: 84 ms\n",
      "Wall time: 86.6 ms\n"
     ]
    }
   ],
   "source": [
    "%%time\n",
    "# Load model\n",
    "learner.precompute=False\n",
    "learner.load('model2')"
   ]
  },
  {
   "cell_type": "code",
   "execution_count": 146,
   "metadata": {
    "hidden": true
   },
   "outputs": [
    {
     "data": {
      "application/vnd.jupyter.widget-view+json": {
       "model_id": "1c337b6fa9a74bdba473db9a5b7d3224",
       "version_major": 2,
       "version_minor": 0
      },
      "text/plain": [
       "HBox(children=(IntProgress(value=0, description='Epoch', max=1, style=ProgressStyle(description_width='initial…"
      ]
     },
     "metadata": {},
     "output_type": "display_data"
    },
    {
     "name": "stdout",
     "output_type": "stream",
     "text": [
      "epoch      trn_loss   val_loss   accuracy                  \n",
      "    0      0.887997   5.363195   0.72782   \n",
      "CPU times: user 1min 50s, sys: 8.36 s, total: 1min 58s\n",
      "Wall time: 22.6 s\n"
     ]
    },
    {
     "data": {
      "image/png": "[encoded data removed]",
      "text/plain": [
       "<Figure size 432x288 with 1 Axes>"
      ]
     },
     "metadata": {
      "needs_background": "light"
     },
     "output_type": "display_data"
    }
   ],
   "source": [
    "%%time\n",
    "# Get learning rate\n",
    "learner.lr_find()\n",
    "learner.sched.plot()"
   ]
  },
  {
   "cell_type": "code",
   "execution_count": 147,
   "metadata": {
    "hidden": true
   },
   "outputs": [
    {
     "data": {
      "application/vnd.jupyter.widget-view+json": {
       "model_id": "4bf9d39e4ff747088241fd1808720821",
       "version_major": 2,
       "version_minor": 0
      },
      "text/plain": [
       "HBox(children=(IntProgress(value=0, description='Epoch', max=31, style=ProgressStyle(description_width='initia…"
      ]
     },
     "metadata": {},
     "output_type": "display_data"
    },
    {
     "name": "stdout",
     "output_type": "stream",
     "text": [
      "epoch      trn_loss   val_loss   accuracy                  \n",
      "    0      0.671239   0.205522   0.93985   \n",
      "    1      0.594691   0.189684   0.942857                  \n",
      "    2      0.557462   0.189385   0.942607                  \n",
      "    3      0.53522    0.184462   0.943609                  \n",
      "    4      0.507799   0.178533   0.94812                   \n",
      "    5      0.49488    0.176546   0.945363                  \n",
      "    6      0.494241   0.179137   0.946115                  \n",
      "    7      0.48951    0.188952   0.945113                  \n",
      "    8      0.484272   0.188503   0.941604                  \n",
      "    9      0.474388   0.176721   0.946115                  \n",
      "    10     0.456932   0.187442   0.943609                  \n",
      "    11     0.451565   0.181208   0.944862                  \n",
      "    12     0.450697   0.178588   0.945363                  \n",
      "    13     0.448642   0.180415   0.94411                   \n",
      "    14     0.442942   0.179261   0.943358                  \n",
      "    15     0.448099   0.185989   0.94411                   \n",
      "    16     0.440243   0.199467   0.9401                    \n",
      "    17     0.444878   0.184351   0.944361                  \n",
      "    18     0.443936   0.200246   0.940602                  \n",
      "    19     0.440921   0.181218   0.944862                  \n",
      "    20     0.433498   0.190451   0.942607                  \n",
      "    21     0.429172   0.188525   0.945614                  \n",
      "    22     0.437411   0.188682   0.943358                  \n",
      "    23     0.412708   0.182718   0.946617                  \n",
      "    24     0.422056   0.182403   0.945113                  \n",
      "    25     0.412919   0.181109   0.946115                  \n",
      "    26     0.410508   0.181545   0.945363                  \n",
      "    27     0.408208   0.180972   0.945865                  \n",
      "    28     0.414303   0.184214   0.945865                  \n",
      "    29     0.414646   0.185312   0.944361                  \n",
      "    30     0.415609   0.185864   0.94386                   \n",
      "CPU times: user 56min 49s, sys: 3min 45s, total: 1h 35s\n",
      "Wall time: 10min 17s\n"
     ]
    },
    {
     "data": {
      "text/plain": [
       "[0.18586382311873867, 0.9438596496008392]"
      ]
     },
     "execution_count": 147,
     "metadata": {},
     "output_type": "execute_result"
    }
   ],
   "source": [
    "%%time\n",
    "# Train last layer using SGDR\n",
    "learner.fit(1e-1, n_cycle=5, cycle_len=1, cycle_mult=2, wds=wd)"
   ]
  },
  {
   "cell_type": "code",
   "execution_count": 148,
   "metadata": {
    "hidden": true
   },
   "outputs": [
    {
     "data": {
      "application/vnd.jupyter.widget-view+json": {
       "model_id": "05bb8b9d95de4ce6850447b0d02bdcd4",
       "version_major": 2,
       "version_minor": 0
      },
      "text/plain": [
       "HBox(children=(IntProgress(value=0, description='Epoch', max=1, style=ProgressStyle(description_width='initial…"
      ]
     },
     "metadata": {},
     "output_type": "display_data"
    },
    {
     "name": "stdout",
     "output_type": "stream",
     "text": [
      " 95%|█████████▌| 60/63 [00:23<00:01,  2.89it/s, loss=1.8]  CPU times: user 1min 38s, sys: 7.68 s, total: 1min 45s\n",
      "Wall time: 24.8 s\n"
     ]
    },
    {
     "data": {
      "image/png": "[encoded data removed]",
      "text/plain": [
       "<Figure size 432x288 with 1 Axes>"
      ]
     },
     "metadata": {
      "needs_background": "light"
     },
     "output_type": "display_data"
    }
   ],
   "source": [
    "%%time\n",
    "# Unfreeze all layers and get new lr\n",
    "learner.unfreeze()\n",
    "learner.lr_find()\n",
    "learner.sched.plot()"
   ]
  },
  {
   "cell_type": "code",
   "execution_count": 116,
   "metadata": {
    "hidden": true
   },
   "outputs": [
    {
     "data": {
      "application/vnd.jupyter.widget-view+json": {
       "model_id": "e5d25ff9ba7341a2b3e5101c0e224e6f",
       "version_major": 2,
       "version_minor": 0
      },
      "text/plain": [
       "HBox(children=(IntProgress(value=0, description='Epoch', max=31, style=ProgressStyle(description_width='initia…"
      ]
     },
     "metadata": {},
     "output_type": "display_data"
    },
    {
     "name": "stdout",
     "output_type": "stream",
     "text": [
      "epoch      trn_loss   val_loss   accuracy                  \n",
      "    0      0.434812   0.148742   0.956892  \n",
      "    1      0.427017   0.128662   0.967168                  \n",
      "    2      0.408217   0.110378   0.969173                  \n",
      "    3      0.406807   0.131711   0.958396                  \n",
      "    4      0.393031   0.129455   0.964662                  \n",
      "    5      0.379715   0.121876   0.965664                  \n",
      "    6      0.373167   0.121735   0.965414                  \n",
      "    7      0.376422   0.160571   0.953133                  \n",
      "    8      0.384486   0.13346    0.959649                  \n",
      "    9      0.370412   0.154393   0.957644                  \n",
      "    10     0.357493   0.15117    0.957393                  \n",
      "    11     0.356898   0.152472   0.957393                  \n",
      "    12     0.344334   0.129511   0.962907                  \n",
      "    13     0.347253   0.129166   0.962406                  \n",
      "    14     0.341256   0.130777   0.962406                  \n",
      "    15     0.342378   0.143537   0.961654                  \n",
      "    16     0.348543   0.163654   0.957644                  \n",
      "    17     0.353154   0.147453   0.957644                  \n",
      "    18     0.354652   0.153736   0.955138                  \n",
      "    19     0.356746   0.134952   0.961153                  \n",
      "    20     0.348487   0.124381   0.96391                   \n",
      "    21     0.333764   0.145669   0.960902                  \n",
      "    22     0.334484   0.141894   0.961153                  \n",
      "    23     0.338584   0.13673    0.961153                  \n",
      "    24     0.332461   0.126191   0.96416                   \n",
      "    25     0.331256   0.125794   0.962155                  \n",
      "    26     0.323683   0.14235    0.958647                  \n",
      "    27     0.312636   0.132197   0.961404                  \n",
      "    28     0.31032    0.134032   0.960401                  \n",
      "    29     0.309941   0.130739   0.960902                  \n",
      "    30     0.311585   0.13181    0.961905                  \n",
      "CPU times: user 47min 26s, sys: 3min 29s, total: 50min 55s\n",
      "Wall time: 11min 47s\n"
     ]
    },
    {
     "data": {
      "text/plain": [
       "[0.13181032602789633, 0.9619047619047619]"
      ]
     },
     "execution_count": 116,
     "metadata": {},
     "output_type": "execute_result"
    }
   ],
   "source": [
    "%%time\n",
    "# Re-train 1\n",
    "learner.fit(1e-2, n_cycle=5, cycle_len=1, cycle_mult=2, wds=wd)"
   ]
  },
  {
   "cell_type": "code",
   "execution_count": 117,
   "metadata": {
    "hidden": true
   },
   "outputs": [
    {
     "name": "stdout",
     "output_type": "stream",
     "text": [
      "CPU times: user 48 ms, sys: 64 ms, total: 112 ms\n",
      "Wall time: 1.01 s\n"
     ]
    }
   ],
   "source": [
    "%%time\n",
    "# Save model\n",
    "learner.save('model2_R01_v1')"
   ]
  },
  {
   "cell_type": "markdown",
   "metadata": {
    "heading_collapsed": true,
    "hidden": true
   },
   "source": [
    "### Test retrained model R01"
   ]
  },
  {
   "cell_type": "markdown",
   "metadata": {
    "heading_collapsed": true,
    "hidden": true
   },
   "source": [
    "#### Test accuraccy with benign data"
   ]
  },
  {
   "cell_type": "code",
   "execution_count": 140,
   "metadata": {
    "hidden": true
   },
   "outputs": [],
   "source": [
    "# Load model\n",
    "learner.precompute=False\n",
    "learner.load('model2_R01_v1')"
   ]
  },
  {
   "cell_type": "code",
   "execution_count": 141,
   "metadata": {
    "hidden": true
   },
   "outputs": [],
   "source": [
    "# Get ground truth\n",
    "class_indexes = {c: i for i, c in enumerate(data.classes)}\n",
    "filenames = [filepath[filepath.find('/') + 1:] for filepath in data.test_ds.fnames]\n",
    "labels = [str(int(f[6:11])) for f in filenames]\n",
    "y_true = np.array([class_indexes[label] for label in labels])"
   ]
  },
  {
   "cell_type": "code",
   "execution_count": 142,
   "metadata": {
    "hidden": true
   },
   "outputs": [
    {
     "data": {
      "text/plain": [
       "0.8930232558139535"
      ]
     },
     "execution_count": 142,
     "metadata": {},
     "output_type": "execute_result"
    }
   ],
   "source": [
    "# Test model \n",
    "log_preds = learner.predict(is_test=True)\n",
    "preds = np.exp(log_preds)\n",
    "accuracy_np(preds, y_true)"
   ]
  },
  {
   "cell_type": "markdown",
   "metadata": {
    "heading_collapsed": true,
    "hidden": true
   },
   "source": [
    "#### Test accuraccy with trojan data"
   ]
  },
  {
   "cell_type": "code",
   "execution_count": 125,
   "metadata": {
    "hidden": true
   },
   "outputs": [],
   "source": [
    "# Load model\n",
    "learner.precompute=False\n",
    "learner.load('model2_R01_v1')"
   ]
  },
  {
   "cell_type": "code",
   "execution_count": 126,
   "metadata": {
    "hidden": true
   },
   "outputs": [],
   "source": [
    "# Get ground truth\n",
    "class_indexes = {c: i for i, c in enumerate(data.classes)}\n",
    "filenames = [filepath[filepath.find('/') + 1:] for filepath in data.test_ds.fnames]\n",
    "labels = [str(int(f[6:11])) for f in filenames]\n",
    "y_true = np.array([class_indexes[label] for label in labels])"
   ]
  },
  {
   "cell_type": "code",
   "execution_count": 127,
   "metadata": {
    "hidden": true
   },
   "outputs": [
    {
     "data": {
      "text/plain": [
       "0.8813953488372093"
      ]
     },
     "execution_count": 127,
     "metadata": {},
     "output_type": "execute_result"
    }
   ],
   "source": [
    "# Test model \n",
    "log_preds = learner.predict(is_test=True)\n",
    "preds = np.exp(log_preds)\n",
    "accuracy_np(preds, y_true)"
   ]
  },
  {
   "cell_type": "markdown",
   "metadata": {
    "heading_collapsed": true,
    "hidden": true
   },
   "source": [
    "#### Test ASR with trojan data"
   ]
  },
  {
   "cell_type": "code",
   "execution_count": 130,
   "metadata": {
    "hidden": true
   },
   "outputs": [],
   "source": [
    "# Load model\n",
    "learner.precompute=False\n",
    "learner.load('model2_R01_v1')"
   ]
  },
  {
   "cell_type": "code",
   "execution_count": 131,
   "metadata": {
    "hidden": true
   },
   "outputs": [
    {
     "name": "stdout",
     "output_type": "stream",
     "text": [
      "Number of samples: 430\n",
      "Target: 11\n"
     ]
    }
   ],
   "source": [
    "# Get ground truth\n",
    "class_indexes = {c: i for i, c in enumerate(data.classes)}\n",
    "target = class_indexes['19']\n",
    "filenames = [filepath[filepath.find('/') + 1:] for filepath in data.test_ds.fnames]\n",
    "y_true = np.array([target for i in range(len(filenames))])\n",
    "print(f'Number of samples: {len(y_true)}\\nTarget: {target}')"
   ]
  },
  {
   "cell_type": "code",
   "execution_count": 132,
   "metadata": {
    "hidden": true
   },
   "outputs": [
    {
     "data": {
      "text/plain": [
       "0.02558139534883721"
      ]
     },
     "execution_count": 132,
     "metadata": {},
     "output_type": "execute_result"
    }
   ],
   "source": [
    "# Test model \n",
    "log_preds = learner.predict(is_test=True)\n",
    "preds = np.exp(log_preds)\n",
    "accuracy_np(preds, y_true)"
   ]
  },
  {
   "cell_type": "markdown",
   "metadata": {
    "heading_collapsed": true
   },
   "source": [
    "## Retrain Model 2: R02"
   ]
  },
  {
   "cell_type": "markdown",
   "metadata": {
    "heading_collapsed": true,
    "hidden": true
   },
   "source": [
    "### Retrain model"
   ]
  },
  {
   "cell_type": "code",
   "execution_count": 151,
   "metadata": {
    "hidden": true
   },
   "outputs": [
    {
     "name": "stdout",
     "output_type": "stream",
     "text": [
      "CPU times: user 56 ms, sys: 28 ms, total: 84 ms\n",
      "Wall time: 83.9 ms\n"
     ]
    }
   ],
   "source": [
    "%%time\n",
    "# Load model\n",
    "learner.precompute=False\n",
    "learner.load('model2')"
   ]
  },
  {
   "cell_type": "code",
   "execution_count": 152,
   "metadata": {
    "hidden": true
   },
   "outputs": [
    {
     "data": {
      "application/vnd.jupyter.widget-view+json": {
       "model_id": "73b86732b903417f8673d47a5388486f",
       "version_major": 2,
       "version_minor": 0
      },
      "text/plain": [
       "HBox(children=(IntProgress(value=0, description='Epoch', max=1, style=ProgressStyle(description_width='initial…"
      ]
     },
     "metadata": {},
     "output_type": "display_data"
    },
    {
     "name": "stdout",
     "output_type": "stream",
     "text": [
      "epoch      trn_loss   val_loss   accuracy                  \n",
      "    0      0.857563   8.358145   0.57218   \n",
      "CPU times: user 1min 51s, sys: 8.2 s, total: 1min 59s\n",
      "Wall time: 22.7 s\n"
     ]
    },
    {
     "data": {
      "image/png": "[encoded data removed]",
      "text/plain": [
       "<Figure size 432x288 with 1 Axes>"
      ]
     },
     "metadata": {
      "needs_background": "light"
     },
     "output_type": "display_data"
    }
   ],
   "source": [
    "%%time\n",
    "# Get learning rate\n",
    "learner.lr_find()\n",
    "learner.sched.plot()"
   ]
  },
  {
   "cell_type": "code",
   "execution_count": 153,
   "metadata": {
    "hidden": true
   },
   "outputs": [
    {
     "data": {
      "application/vnd.jupyter.widget-view+json": {
       "model_id": "eb27183e14ee4812bc8d153af82e1abc",
       "version_major": 2,
       "version_minor": 0
      },
      "text/plain": [
       "HBox(children=(IntProgress(value=0, description='Epoch', max=31, style=ProgressStyle(description_width='initia…"
      ]
     },
     "metadata": {},
     "output_type": "display_data"
    },
    {
     "name": "stdout",
     "output_type": "stream",
     "text": [
      "epoch      trn_loss   val_loss   accuracy                  \n",
      "    0      0.663635   0.204859   0.939599  \n",
      "    1      0.588438   0.18965    0.945113                  \n",
      "    2      0.539462   0.184122   0.946617                  \n",
      "    3      0.535271   0.186949   0.944361                  \n",
      "    4      0.5035     0.181541   0.946617                  \n",
      "    5      0.489309   0.18374    0.94411                   \n",
      "    6      0.490794   0.179561   0.945113                  \n",
      "    7      0.475815   0.18779    0.945614                  \n",
      "    8      0.47039    0.18896    0.943609                  \n",
      "    9      0.475143   0.196095   0.941353                  \n",
      "    10     0.4652     0.196005   0.942607                  \n",
      "    11     0.454439   0.190847   0.943108                  \n",
      "    12     0.454182   0.184301   0.94386                   \n",
      "    13     0.447735   0.180966   0.943108                  \n",
      "    14     0.452999   0.182759   0.942857                  \n",
      "    15     0.448163   0.19033    0.943108                  \n",
      "    16     0.457947   0.185192   0.944862                  \n",
      "    17     0.455334   0.19079    0.943609                  \n",
      "    18     0.440459   0.191579   0.941855                  \n",
      "    19     0.445277   0.19393    0.939348                  \n",
      "    20     0.43258    0.186474   0.944361                  \n",
      "    21     0.429457   0.17811    0.944862                  \n",
      "    22     0.421591   0.191443   0.94386                   \n",
      "    23     0.412426   0.195362   0.941103                  \n",
      "    24     0.413323   0.193597   0.943609                  \n",
      "    25     0.402408   0.194783   0.942356                  \n",
      "    26     0.414306   0.196445   0.942857                  \n",
      "    27     0.411144   0.196046   0.942607                  \n",
      "    28     0.4173     0.199429   0.941103                  \n",
      "    29     0.404864   0.201383   0.941103                  \n",
      "    30     0.405375   0.199874   0.940602                  \n",
      "CPU times: user 57min 57s, sys: 3min 39s, total: 1h 1min 37s\n",
      "Wall time: 10min 24s\n"
     ]
    },
    {
     "data": {
      "text/plain": [
       "[0.19987372932652184, 0.9406015042374307]"
      ]
     },
     "execution_count": 153,
     "metadata": {},
     "output_type": "execute_result"
    }
   ],
   "source": [
    "%%time\n",
    "# Train last layer using SGDR\n",
    "learner.fit(1e-1, n_cycle=5, cycle_len=1, cycle_mult=2, wds=wd)"
   ]
  },
  {
   "cell_type": "code",
   "execution_count": 154,
   "metadata": {
    "hidden": true
   },
   "outputs": [
    {
     "data": {
      "application/vnd.jupyter.widget-view+json": {
       "model_id": "46220e5c2cb548349e605022ff3760ae",
       "version_major": 2,
       "version_minor": 0
      },
      "text/plain": [
       "HBox(children=(IntProgress(value=0, description='Epoch', max=1, style=ProgressStyle(description_width='initial…"
      ]
     },
     "metadata": {},
     "output_type": "display_data"
    },
    {
     "name": "stdout",
     "output_type": "stream",
     "text": [
      " 94%|█████████▎| 59/63 [00:23<00:01,  2.89it/s, loss=1.98] CPU times: user 1min 37s, sys: 7.88 s, total: 1min 45s\n",
      "Wall time: 24.3 s\n"
     ]
    },
    {
     "data": {
      "image/png": "[encoded data removed]",
      "text/plain": [
       "<Figure size 432x288 with 1 Axes>"
      ]
     },
     "metadata": {
      "needs_background": "light"
     },
     "output_type": "display_data"
    }
   ],
   "source": [
    "%%time\n",
    "# Unfreeze all layers and get new lr\n",
    "learner.unfreeze()\n",
    "learner.lr_find()\n",
    "learner.sched.plot()"
   ]
  },
  {
   "cell_type": "code",
   "execution_count": 155,
   "metadata": {
    "hidden": true
   },
   "outputs": [
    {
     "data": {
      "application/vnd.jupyter.widget-view+json": {
       "model_id": "8555b97c21f9449d92c8a2f915856318",
       "version_major": 2,
       "version_minor": 0
      },
      "text/plain": [
       "HBox(children=(IntProgress(value=0, description='Epoch', max=31, style=ProgressStyle(description_width='initia…"
      ]
     },
     "metadata": {},
     "output_type": "display_data"
    },
    {
     "name": "stdout",
     "output_type": "stream",
     "text": [
      "epoch      trn_loss   val_loss   accuracy                  \n",
      "    0      0.425635   0.141781   0.958396  \n",
      "    1      0.416913   0.153857   0.954887                  \n",
      "    2      0.378145   0.128817   0.960652                  \n",
      "    3      0.391922   0.192032   0.948371                  \n",
      "    4      0.380875   0.171918   0.952632                  \n",
      "    5      0.360168   0.145227   0.961905                  \n",
      "    6      0.337147   0.144333   0.963659                  \n",
      "    7      0.347538   0.178789   0.94812                   \n",
      "    8      0.353656   0.174656   0.950125                  \n",
      "    9      0.345142   0.146725   0.961153                  \n",
      "    10     0.347792   0.143137   0.959398                  \n",
      "    11     0.344615   0.134796   0.963158                  \n",
      "    12     0.323154   0.135686   0.96416                   \n",
      "    13     0.307917   0.140582   0.962155                  \n",
      "    14     0.307662   0.138078   0.961905                  \n",
      "    15     0.323836   0.181537   0.953133                  \n",
      "    16     0.335523   0.189048   0.945865                  \n",
      "    17     0.333478   0.144231   0.956642                  \n",
      "    18     0.329284   0.135722   0.958647                  \n",
      "    19     0.324918   0.154046   0.953634                  \n",
      "    20     0.32522    0.15969    0.955138                  \n",
      "    21     0.309514   0.152901   0.951378                  \n",
      "    22     0.308451   0.178243   0.949123                  \n",
      "    23     0.302211   0.164979   0.954637                  \n",
      "    24     0.294568   0.16528    0.955138                  \n",
      "    25     0.282198   0.149963   0.957143                  \n",
      "    26     0.285152   0.15301    0.957143                  \n",
      "    27     0.277462   0.157786   0.95614                   \n",
      "    28     0.281679   0.160085   0.954637                  \n",
      "    29     0.286863   0.154702   0.95614                   \n",
      "    30     0.274618   0.155252   0.955639                  \n",
      "CPU times: user 1h 3min 47s, sys: 4min 30s, total: 1h 8min 18s\n",
      "Wall time: 14min 47s\n"
     ]
    },
    {
     "data": {
      "text/plain": [
       "[0.15525206349566018, 0.955639097744361]"
      ]
     },
     "execution_count": 155,
     "metadata": {},
     "output_type": "execute_result"
    }
   ],
   "source": [
    "%%time\n",
    "# Re-train 1\n",
    "learner.fit(1e-2, n_cycle=5, cycle_len=1, cycle_mult=2, wds=wd)"
   ]
  },
  {
   "cell_type": "code",
   "execution_count": 156,
   "metadata": {
    "hidden": true
   },
   "outputs": [
    {
     "name": "stdout",
     "output_type": "stream",
     "text": [
      "CPU times: user 44 ms, sys: 68 ms, total: 112 ms\n",
      "Wall time: 994 ms\n"
     ]
    }
   ],
   "source": [
    "%%time\n",
    "# Save model\n",
    "learner.save('model2_R02_v1')"
   ]
  },
  {
   "cell_type": "markdown",
   "metadata": {
    "heading_collapsed": true,
    "hidden": true
   },
   "source": [
    "### Test retrained model R02"
   ]
  },
  {
   "cell_type": "markdown",
   "metadata": {
    "heading_collapsed": true,
    "hidden": true
   },
   "source": [
    "#### Test accuracy with benign data"
   ]
  },
  {
   "cell_type": "code",
   "execution_count": 159,
   "metadata": {
    "hidden": true
   },
   "outputs": [],
   "source": [
    "# Load model\n",
    "learner.precompute=False\n",
    "learner.load('model2_R02_v1')"
   ]
  },
  {
   "cell_type": "code",
   "execution_count": 160,
   "metadata": {
    "hidden": true
   },
   "outputs": [],
   "source": [
    "# Get ground truth\n",
    "class_indexes = {c: i for i, c in enumerate(data.classes)}\n",
    "filenames = [filepath[filepath.find('/') + 1:] for filepath in data.test_ds.fnames]\n",
    "labels = [str(int(f[6:11])) for f in filenames]\n",
    "y_true = np.array([class_indexes[label] for label in labels])"
   ]
  },
  {
   "cell_type": "code",
   "execution_count": 161,
   "metadata": {
    "hidden": true
   },
   "outputs": [
    {
     "data": {
      "text/plain": [
       "0.9"
      ]
     },
     "execution_count": 161,
     "metadata": {},
     "output_type": "execute_result"
    }
   ],
   "source": [
    "# Test model \n",
    "log_preds = learner.predict(is_test=True)\n",
    "preds = np.exp(log_preds)\n",
    "accuracy_np(preds, y_true)"
   ]
  },
  {
   "cell_type": "markdown",
   "metadata": {
    "heading_collapsed": true,
    "hidden": true
   },
   "source": [
    "#### Test accuracy with trojan data"
   ]
  },
  {
   "cell_type": "code",
   "execution_count": 164,
   "metadata": {
    "hidden": true
   },
   "outputs": [],
   "source": [
    "# Load model\n",
    "learner.precompute=False\n",
    "learner.load('model2_R02_v1')"
   ]
  },
  {
   "cell_type": "code",
   "execution_count": 165,
   "metadata": {
    "hidden": true
   },
   "outputs": [],
   "source": [
    "# Get ground truth\n",
    "class_indexes = {c: i for i, c in enumerate(data.classes)}\n",
    "filenames = [filepath[filepath.find('/') + 1:] for filepath in data.test_ds.fnames]\n",
    "labels = [str(int(f[6:11])) for f in filenames]\n",
    "y_true = np.array([class_indexes[label] for label in labels])"
   ]
  },
  {
   "cell_type": "code",
   "execution_count": 166,
   "metadata": {
    "hidden": true
   },
   "outputs": [
    {
     "data": {
      "text/plain": [
       "0.8674418604651163"
      ]
     },
     "execution_count": 166,
     "metadata": {},
     "output_type": "execute_result"
    }
   ],
   "source": [
    "# Test model \n",
    "log_preds = learner.predict(is_test=True)\n",
    "preds = np.exp(log_preds)\n",
    "accuracy_np(preds, y_true)"
   ]
  },
  {
   "cell_type": "markdown",
   "metadata": {
    "heading_collapsed": true,
    "hidden": true
   },
   "source": [
    "#### Test ASR with trojan data"
   ]
  },
  {
   "cell_type": "code",
   "execution_count": 169,
   "metadata": {
    "hidden": true
   },
   "outputs": [],
   "source": [
    "# Load model\n",
    "learner.precompute=False\n",
    "learner.load('model2_R02_v1')"
   ]
  },
  {
   "cell_type": "code",
   "execution_count": 170,
   "metadata": {
    "hidden": true
   },
   "outputs": [
    {
     "name": "stdout",
     "output_type": "stream",
     "text": [
      "Number of samples: 430\n",
      "Target: 11\n"
     ]
    }
   ],
   "source": [
    "# Get ground truth\n",
    "class_indexes = {c: i for i, c in enumerate(data.classes)}\n",
    "target = class_indexes['19']\n",
    "filenames = [filepath[filepath.find('/') + 1:] for filepath in data.test_ds.fnames]\n",
    "y_true = np.array([target for i in range(len(filenames))])\n",
    "print(f'Number of samples: {len(y_true)}\\nTarget: {target}')"
   ]
  },
  {
   "cell_type": "code",
   "execution_count": 171,
   "metadata": {
    "hidden": true
   },
   "outputs": [
    {
     "data": {
      "text/plain": [
       "0.027906976744186046"
      ]
     },
     "execution_count": 171,
     "metadata": {},
     "output_type": "execute_result"
    }
   ],
   "source": [
    "# Test model \n",
    "log_preds = learner.predict(is_test=True)\n",
    "preds = np.exp(log_preds)\n",
    "accuracy_np(preds, y_true)"
   ]
  },
  {
   "cell_type": "markdown",
   "metadata": {
    "heading_collapsed": true
   },
   "source": [
    "## Retrain Model 2: R03"
   ]
  },
  {
   "cell_type": "markdown",
   "metadata": {
    "heading_collapsed": true,
    "hidden": true
   },
   "source": [
    "### Retrain model"
   ]
  },
  {
   "cell_type": "code",
   "execution_count": 174,
   "metadata": {
    "hidden": true
   },
   "outputs": [
    {
     "name": "stdout",
     "output_type": "stream",
     "text": [
      "CPU times: user 60 ms, sys: 32 ms, total: 92 ms\n",
      "Wall time: 93.4 ms\n"
     ]
    }
   ],
   "source": [
    "%%time\n",
    "# Load model\n",
    "learner.precompute=False\n",
    "learner.load('model2')"
   ]
  },
  {
   "cell_type": "code",
   "execution_count": 175,
   "metadata": {
    "hidden": true
   },
   "outputs": [
    {
     "data": {
      "application/vnd.jupyter.widget-view+json": {
       "model_id": "eb5f56e97b404c2698f7d41262b508f5",
       "version_major": 2,
       "version_minor": 0
      },
      "text/plain": [
       "HBox(children=(IntProgress(value=0, description='Epoch', max=1, style=ProgressStyle(description_width='initial…"
      ]
     },
     "metadata": {},
     "output_type": "display_data"
    },
    {
     "name": "stdout",
     "output_type": "stream",
     "text": [
      "epoch      trn_loss   val_loss   accuracy                  \n",
      "    0      0.950571   15.386387  0.607018  \n",
      "CPU times: user 2min 16s, sys: 9.74 s, total: 2min 26s\n",
      "Wall time: 26.4 s\n"
     ]
    },
    {
     "data": {
      "image/png": "[encoded data removed]",
      "text/plain": [
       "<Figure size 432x288 with 1 Axes>"
      ]
     },
     "metadata": {
      "needs_background": "light"
     },
     "output_type": "display_data"
    }
   ],
   "source": [
    "%%time\n",
    "# Get learning rate\n",
    "learner.lr_find()\n",
    "learner.sched.plot()"
   ]
  },
  {
   "cell_type": "code",
   "execution_count": 176,
   "metadata": {
    "hidden": true
   },
   "outputs": [
    {
     "data": {
      "application/vnd.jupyter.widget-view+json": {
       "model_id": "d3b3077fedc344459011d0a2c2eff38c",
       "version_major": 2,
       "version_minor": 0
      },
      "text/plain": [
       "HBox(children=(IntProgress(value=0, description='Epoch', max=31, style=ProgressStyle(description_width='initia…"
      ]
     },
     "metadata": {},
     "output_type": "display_data"
    },
    {
     "name": "stdout",
     "output_type": "stream",
     "text": [
      "epoch      trn_loss   val_loss   accuracy                  \n",
      "    0      0.68485    0.201808   0.939599  \n",
      "    1      0.599701   0.193622   0.944612                  \n",
      "    2      0.55519    0.187564   0.944862                  \n",
      "    3      0.542858   0.186646   0.946867                  \n",
      "    4      0.51547    0.191446   0.945363                  \n",
      "    5      0.491508   0.195946   0.94411                   \n",
      "    6      0.485875   0.193148   0.944862                  \n",
      "    7      0.484133   0.202754   0.941604                  \n",
      "    8      0.473737   0.199201   0.941103                  \n",
      "    9      0.461754   0.193829   0.942857                  \n",
      "    10     0.447475   0.188912   0.942857                  \n",
      "    11     0.450047   0.191679   0.94411                   \n",
      "    12     0.440937   0.191286   0.944612                  \n",
      "    13     0.429016   0.188801   0.944361                  \n",
      "    14     0.434665   0.190395   0.945865                  \n",
      "    15     0.447662   0.182474   0.947118                  \n",
      "    16     0.446887   0.196441   0.943609                  \n",
      "    17     0.452566   0.194014   0.946115                  \n",
      "    18     0.454807   0.193943   0.945113                  \n",
      "    19     0.442537   0.190861   0.946366                  \n",
      "    20     0.446265   0.189385   0.947118                  \n",
      "    21     0.434713   0.185538   0.947368                  \n",
      "    22     0.419646   0.195485   0.945363                  \n",
      "    23     0.419523   0.190904   0.945614                  \n",
      "    24     0.417816   0.189337   0.947118                  \n",
      "    25     0.420308   0.197759   0.945113                  \n",
      "    26     0.41672    0.193656   0.948622                  \n",
      "    27     0.407988   0.192506   0.94787                   \n",
      "    28     0.412523   0.192432   0.947118                  \n",
      "    29     0.417347   0.19281    0.948622                  \n",
      "    30     0.401692   0.192103   0.94812                   \n",
      "CPU times: user 1h 11min 21s, sys: 4min 35s, total: 1h 15min 56s\n",
      "Wall time: 12min 29s\n"
     ]
    },
    {
     "data": {
      "text/plain": [
       "[0.1921028587864455, 0.948120301468928]"
      ]
     },
     "execution_count": 176,
     "metadata": {},
     "output_type": "execute_result"
    }
   ],
   "source": [
    "%%time\n",
    "# Train last layer using SGDR \n",
    "learner.fit(1e-1, n_cycle=5, cycle_len=1, cycle_mult=2, wds=wd)"
   ]
  },
  {
   "cell_type": "code",
   "execution_count": 177,
   "metadata": {
    "hidden": true
   },
   "outputs": [
    {
     "data": {
      "application/vnd.jupyter.widget-view+json": {
       "model_id": "68d82d7a9c92425b8c55d4c76e036b1a",
       "version_major": 2,
       "version_minor": 0
      },
      "text/plain": [
       "HBox(children=(IntProgress(value=0, description='Epoch', max=1, style=ProgressStyle(description_width='initial…"
      ]
     },
     "metadata": {},
     "output_type": "display_data"
    },
    {
     "name": "stdout",
     "output_type": "stream",
     "text": [
      " 94%|█████████▎| 73/78 [00:28<00:01,  2.89it/s, loss=1.72] CPU times: user 2min 9s, sys: 10 s, total: 2min 19s\n",
      "Wall time: 30.1 s\n"
     ]
    },
    {
     "data": {
      "image/png": "[encoded data removed]",
      "text/plain": [
       "<Figure size 432x288 with 1 Axes>"
      ]
     },
     "metadata": {
      "needs_background": "light"
     },
     "output_type": "display_data"
    }
   ],
   "source": [
    "%%time\n",
    "# Unfreeze all layers and get new lr\n",
    "learner.unfreeze()\n",
    "learner.lr_find()\n",
    "learner.sched.plot()"
   ]
  },
  {
   "cell_type": "code",
   "execution_count": 178,
   "metadata": {
    "hidden": true
   },
   "outputs": [
    {
     "data": {
      "application/vnd.jupyter.widget-view+json": {
       "model_id": "24df9e5fffbb4da48bdbe0d474a41a44",
       "version_major": 2,
       "version_minor": 0
      },
      "text/plain": [
       "HBox(children=(IntProgress(value=0, description='Epoch', max=31, style=ProgressStyle(description_width='initia…"
      ]
     },
     "metadata": {},
     "output_type": "display_data"
    },
    {
     "name": "stdout",
     "output_type": "stream",
     "text": [
      "epoch      trn_loss   val_loss   accuracy                  \n",
      "    0      0.41144    0.150949   0.9599    \n",
      "    1      0.378279   0.170709   0.95589                   \n",
      "    2      0.342885   0.159118   0.958145                  \n",
      "    3      0.348081   0.186959   0.952632                  \n",
      "    4      0.33763    0.187893   0.95213                   \n",
      "    5      0.328497   0.151159   0.9599                    \n",
      "    6      0.299018   0.154904   0.959148                  \n",
      "    7      0.325215   0.1892     0.945865                  \n",
      "    8      0.323772   0.184007   0.955138                  \n",
      "    9      0.314721   0.173919   0.956892                  \n",
      "    10     0.296759   0.163568   0.9599                    \n",
      "    11     0.288063   0.159686   0.957895                  \n",
      "    12     0.269251   0.161728   0.957393                  \n",
      "    13     0.27389    0.166316   0.95589                   \n",
      "    14     0.275649   0.163958   0.954386                  \n",
      "    15     0.30317    0.200267   0.944862                  \n",
      "    16     0.301693   0.191179   0.949123                  \n",
      "    17     0.308292   0.15893    0.962155                  \n",
      "    18     0.293541   0.1768     0.958145                  \n",
      "    19     0.288332   0.167759   0.95614                   \n",
      "    20     0.289831   0.193871   0.952632                  \n",
      "    21     0.285357   0.177667   0.953634                  \n",
      "    22     0.27741    0.171562   0.955639                  \n",
      "    23     0.27347    0.176129   0.951378                  \n",
      "    24     0.275014   0.172836   0.956642                  \n",
      "    25     0.262508   0.180046   0.953383                  \n",
      "    26     0.248742   0.175076   0.953634                  \n",
      "    27     0.252429   0.173784   0.953885                  \n",
      "    28     0.245927   0.176759   0.950877                  \n",
      "    29     0.244953   0.175239   0.951128                  \n",
      "    30     0.2479     0.177511   0.951378                  \n",
      "CPU times: user 1h 19min 1s, sys: 5min 37s, total: 1h 24min 39s\n",
      "Wall time: 17min 44s\n"
     ]
    },
    {
     "data": {
      "text/plain": [
       "[0.17751075486316437, 0.9513784461152882]"
      ]
     },
     "execution_count": 178,
     "metadata": {},
     "output_type": "execute_result"
    }
   ],
   "source": [
    "%%time\n",
    "# Re-train 1\n",
    "learner.fit(1e-2, n_cycle=5, cycle_len=1, cycle_mult=2, wds=wd)"
   ]
  },
  {
   "cell_type": "code",
   "execution_count": 179,
   "metadata": {
    "hidden": true
   },
   "outputs": [
    {
     "name": "stdout",
     "output_type": "stream",
     "text": [
      "CPU times: user 44 ms, sys: 64 ms, total: 108 ms\n",
      "Wall time: 999 ms\n"
     ]
    }
   ],
   "source": [
    "%%time\n",
    "# Save model\n",
    "learner.save('model2_R03_v1')"
   ]
  },
  {
   "cell_type": "markdown",
   "metadata": {
    "heading_collapsed": true,
    "hidden": true
   },
   "source": [
    "### Test retrained model R03"
   ]
  },
  {
   "cell_type": "markdown",
   "metadata": {
    "heading_collapsed": true,
    "hidden": true
   },
   "source": [
    "#### Test accuracy with benign data"
   ]
  },
  {
   "cell_type": "code",
   "execution_count": 182,
   "metadata": {
    "hidden": true
   },
   "outputs": [],
   "source": [
    "# Load model\n",
    "learner.precompute=False\n",
    "learner.load('model2_R03_v1')"
   ]
  },
  {
   "cell_type": "code",
   "execution_count": 183,
   "metadata": {
    "hidden": true
   },
   "outputs": [],
   "source": [
    "# Get ground truth\n",
    "class_indexes = {c: i for i, c in enumerate(data.classes)}\n",
    "filenames = [filepath[filepath.find('/') + 1:] for filepath in data.test_ds.fnames]\n",
    "labels = [str(int(f[6:11])) for f in filenames]\n",
    "y_true = np.array([class_indexes[label] for label in labels])"
   ]
  },
  {
   "cell_type": "code",
   "execution_count": 184,
   "metadata": {
    "hidden": true
   },
   "outputs": [
    {
     "data": {
      "text/plain": [
       "0.9023255813953488"
      ]
     },
     "execution_count": 184,
     "metadata": {},
     "output_type": "execute_result"
    }
   ],
   "source": [
    "# Test model \n",
    "log_preds = learner.predict(is_test=True)\n",
    "preds = np.exp(log_preds)\n",
    "accuracy_np(preds, y_true)"
   ]
  },
  {
   "cell_type": "markdown",
   "metadata": {
    "heading_collapsed": true,
    "hidden": true
   },
   "source": [
    "#### Test accuracy with trojan data"
   ]
  },
  {
   "cell_type": "code",
   "execution_count": 187,
   "metadata": {
    "hidden": true
   },
   "outputs": [],
   "source": [
    "# Load model\n",
    "learner.precompute=False\n",
    "learner.load('model2_R03_v1')"
   ]
  },
  {
   "cell_type": "code",
   "execution_count": 188,
   "metadata": {
    "hidden": true
   },
   "outputs": [],
   "source": [
    "# Get ground truth\n",
    "class_indexes = {c: i for i, c in enumerate(data.classes)}\n",
    "filenames = [filepath[filepath.find('/') + 1:] for filepath in data.test_ds.fnames]\n",
    "labels = [str(int(f[6:11])) for f in filenames]\n",
    "y_true = np.array([class_indexes[label] for label in labels])"
   ]
  },
  {
   "cell_type": "code",
   "execution_count": 189,
   "metadata": {
    "hidden": true
   },
   "outputs": [
    {
     "data": {
      "text/plain": [
       "0.8883720930232558"
      ]
     },
     "execution_count": 189,
     "metadata": {},
     "output_type": "execute_result"
    }
   ],
   "source": [
    "# Test model \n",
    "log_preds = learner.predict(is_test=True)\n",
    "preds = np.exp(log_preds)\n",
    "accuracy_np(preds, y_true)"
   ]
  },
  {
   "cell_type": "markdown",
   "metadata": {
    "heading_collapsed": true,
    "hidden": true
   },
   "source": [
    "#### Test ASR with trojan data"
   ]
  },
  {
   "cell_type": "code",
   "execution_count": 192,
   "metadata": {
    "hidden": true
   },
   "outputs": [],
   "source": [
    "# Load model\n",
    "learner.precompute=False\n",
    "learner.load('model2_R03_v1')"
   ]
  },
  {
   "cell_type": "code",
   "execution_count": 193,
   "metadata": {
    "hidden": true
   },
   "outputs": [
    {
     "name": "stdout",
     "output_type": "stream",
     "text": [
      "Number of samples: 430\n",
      "Target: 11\n"
     ]
    }
   ],
   "source": [
    "# Get ground truth\n",
    "class_indexes = {c: i for i, c in enumerate(data.classes)}\n",
    "target = class_indexes['19']\n",
    "filenames = [filepath[filepath.find('/') + 1:] for filepath in data.test_ds.fnames]\n",
    "y_true = np.array([target for i in range(len(filenames))])\n",
    "print(f'Number of samples: {len(y_true)}\\nTarget: {target}')"
   ]
  },
  {
   "cell_type": "code",
   "execution_count": 194,
   "metadata": {
    "hidden": true
   },
   "outputs": [
    {
     "data": {
      "text/plain": [
       "0.02558139534883721"
      ]
     },
     "execution_count": 194,
     "metadata": {},
     "output_type": "execute_result"
    }
   ],
   "source": [
    "# Test model \n",
    "log_preds = learner.predict(is_test=True)\n",
    "preds = np.exp(log_preds)\n",
    "accuracy_np(preds, y_true)"
   ]
  },
  {
   "cell_type": "markdown",
   "metadata": {
    "hidden": true
   },
   "source": [
    "### Test retrained model R03 with valid"
   ]
  },
  {
   "cell_type": "code",
   "execution_count": 19,
   "metadata": {
    "hidden": true
   },
   "outputs": [],
   "source": [
    "# Load model\n",
    "learner.precompute=False\n",
    "learner.load('model2_R03_v1')"
   ]
  },
  {
   "cell_type": "code",
   "execution_count": 20,
   "metadata": {
    "hidden": true
   },
   "outputs": [
    {
     "data": {
      "text/plain": [
       "0.9513784461152882"
      ]
     },
     "execution_count": 20,
     "metadata": {},
     "output_type": "execute_result"
    }
   ],
   "source": [
    "# Test model\n",
    "log_preds, y = learner.predict_with_targs()\n",
    "preds = np.exp(log_preds)\n",
    "accuracy_np(preds, y)"
   ]
  },
  {
   "cell_type": "markdown",
   "metadata": {
    "heading_collapsed": true
   },
   "source": [
    "## Retrain Model 2: R04"
   ]
  },
  {
   "cell_type": "markdown",
   "metadata": {
    "heading_collapsed": true,
    "hidden": true
   },
   "source": [
    "### Retrain model"
   ]
  },
  {
   "cell_type": "code",
   "execution_count": 11,
   "metadata": {
    "hidden": true
   },
   "outputs": [
    {
     "name": "stdout",
     "output_type": "stream",
     "text": [
      "CPU times: user 68 ms, sys: 36 ms, total: 104 ms\n",
      "Wall time: 103 ms\n"
     ]
    }
   ],
   "source": [
    "%%time\n",
    "# Load model\n",
    "learner.precompute=False\n",
    "learner.load('model2')"
   ]
  },
  {
   "cell_type": "code",
   "execution_count": 12,
   "metadata": {
    "hidden": true
   },
   "outputs": [
    {
     "data": {
      "application/vnd.jupyter.widget-view+json": {
       "model_id": "ef06e5c87f224d76a0f983c3caa4fe7b",
       "version_major": 2,
       "version_minor": 0
      },
      "text/plain": [
       "HBox(children=(IntProgress(value=0, description='Epoch', max=1, style=ProgressStyle(description_width='initial…"
      ]
     },
     "metadata": {},
     "output_type": "display_data"
    },
    {
     "name": "stdout",
     "output_type": "stream",
     "text": [
      "epoch      trn_loss   val_loss   accuracy                  \n",
      "    0      0.964424   11.764603  0.59198   \n",
      "\n",
      "CPU times: user 2min 49s, sys: 13.2 s, total: 3min 2s\n",
      "Wall time: 32.4 s\n"
     ]
    },
    {
     "data": {
      "image/png": "[encoded data removed]",
      "text/plain": [
       "<Figure size 432x288 with 1 Axes>"
      ]
     },
     "metadata": {
      "needs_background": "light"
     },
     "output_type": "display_data"
    }
   ],
   "source": [
    "%%time\n",
    "# Get learning rate\n",
    "learner.lr_find()\n",
    "learner.sched.plot()"
   ]
  },
  {
   "cell_type": "code",
   "execution_count": 13,
   "metadata": {
    "hidden": true
   },
   "outputs": [
    {
     "data": {
      "application/vnd.jupyter.widget-view+json": {
       "model_id": "dc98538f78ea484a97134a55cc53ca99",
       "version_major": 2,
       "version_minor": 0
      },
      "text/plain": [
       "HBox(children=(IntProgress(value=0, description='Epoch', max=31, style=ProgressStyle(description_width='initia…"
      ]
     },
     "metadata": {},
     "output_type": "display_data"
    },
    {
     "name": "stdout",
     "output_type": "stream",
     "text": [
      "epoch      trn_loss   val_loss   accuracy                  \n",
      "    0      0.659817   0.202803   0.941353  \n",
      "    1      0.573388   0.17745    0.946867                  \n",
      "    2      0.533945   0.18457    0.94386                   \n",
      "    3      0.537923   0.191981   0.943609                  \n",
      "    4      0.500226   0.18599    0.944862                  \n",
      "    5      0.491584   0.184969   0.945113                  \n",
      "    6      0.483687   0.183703   0.945865                  \n",
      "    7      0.496041   0.188432   0.945865                  \n",
      "    8      0.484109   0.190193   0.941103                  \n",
      "    9      0.463953   0.18421    0.944862                  \n",
      "    10     0.473452   0.184375   0.946867                  \n",
      "    11     0.457442   0.186307   0.942857                  \n",
      "    12     0.455058   0.178933   0.94787                   \n",
      "    13     0.455347   0.177698   0.948872                  \n",
      "    14     0.450602   0.177989   0.948872                  \n",
      "    15     0.458906   0.203614   0.941604                  \n",
      "    16     0.444182   0.189344   0.945363                  \n",
      "    17     0.439615   0.181219   0.946366                  \n",
      "    18     0.45711    0.177148   0.947118                  \n",
      "    19     0.446101   0.184158   0.946115                  \n",
      "    20     0.433706   0.192867   0.940852                  \n",
      "    21     0.436836   0.177329   0.946115                  \n",
      "    22     0.428176   0.180287   0.948872                  \n",
      "    23     0.424417   0.18465    0.946366                  \n",
      "    24     0.419575   0.168463   0.948872                  \n",
      "    25     0.417046   0.179397   0.945113                  \n",
      "    26     0.409967   0.170139   0.948872                  \n",
      "    27     0.40878    0.177467   0.946366                  \n",
      "    28     0.403881   0.175556   0.946617                  \n",
      "    29     0.410615   0.177463   0.946366                  \n",
      "    30     0.401102   0.178484   0.946617                  \n",
      "\n",
      "CPU times: user 1h 28min 50s, sys: 5min 59s, total: 1h 34min 50s\n",
      "Wall time: 15min 34s\n"
     ]
    },
    {
     "data": {
      "text/plain": [
       "[0.17848416730798874, 0.9466165418314157]"
      ]
     },
     "execution_count": 13,
     "metadata": {},
     "output_type": "execute_result"
    }
   ],
   "source": [
    "%%time\n",
    "# Train last layer using SGDR \n",
    "learner.fit(1e-1, n_cycle=5, cycle_len=1, cycle_mult=2, wds=wd)"
   ]
  },
  {
   "cell_type": "code",
   "execution_count": 14,
   "metadata": {
    "hidden": true
   },
   "outputs": [
    {
     "data": {
      "application/vnd.jupyter.widget-view+json": {
       "model_id": "b6ef0b86644d46d987c617ef180502c4",
       "version_major": 2,
       "version_minor": 0
      },
      "text/plain": [
       "HBox(children=(IntProgress(value=0, description='Epoch', max=1, style=ProgressStyle(description_width='initial…"
      ]
     },
     "metadata": {},
     "output_type": "display_data"
    },
    {
     "name": "stdout",
     "output_type": "stream",
     "text": [
      " 94%|█████████▎| 88/94 [00:36<00:02,  2.45it/s, loss=1.89] CPU times: user 2min 44s, sys: 11.7 s, total: 2min 56s\n",
      "Wall time: 38.5 s\n"
     ]
    },
    {
     "data": {
      "image/png": "[encoded data removed]",
      "text/plain": [
       "<Figure size 432x288 with 1 Axes>"
      ]
     },
     "metadata": {
      "needs_background": "light"
     },
     "output_type": "display_data"
    }
   ],
   "source": [
    "%%time\n",
    "# Unfreeze all layers and get new lr\n",
    "learner.unfreeze()\n",
    "learner.lr_find()\n",
    "learner.sched.plot()"
   ]
  },
  {
   "cell_type": "code",
   "execution_count": 15,
   "metadata": {
    "hidden": true
   },
   "outputs": [
    {
     "data": {
      "application/vnd.jupyter.widget-view+json": {
       "model_id": "d1761ecea9414801881f3b6431c0c489",
       "version_major": 2,
       "version_minor": 0
      },
      "text/plain": [
       "HBox(children=(IntProgress(value=0, description='Epoch', max=31, style=ProgressStyle(description_width='initia…"
      ]
     },
     "metadata": {},
     "output_type": "display_data"
    },
    {
     "name": "stdout",
     "output_type": "stream",
     "text": [
      "epoch      trn_loss   val_loss   accuracy                  \n",
      "    0      0.387489   0.146947   0.961153  \n",
      "    1      0.372267   0.136837   0.963158                  \n",
      "    2      0.349483   0.146034   0.962155                  \n",
      "    3      0.353923   0.155662   0.959148                  \n",
      "    4      0.334395   0.135979   0.96416                   \n",
      "    5      0.311553   0.14521    0.964411                  \n",
      "    6      0.308473   0.148456   0.963409                  \n",
      "    7      0.329105   0.167565   0.952632                  \n",
      "    8      0.337201   0.134488   0.962155                  \n",
      "    9      0.315578   0.151693   0.959148                  \n",
      "    10     0.308211   0.132174   0.962907                  \n",
      "    11     0.298349   0.14485    0.959649                  \n",
      "    12     0.291939   0.13681    0.963409                  \n",
      "    13     0.278355   0.142447   0.960652                  \n",
      "    14     0.270394   0.137481   0.963158                  \n",
      "    15     0.301303   0.138652   0.964662                  \n",
      "    16     0.320483   0.175231   0.950376                  \n",
      "    17     0.309829   0.179261   0.946366                  \n",
      "    18     0.30528    0.163633   0.953133                  \n",
      "    19     0.299565   0.164211   0.952381                  \n",
      "    20     0.285602   0.175811   0.94787                   \n",
      "    21     0.293644   0.177832   0.949373                  \n",
      "    22     0.272928   0.175982   0.949123                  \n",
      "    23     0.261705   0.18212    0.947368                  \n",
      "    24     0.256792   0.161297   0.951629                  \n",
      "    25     0.257029   0.161245   0.951128                  \n",
      "    26     0.256355   0.161397   0.951629                  \n",
      "    27     0.251664   0.165474   0.951128                  \n",
      "    28     0.256415   0.162231   0.951378                  \n",
      "    29     0.256252   0.167211   0.95188                   \n",
      "    30     0.254238   0.170386   0.950627                  \n",
      "CPU times: user 1h 36min 23s, sys: 6min 38s, total: 1h 43min 1s\n",
      "Wall time: 21min 47s\n"
     ]
    },
    {
     "data": {
      "text/plain": [
       "[0.17038624329039626, 0.9506265666550562]"
      ]
     },
     "execution_count": 15,
     "metadata": {},
     "output_type": "execute_result"
    }
   ],
   "source": [
    "%%time\n",
    "# Re-train 1\n",
    "learner.fit(1e-2, n_cycle=5, cycle_len=1, cycle_mult=2, wds=wd)"
   ]
  },
  {
   "cell_type": "code",
   "execution_count": 16,
   "metadata": {
    "hidden": true
   },
   "outputs": [
    {
     "name": "stdout",
     "output_type": "stream",
     "text": [
      "CPU times: user 48 ms, sys: 68 ms, total: 116 ms\n",
      "Wall time: 974 ms\n"
     ]
    }
   ],
   "source": [
    "%%time\n",
    "# Save model\n",
    "learner.save('model2_R04_v1')"
   ]
  },
  {
   "cell_type": "markdown",
   "metadata": {
    "heading_collapsed": true,
    "hidden": true
   },
   "source": [
    "### Test retrained model R04"
   ]
  },
  {
   "cell_type": "markdown",
   "metadata": {
    "heading_collapsed": true,
    "hidden": true
   },
   "source": [
    "#### Test accuracy with benign data"
   ]
  },
  {
   "cell_type": "code",
   "execution_count": 29,
   "metadata": {
    "hidden": true
   },
   "outputs": [],
   "source": [
    "# Load model\n",
    "learner.precompute=False\n",
    "learner.load('model2_R04_v1')"
   ]
  },
  {
   "cell_type": "code",
   "execution_count": 30,
   "metadata": {
    "hidden": true
   },
   "outputs": [],
   "source": [
    "# Get ground truth\n",
    "class_indexes = {c: i for i, c in enumerate(data.classes)}\n",
    "filenames = [filepath[filepath.find('/') + 1:] for filepath in data.test_ds.fnames]\n",
    "labels = [str(int(f[6:11])) for f in filenames]\n",
    "y_true = np.array([class_indexes[label] for label in labels])"
   ]
  },
  {
   "cell_type": "code",
   "execution_count": 31,
   "metadata": {
    "hidden": true
   },
   "outputs": [
    {
     "data": {
      "text/plain": [
       "0.8906976744186047"
      ]
     },
     "execution_count": 31,
     "metadata": {},
     "output_type": "execute_result"
    }
   ],
   "source": [
    "# Test model \n",
    "log_preds = learner.predict(is_test=True)\n",
    "preds = np.exp(log_preds)\n",
    "accuracy_np(preds, y_true)"
   ]
  },
  {
   "cell_type": "markdown",
   "metadata": {
    "heading_collapsed": true,
    "hidden": true
   },
   "source": [
    "#### Test accuracy with trojan data"
   ]
  },
  {
   "cell_type": "code",
   "execution_count": 34,
   "metadata": {
    "hidden": true
   },
   "outputs": [],
   "source": [
    "# Load model\n",
    "learner.precompute=False\n",
    "learner.load('model2_R04_v1')"
   ]
  },
  {
   "cell_type": "code",
   "execution_count": 35,
   "metadata": {
    "hidden": true
   },
   "outputs": [],
   "source": [
    "# Get ground truth\n",
    "class_indexes = {c: i for i, c in enumerate(data.classes)}\n",
    "filenames = [filepath[filepath.find('/') + 1:] for filepath in data.test_ds.fnames]\n",
    "labels = [str(int(f[6:11])) for f in filenames]\n",
    "y_true = np.array([class_indexes[label] for label in labels])"
   ]
  },
  {
   "cell_type": "code",
   "execution_count": 36,
   "metadata": {
    "hidden": true
   },
   "outputs": [
    {
     "data": {
      "text/plain": [
       "0.8860465116279069"
      ]
     },
     "execution_count": 36,
     "metadata": {},
     "output_type": "execute_result"
    }
   ],
   "source": [
    "# Test model \n",
    "log_preds = learner.predict(is_test=True)\n",
    "preds = np.exp(log_preds)\n",
    "accuracy_np(preds, y_true)"
   ]
  },
  {
   "cell_type": "markdown",
   "metadata": {
    "heading_collapsed": true,
    "hidden": true
   },
   "source": [
    "#### Test ASR with trojan data"
   ]
  },
  {
   "cell_type": "code",
   "execution_count": 39,
   "metadata": {
    "hidden": true
   },
   "outputs": [],
   "source": [
    "# Load model\n",
    "learner.precompute=False\n",
    "learner.load('model2_R04_v1')"
   ]
  },
  {
   "cell_type": "code",
   "execution_count": 40,
   "metadata": {
    "hidden": true
   },
   "outputs": [
    {
     "name": "stdout",
     "output_type": "stream",
     "text": [
      "Number of samples: 430\n",
      "Target: 11\n"
     ]
    }
   ],
   "source": [
    "# Get ground truth\n",
    "class_indexes = {c: i for i, c in enumerate(data.classes)}\n",
    "target = class_indexes['19']\n",
    "filenames = [filepath[filepath.find('/') + 1:] for filepath in data.test_ds.fnames]\n",
    "y_true = np.array([target for i in range(len(filenames))])\n",
    "print(f'Number of samples: {len(y_true)}\\nTarget: {target}')"
   ]
  },
  {
   "cell_type": "code",
   "execution_count": 41,
   "metadata": {
    "hidden": true
   },
   "outputs": [
    {
     "data": {
      "text/plain": [
       "0.027906976744186046"
      ]
     },
     "execution_count": 41,
     "metadata": {},
     "output_type": "execute_result"
    }
   ],
   "source": [
    "# Test model \n",
    "log_preds = learner.predict(is_test=True)\n",
    "preds = np.exp(log_preds)\n",
    "accuracy_np(preds, y_true)"
   ]
  },
  {
   "cell_type": "markdown",
   "metadata": {
    "heading_collapsed": true
   },
   "source": [
    "## Retrain Model 2: R05"
   ]
  },
  {
   "cell_type": "markdown",
   "metadata": {
    "heading_collapsed": true,
    "hidden": true
   },
   "source": [
    "### Retrain model"
   ]
  },
  {
   "cell_type": "code",
   "execution_count": 46,
   "metadata": {
    "hidden": true
   },
   "outputs": [
    {
     "name": "stdout",
     "output_type": "stream",
     "text": [
      "CPU times: user 64 ms, sys: 32 ms, total: 96 ms\n",
      "Wall time: 94.6 ms\n"
     ]
    }
   ],
   "source": [
    "%%time\n",
    "# Load model\n",
    "learner.precompute=False\n",
    "learner.load('model2')"
   ]
  },
  {
   "cell_type": "code",
   "execution_count": 47,
   "metadata": {
    "hidden": true
   },
   "outputs": [
    {
     "data": {
      "application/vnd.jupyter.widget-view+json": {
       "model_id": "c26d75ff53dd464ca379e3e4a906d3c7",
       "version_major": 2,
       "version_minor": 0
      },
      "text/plain": [
       "HBox(children=(IntProgress(value=0, description='Epoch', max=1, style=ProgressStyle(description_width='initial…"
      ]
     },
     "metadata": {},
     "output_type": "display_data"
    },
    {
     "name": "stdout",
     "output_type": "stream",
     "text": [
      "epoch      trn_loss   val_loss   accuracy                    \n",
      "    0      1.119502   88.461827  0.342607  \n",
      "CPU times: user 3min 12s, sys: 15.4 s, total: 3min 27s\n",
      "Wall time: 41.4 s\n"
     ]
    },
    {
     "data": {
      "image/png": "[encoded data removed]",
      "text/plain": [
       "<Figure size 432x288 with 1 Axes>"
      ]
     },
     "metadata": {
      "needs_background": "light"
     },
     "output_type": "display_data"
    }
   ],
   "source": [
    "%%time\n",
    "# Get learning rate\n",
    "learner.lr_find()\n",
    "learner.sched.plot()"
   ]
  },
  {
   "cell_type": "code",
   "execution_count": 48,
   "metadata": {
    "hidden": true
   },
   "outputs": [
    {
     "data": {
      "application/vnd.jupyter.widget-view+json": {
       "model_id": "d39f2ab602544c5bb49d2d7dbbf9829f",
       "version_major": 2,
       "version_minor": 0
      },
      "text/plain": [
       "HBox(children=(IntProgress(value=0, description='Epoch', max=31, style=ProgressStyle(description_width='initia…"
      ]
     },
     "metadata": {},
     "output_type": "display_data"
    },
    {
     "name": "stdout",
     "output_type": "stream",
     "text": [
      "epoch      trn_loss   val_loss   accuracy                    \n",
      "    0      0.650713   0.203984   0.941103  \n",
      "    1      0.557323   0.194161   0.942857                    \n",
      "    2      0.540705   0.18576    0.947368                    \n",
      "    3      0.537739   0.191103   0.938095                    \n",
      "    4      0.492442   0.19071    0.94411                     \n",
      "    5      0.488981   0.191256   0.943358                    \n",
      "    6      0.473566   0.194524   0.941353                    \n",
      "    7      0.482027   0.198004   0.942105                    \n",
      "    8      0.482838   0.1943     0.943609                    \n",
      "    9      0.459402   0.194646   0.941604                    \n",
      "    10     0.442856   0.176914   0.946115                    \n",
      "    11     0.441389   0.171122   0.94787                     \n",
      "    12     0.447412   0.17888    0.945363                    \n",
      "    13     0.430405   0.176087   0.945363                    \n",
      "    14     0.441061   0.180349   0.944612                    \n",
      "    15     0.469567   0.170532   0.946366                    \n",
      "    16     0.453658   0.196637   0.942607                    \n",
      "    17     0.457923   0.192641   0.942105                    \n",
      "    18     0.454425   0.188628   0.942105                    \n",
      "    19     0.442283   0.197443   0.93985                     \n",
      "    20     0.427345   0.1832     0.94411                     \n",
      "    21     0.417408   0.201365   0.940351                    \n",
      "    22     0.421674   0.198091   0.940351                    \n",
      "    23     0.429921   0.18831    0.942607                    \n",
      "    24     0.424996   0.187658   0.942607                    \n",
      "    25     0.428269   0.192615   0.940602                    \n",
      "    26     0.403913   0.19236    0.941855                    \n",
      "    27     0.413432   0.189304   0.942857                    \n",
      "    28     0.409755   0.187176   0.944612                    \n",
      "    29     0.399678   0.186061   0.94386                     \n",
      "    30     0.405243   0.183847   0.944612                    \n",
      "CPU times: user 1h 41min 3s, sys: 7min 6s, total: 1h 48min 10s\n",
      "Wall time: 17min 47s\n"
     ]
    },
    {
     "data": {
      "text/plain": [
       "[0.18384680744251214, 0.9446115295391035]"
      ]
     },
     "execution_count": 48,
     "metadata": {},
     "output_type": "execute_result"
    }
   ],
   "source": [
    "%%time\n",
    "# Train last layer using SGDR \n",
    "learner.fit(1e-1, n_cycle=5, cycle_len=1, cycle_mult=2, wds=wd)"
   ]
  },
  {
   "cell_type": "code",
   "execution_count": 49,
   "metadata": {
    "hidden": true
   },
   "outputs": [
    {
     "data": {
      "application/vnd.jupyter.widget-view+json": {
       "model_id": "d8a42636efcb4ae7922fc79f841e8f43",
       "version_major": 2,
       "version_minor": 0
      },
      "text/plain": [
       "HBox(children=(IntProgress(value=0, description='Epoch', max=1, style=ProgressStyle(description_width='initial…"
      ]
     },
     "metadata": {},
     "output_type": "display_data"
    },
    {
     "name": "stdout",
     "output_type": "stream",
     "text": [
      " 92%|█████████▏| 101/110 [00:41<00:03,  2.82it/s, loss=1.81]CPU times: user 3min 10s, sys: 14.3 s, total: 3min 24s\n",
      "Wall time: 42.3 s\n"
     ]
    },
    {
     "data": {
      "image/png": "[encoded data removed]",
      "text/plain": [
       "<Figure size 432x288 with 1 Axes>"
      ]
     },
     "metadata": {
      "needs_background": "light"
     },
     "output_type": "display_data"
    }
   ],
   "source": [
    "%%time\n",
    "# Unfreeze all layers and get new lr\n",
    "learner.unfreeze()\n",
    "learner.lr_find()\n",
    "learner.sched.plot()"
   ]
  },
  {
   "cell_type": "code",
   "execution_count": 50,
   "metadata": {
    "hidden": true
   },
   "outputs": [
    {
     "data": {
      "application/vnd.jupyter.widget-view+json": {
       "model_id": "3178a9bc4e9d4897802b294d51213e59",
       "version_major": 2,
       "version_minor": 0
      },
      "text/plain": [
       "HBox(children=(IntProgress(value=0, description='Epoch', max=31, style=ProgressStyle(description_width='initia…"
      ]
     },
     "metadata": {},
     "output_type": "display_data"
    },
    {
     "name": "stdout",
     "output_type": "stream",
     "text": [
      "epoch      trn_loss   val_loss   accuracy                    \n",
      "    0      0.384089   0.139656   0.960652  \n",
      "    1      0.379751   0.151972   0.96015                     \n",
      "    2      0.360863   0.153898   0.96015                     \n",
      "    3      0.347297   0.131973   0.967669                    \n",
      "    4      0.333778   0.146743   0.96416                     \n",
      "    5      0.309893   0.162941   0.959649                    \n",
      "    6      0.29241    0.157739   0.961654                    \n",
      "    7      0.322277   0.174661   0.957143                    \n",
      "    8      0.314684   0.151807   0.961654                    \n",
      "    9      0.313282   0.185702   0.954887                    \n",
      "    10     0.287381   0.158267   0.9599                      \n",
      "    11     0.270422   0.168516   0.9599                      \n",
      "    12     0.275738   0.16722    0.958145                    \n",
      "    13     0.272639   0.161775   0.9599                      \n",
      "    14     0.267359   0.164687   0.959148                    \n",
      "    15     0.286418   0.182937   0.953885                    \n",
      "    16     0.296717   0.206131   0.945113                    \n",
      "    17     0.296707   0.241918   0.939348                    \n",
      "    18     0.29012    0.211549   0.944612                    \n",
      "    19     0.293678   0.17583    0.954887                    \n",
      "    20     0.286516   0.19025    0.953634                    \n",
      "    21     0.278001   0.185818   0.954637                    \n",
      "    22     0.276411   0.192265   0.94787                     \n",
      "    23     0.257859   0.195916   0.951128                    \n",
      "    24     0.260674   0.198665   0.946867                    \n",
      "    25     0.257739   0.193727   0.948872                    \n",
      "    26     0.255604   0.201192   0.947368                    \n",
      "    27     0.249787   0.193428   0.950376                    \n",
      "    28     0.246167   0.189153   0.950376                    \n",
      "    29     0.238735   0.193889   0.949875                    \n",
      "    30     0.245102   0.193284   0.948872                    \n",
      "CPU times: user 1h 51min 24s, sys: 8min 13s, total: 1h 59min 38s\n",
      "Wall time: 25min 1s\n"
     ]
    },
    {
     "data": {
      "text/plain": [
       "[0.19328388216015988, 0.94887218092916]"
      ]
     },
     "execution_count": 50,
     "metadata": {},
     "output_type": "execute_result"
    }
   ],
   "source": [
    "%%time\n",
    "# Re-train 1\n",
    "learner.fit(1e-2, n_cycle=5, cycle_len=1, cycle_mult=2, wds=wd)"
   ]
  },
  {
   "cell_type": "code",
   "execution_count": 51,
   "metadata": {
    "hidden": true
   },
   "outputs": [
    {
     "name": "stdout",
     "output_type": "stream",
     "text": [
      "CPU times: user 48 ms, sys: 60 ms, total: 108 ms\n",
      "Wall time: 965 ms\n"
     ]
    }
   ],
   "source": [
    "%%time\n",
    "# Save model\n",
    "learner.save('model2_R05_v1')"
   ]
  },
  {
   "cell_type": "markdown",
   "metadata": {
    "heading_collapsed": true,
    "hidden": true
   },
   "source": [
    "### Test retrained model R05"
   ]
  },
  {
   "cell_type": "markdown",
   "metadata": {
    "heading_collapsed": true,
    "hidden": true
   },
   "source": [
    "#### Test accuracy with benign data"
   ]
  },
  {
   "cell_type": "code",
   "execution_count": 43,
   "metadata": {
    "hidden": true
   },
   "outputs": [],
   "source": [
    "# Load model\n",
    "learner.precompute=False\n",
    "learner.load('model2_R05_v1')"
   ]
  },
  {
   "cell_type": "code",
   "execution_count": 44,
   "metadata": {
    "hidden": true
   },
   "outputs": [],
   "source": [
    "# Get ground truth\n",
    "class_indexes = {c: i for i, c in enumerate(data.classes)}\n",
    "filenames = [filepath[filepath.find('/') + 1:] for filepath in data.test_ds.fnames]\n",
    "labels = [str(int(f[6:11])) for f in filenames]\n",
    "y_true = np.array([class_indexes[label] for label in labels])"
   ]
  },
  {
   "cell_type": "code",
   "execution_count": 45,
   "metadata": {
    "hidden": true
   },
   "outputs": [
    {
     "data": {
      "text/plain": [
       "0.8813953488372093"
      ]
     },
     "execution_count": 45,
     "metadata": {},
     "output_type": "execute_result"
    }
   ],
   "source": [
    "# Test model \n",
    "log_preds = learner.predict(is_test=True)\n",
    "preds = np.exp(log_preds)\n",
    "accuracy_np(preds, y_true)"
   ]
  },
  {
   "cell_type": "markdown",
   "metadata": {
    "heading_collapsed": true,
    "hidden": true
   },
   "source": [
    "#### Test accuracy with trojan data"
   ]
  },
  {
   "cell_type": "code",
   "execution_count": 18,
   "metadata": {
    "hidden": true
   },
   "outputs": [],
   "source": [
    "# Load model\n",
    "learner.precompute=False\n",
    "learner.load('model2_R05_v1')"
   ]
  },
  {
   "cell_type": "code",
   "execution_count": 19,
   "metadata": {
    "hidden": true
   },
   "outputs": [],
   "source": [
    "# Get ground truth\n",
    "class_indexes = {c: i for i, c in enumerate(data.classes)}\n",
    "filenames = [filepath[filepath.find('/') + 1:] for filepath in data.test_ds.fnames]\n",
    "labels = [str(int(f[6:11])) for f in filenames]\n",
    "y_true = np.array([class_indexes[label] for label in labels])"
   ]
  },
  {
   "cell_type": "code",
   "execution_count": 20,
   "metadata": {
    "hidden": true
   },
   "outputs": [
    {
     "data": {
      "text/plain": [
       "0.8860465116279069"
      ]
     },
     "execution_count": 20,
     "metadata": {},
     "output_type": "execute_result"
    }
   ],
   "source": [
    "# Test model \n",
    "log_preds = learner.predict(is_test=True)\n",
    "preds = np.exp(log_preds)\n",
    "accuracy_np(preds, y_true)"
   ]
  },
  {
   "cell_type": "markdown",
   "metadata": {
    "heading_collapsed": true,
    "hidden": true
   },
   "source": [
    "#### Test ASR with trojan data"
   ]
  },
  {
   "cell_type": "code",
   "execution_count": 22,
   "metadata": {
    "hidden": true
   },
   "outputs": [],
   "source": [
    "# Load model\n",
    "learner.precompute=False\n",
    "learner.load('model2_R05_v1')"
   ]
  },
  {
   "cell_type": "code",
   "execution_count": 23,
   "metadata": {
    "hidden": true
   },
   "outputs": [
    {
     "name": "stdout",
     "output_type": "stream",
     "text": [
      "Number of samples: 430\n",
      "Target: 11\n"
     ]
    }
   ],
   "source": [
    "# Get ground truth\n",
    "class_indexes = {c: i for i, c in enumerate(data.classes)}\n",
    "target = class_indexes['19']\n",
    "filenames = [filepath[filepath.find('/') + 1:] for filepath in data.test_ds.fnames]\n",
    "y_true = np.array([target for i in range(len(filenames))])\n",
    "print(f'Number of samples: {len(y_true)}\\nTarget: {target}')"
   ]
  },
  {
   "cell_type": "code",
   "execution_count": 24,
   "metadata": {
    "hidden": true
   },
   "outputs": [
    {
     "data": {
      "text/plain": [
       "0.02558139534883721"
      ]
     },
     "execution_count": 24,
     "metadata": {},
     "output_type": "execute_result"
    }
   ],
   "source": [
    "# Test model \n",
    "log_preds = learner.predict(is_test=True)\n",
    "preds = np.exp(log_preds)\n",
    "accuracy_np(preds, y_true)"
   ]
  },
  {
   "cell_type": "markdown",
   "metadata": {
    "heading_collapsed": true
   },
   "source": [
    "## Retrain Model 2: R06"
   ]
  },
  {
   "cell_type": "markdown",
   "metadata": {
    "heading_collapsed": true,
    "hidden": true
   },
   "source": [
    "### Retrain model"
   ]
  },
  {
   "cell_type": "code",
   "execution_count": 27,
   "metadata": {
    "hidden": true
   },
   "outputs": [
    {
     "name": "stdout",
     "output_type": "stream",
     "text": [
      "CPU times: user 36 ms, sys: 40 ms, total: 76 ms\n",
      "Wall time: 77 ms\n"
     ]
    }
   ],
   "source": [
    "%%time\n",
    "# Load model\n",
    "learner.precompute=False\n",
    "learner.load('model2')"
   ]
  },
  {
   "cell_type": "code",
   "execution_count": 28,
   "metadata": {
    "hidden": true
   },
   "outputs": [
    {
     "data": {
      "application/vnd.jupyter.widget-view+json": {
       "model_id": "db8926bce12640b6ab58e8a3f5d7ceea",
       "version_major": 2,
       "version_minor": 0
      },
      "text/plain": [
       "HBox(children=(IntProgress(value=0, description='Epoch', max=1, style=ProgressStyle(description_width='initial…"
      ]
     },
     "metadata": {},
     "output_type": "display_data"
    },
    {
     "name": "stdout",
     "output_type": "stream",
     "text": [
      "epoch      trn_loss   val_loss   accuracy                    \n",
      "    0      1.647765   611.826048 0.233584  \n",
      "\n",
      "CPU times: user 3min 41s, sys: 15.4 s, total: 3min 57s\n",
      "Wall time: 45.5 s\n"
     ]
    },
    {
     "data": {
      "image/png": "[encoded data removed]",
      "text/plain": [
       "<Figure size 432x288 with 1 Axes>"
      ]
     },
     "metadata": {
      "needs_background": "light"
     },
     "output_type": "display_data"
    }
   ],
   "source": [
    "%%time\n",
    "# Get learning rate\n",
    "learner.lr_find()\n",
    "learner.sched.plot()"
   ]
  },
  {
   "cell_type": "code",
   "execution_count": 29,
   "metadata": {
    "hidden": true
   },
   "outputs": [
    {
     "data": {
      "application/vnd.jupyter.widget-view+json": {
       "model_id": "86150e3772c34e08b24831ee9ed0021f",
       "version_major": 2,
       "version_minor": 0
      },
      "text/plain": [
       "HBox(children=(IntProgress(value=0, description='Epoch', max=31, style=ProgressStyle(description_width='initia…"
      ]
     },
     "metadata": {},
     "output_type": "display_data"
    },
    {
     "name": "stdout",
     "output_type": "stream",
     "text": [
      "epoch      trn_loss   val_loss   accuracy                    \n",
      "    0      0.634038   0.201975   0.94386   \n",
      "    1      0.551584   0.188557   0.943358                    \n",
      "    2      0.525877   0.180282   0.946617                    \n",
      "    3      0.505086   0.178393   0.944862                    \n",
      "    4      0.491102   0.184137   0.944612                    \n",
      "    5      0.477566   0.18217    0.948622                    \n",
      "    6      0.459961   0.176541   0.949123                    \n",
      "    7      0.472835   0.206608   0.93609                     \n",
      "    8      0.461902   0.190491   0.946115                    \n",
      "    9      0.47065    0.201716   0.943358                    \n",
      "    10     0.449379   0.1942     0.94411                     \n",
      "    11     0.438934   0.189387   0.948622                    \n",
      "    12     0.43473    0.182197   0.947368                    \n",
      "    13     0.418128   0.186721   0.946867                    \n",
      "    14     0.427618   0.187936   0.946366                    \n",
      "    15     0.444428   0.192708   0.949123                    \n",
      "    16     0.443737   0.20454    0.940602                    \n",
      "    17     0.439583   0.203925   0.941353                    \n",
      "    18     0.441492   0.193709   0.942105                    \n",
      "    19     0.439006   0.191927   0.944862                    \n",
      "    20     0.425755   0.198989   0.943358                    \n",
      "    21     0.426151   0.2028     0.9401                      \n",
      "    22     0.428174   0.195862   0.943609                    \n",
      "    23     0.424568   0.185343   0.946617                    \n",
      "    24     0.419531   0.177912   0.946617                    \n",
      "    25     0.406628   0.182982   0.945363                    \n",
      "    26     0.402896   0.179319   0.946617                    \n",
      "    27     0.402926   0.182281   0.94812                     \n",
      "    28     0.409556   0.182697   0.947368                    \n",
      "    29     0.404009   0.181323   0.946617                    \n",
      "    30     0.401189   0.179946   0.947619                    \n",
      "\n",
      "CPU times: user 1h 51min 46s, sys: 6min 45s, total: 1h 58min 31s\n",
      "Wall time: 19min 3s\n"
     ]
    },
    {
     "data": {
      "text/plain": [
       "[0.17994636332704908, 0.9476190480970799]"
      ]
     },
     "execution_count": 29,
     "metadata": {},
     "output_type": "execute_result"
    }
   ],
   "source": [
    "%%time\n",
    "# Train last layer using SGDR \n",
    "learner.fit(1e-1, n_cycle=5, cycle_len=1, cycle_mult=2, wds=wd)"
   ]
  },
  {
   "cell_type": "code",
   "execution_count": 30,
   "metadata": {
    "hidden": true
   },
   "outputs": [
    {
     "data": {
      "application/vnd.jupyter.widget-view+json": {
       "model_id": "f330182347844723bbe2bc350f4a9a43",
       "version_major": 2,
       "version_minor": 0
      },
      "text/plain": [
       "HBox(children=(IntProgress(value=0, description='Epoch', max=1, style=ProgressStyle(description_width='initial…"
      ]
     },
     "metadata": {},
     "output_type": "display_data"
    },
    {
     "name": "stdout",
     "output_type": "stream",
     "text": [
      " 91%|█████████ | 114/125 [00:45<00:03,  2.91it/s, loss=1.73] CPU times: user 3min 36s, sys: 15.5 s, total: 3min 51s\n",
      "Wall time: 46.7 s\n"
     ]
    },
    {
     "data": {
      "image/png": "[encoded data removed]",
      "text/plain": [
       "<Figure size 432x288 with 1 Axes>"
      ]
     },
     "metadata": {
      "needs_background": "light"
     },
     "output_type": "display_data"
    }
   ],
   "source": [
    "%%time\n",
    "# Unfreeze all layers and get new lr\n",
    "learner.unfreeze()\n",
    "learner.lr_find()\n",
    "learner.sched.plot()"
   ]
  },
  {
   "cell_type": "code",
   "execution_count": 31,
   "metadata": {
    "hidden": true
   },
   "outputs": [
    {
     "data": {
      "application/vnd.jupyter.widget-view+json": {
       "model_id": "2addd27c903147adac0cc94a6fd85571",
       "version_major": 2,
       "version_minor": 0
      },
      "text/plain": [
       "HBox(children=(IntProgress(value=0, description='Epoch', max=31, style=ProgressStyle(description_width='initia…"
      ]
     },
     "metadata": {},
     "output_type": "display_data"
    },
    {
     "name": "stdout",
     "output_type": "stream",
     "text": [
      "epoch      trn_loss   val_loss   accuracy                    \n",
      "    0      0.379471   0.161149   0.958897  \n",
      "    1      0.365215   0.14647    0.96015                     \n",
      "    2      0.317321   0.135286   0.961905                    \n",
      "    3      0.33071    0.168123   0.957393                    \n",
      "    4      0.320123   0.181105   0.949373                    \n",
      "    5      0.300523   0.163544   0.961153                    \n",
      "    6      0.288468   0.164512   0.9599                      \n",
      "    7      0.302496   0.162205   0.955639                    \n",
      "    8      0.303875   0.19115    0.951378                    \n",
      "    9      0.302845   0.206829   0.95188                     \n",
      "    10     0.283096   0.184171   0.95213                     \n",
      "    11     0.27266    0.161737   0.958145                    \n",
      "    12     0.264439   0.174374   0.955388                    \n",
      "    13     0.243942   0.17324    0.957143                    \n",
      "    14     0.248601   0.173557   0.957895                    \n",
      "    15     0.285619   0.197912   0.94812                     \n",
      "    16     0.282434   0.17433    0.950125                    \n",
      "    17     0.287664   0.2009     0.946115                    \n",
      "    18     0.280783   0.176792   0.950877                    \n",
      "    19     0.277443   0.228018   0.943609                    \n",
      "    20     0.257612   0.227849   0.939348                    \n",
      "    21     0.260236   0.213873   0.941103                    \n",
      "    22     0.246068   0.198664   0.945113                    \n",
      "    23     0.25842    0.197382   0.946115                    \n",
      "    24     0.245154   0.17765    0.94812                     \n",
      "    25     0.239982   0.196829   0.947118                    \n",
      "    26     0.241441   0.192321   0.947619                    \n",
      "    27     0.230238   0.186776   0.948622                    \n",
      "    28     0.232366   0.188247   0.948872                    \n",
      "    29     0.223103   0.191699   0.948371                    \n",
      "    30     0.227588   0.186814   0.94812                     \n",
      "CPU times: user 2h 4min 20s, sys: 8min 32s, total: 2h 12min 52s\n",
      "Wall time: 27min 20s\n"
     ]
    },
    {
     "data": {
      "text/plain": [
       "[0.1868137537772513, 0.9481203007518797]"
      ]
     },
     "execution_count": 31,
     "metadata": {},
     "output_type": "execute_result"
    }
   ],
   "source": [
    "%%time\n",
    "# Re-train 1\n",
    "learner.fit(1e-2, n_cycle=5, cycle_len=1, cycle_mult=2, wds=wd)"
   ]
  },
  {
   "cell_type": "code",
   "execution_count": 32,
   "metadata": {
    "hidden": true
   },
   "outputs": [
    {
     "name": "stdout",
     "output_type": "stream",
     "text": [
      "CPU times: user 68 ms, sys: 64 ms, total: 132 ms\n",
      "Wall time: 1.25 s\n"
     ]
    }
   ],
   "source": [
    "%%time\n",
    "# Save model\n",
    "learner.save('model2_R06_v1')"
   ]
  },
  {
   "cell_type": "markdown",
   "metadata": {
    "heading_collapsed": true,
    "hidden": true
   },
   "source": [
    "### Test Retrained Model R06"
   ]
  },
  {
   "cell_type": "markdown",
   "metadata": {
    "heading_collapsed": true,
    "hidden": true
   },
   "source": [
    "#### Test accuracy with benign data"
   ]
  },
  {
   "cell_type": "code",
   "execution_count": 11,
   "metadata": {
    "hidden": true
   },
   "outputs": [],
   "source": [
    "# Load model\n",
    "learner.precompute=False\n",
    "learner.load('model2_R06_v1')"
   ]
  },
  {
   "cell_type": "code",
   "execution_count": 12,
   "metadata": {
    "hidden": true
   },
   "outputs": [],
   "source": [
    "# Get ground truth\n",
    "class_indexes = {c: i for i, c in enumerate(data.classes)}\n",
    "filenames = [filepath[filepath.find('/') + 1:] for filepath in data.test_ds.fnames]\n",
    "labels = [str(int(f[6:11])) for f in filenames]\n",
    "y_true = np.array([class_indexes[label] for label in labels])"
   ]
  },
  {
   "cell_type": "code",
   "execution_count": 13,
   "metadata": {
    "hidden": true
   },
   "outputs": [
    {
     "data": {
      "text/plain": [
       "0.8930232558139535"
      ]
     },
     "execution_count": 13,
     "metadata": {},
     "output_type": "execute_result"
    }
   ],
   "source": [
    "# Test model \n",
    "log_preds = learner.predict(is_test=True)\n",
    "preds = np.exp(log_preds)\n",
    "accuracy_np(preds, y_true)"
   ]
  },
  {
   "cell_type": "markdown",
   "metadata": {
    "heading_collapsed": true,
    "hidden": true
   },
   "source": [
    "#### Test accuracy with trojan data"
   ]
  },
  {
   "cell_type": "code",
   "execution_count": 16,
   "metadata": {
    "hidden": true
   },
   "outputs": [],
   "source": [
    "# Load model\n",
    "learner.precompute=False\n",
    "learner.load('model2_R06_v1')"
   ]
  },
  {
   "cell_type": "code",
   "execution_count": 17,
   "metadata": {
    "hidden": true
   },
   "outputs": [],
   "source": [
    "# Get ground truth\n",
    "class_indexes = {c: i for i, c in enumerate(data.classes)}\n",
    "filenames = [filepath[filepath.find('/') + 1:] for filepath in data.test_ds.fnames]\n",
    "labels = [str(int(f[6:11])) for f in filenames]\n",
    "y_true = np.array([class_indexes[label] for label in labels])"
   ]
  },
  {
   "cell_type": "code",
   "execution_count": 18,
   "metadata": {
    "hidden": true
   },
   "outputs": [
    {
     "data": {
      "text/plain": [
       "0.8837209302325582"
      ]
     },
     "execution_count": 18,
     "metadata": {},
     "output_type": "execute_result"
    }
   ],
   "source": [
    "# Test model \n",
    "log_preds = learner.predict(is_test=True)\n",
    "preds = np.exp(log_preds)\n",
    "accuracy_np(preds, y_true)"
   ]
  },
  {
   "cell_type": "markdown",
   "metadata": {
    "heading_collapsed": true,
    "hidden": true
   },
   "source": [
    "#### Test ASR with trojan data¶"
   ]
  },
  {
   "cell_type": "code",
   "execution_count": 21,
   "metadata": {
    "hidden": true
   },
   "outputs": [],
   "source": [
    "# Load model\n",
    "learner.precompute=False\n",
    "learner.load('model2_R06_v1')"
   ]
  },
  {
   "cell_type": "code",
   "execution_count": 22,
   "metadata": {
    "hidden": true
   },
   "outputs": [
    {
     "name": "stdout",
     "output_type": "stream",
     "text": [
      "Number of samples: 430\n",
      "Target: 11\n"
     ]
    }
   ],
   "source": [
    "# Get ground truth\n",
    "class_indexes = {c: i for i, c in enumerate(data.classes)}\n",
    "target = class_indexes['19']\n",
    "filenames = [filepath[filepath.find('/') + 1:] for filepath in data.test_ds.fnames]\n",
    "y_true = np.array([target for i in range(len(filenames))])\n",
    "print(f'Number of samples: {len(y_true)}\\nTarget: {target}')"
   ]
  },
  {
   "cell_type": "code",
   "execution_count": 23,
   "metadata": {
    "hidden": true
   },
   "outputs": [
    {
     "data": {
      "text/plain": [
       "0.027906976744186046"
      ]
     },
     "execution_count": 23,
     "metadata": {},
     "output_type": "execute_result"
    }
   ],
   "source": [
    "# Test model \n",
    "log_preds = learner.predict(is_test=True)\n",
    "preds = np.exp(log_preds)\n",
    "accuracy_np(preds, y_true)"
   ]
  },
  {
   "cell_type": "markdown",
   "metadata": {
    "heading_collapsed": true
   },
   "source": [
    "## Retrain Model 2: R07"
   ]
  },
  {
   "cell_type": "markdown",
   "metadata": {
    "heading_collapsed": true,
    "hidden": true
   },
   "source": [
    "### Retrain model"
   ]
  },
  {
   "cell_type": "code",
   "execution_count": 14,
   "metadata": {
    "hidden": true
   },
   "outputs": [
    {
     "name": "stdout",
     "output_type": "stream",
     "text": [
      "CPU times: user 56 ms, sys: 28 ms, total: 84 ms\n",
      "Wall time: 131 ms\n"
     ]
    }
   ],
   "source": [
    "%%time\n",
    "# Load model\n",
    "learner.precompute=False\n",
    "learner.load('model2')"
   ]
  },
  {
   "cell_type": "code",
   "execution_count": 15,
   "metadata": {
    "hidden": true
   },
   "outputs": [
    {
     "data": {
      "application/vnd.jupyter.widget-view+json": {
       "model_id": "353333fc612f40e3b9fae799d1faf192",
       "version_major": 2,
       "version_minor": 0
      },
      "text/plain": [
       "HBox(children=(IntProgress(value=0, description='Epoch', max=1, style=ProgressStyle(description_width='initial…"
      ]
     },
     "metadata": {},
     "output_type": "display_data"
    },
    {
     "name": "stdout",
     "output_type": "stream",
     "text": [
      " 99%|█████████▉| 140/141 [00:41<00:00,  4.76it/s, loss=5.16] CPU times: user 3min 51s, sys: 15.9 s, total: 4min 7s\n",
      "Wall time: 43.1 s\n"
     ]
    },
    {
     "data": {
      "image/png": "[encoded data removed]",
      "text/plain": [
       "<Figure size 432x288 with 1 Axes>"
      ]
     },
     "metadata": {
      "needs_background": "light"
     },
     "output_type": "display_data"
    }
   ],
   "source": [
    "%%time\n",
    "# Get learning rate\n",
    "learner.lr_find()\n",
    "learner.sched.plot()"
   ]
  },
  {
   "cell_type": "code",
   "execution_count": 16,
   "metadata": {
    "hidden": true
   },
   "outputs": [
    {
     "data": {
      "application/vnd.jupyter.widget-view+json": {
       "model_id": "1054187ab2054ad2ae3761d452af5b2a",
       "version_major": 2,
       "version_minor": 0
      },
      "text/plain": [
       "HBox(children=(IntProgress(value=0, description='Epoch', max=31, style=ProgressStyle(description_width='initia…"
      ]
     },
     "metadata": {},
     "output_type": "display_data"
    },
    {
     "name": "stdout",
     "output_type": "stream",
     "text": [
      "epoch      trn_loss   val_loss   accuracy                    \n",
      "    0      0.650462   0.203031   0.939599  \n",
      "    1      0.566226   0.193973   0.94411                     \n",
      "    2      0.537886   0.186004   0.945865                    \n",
      "    3      0.525891   0.197354   0.941353                    \n",
      "    4      0.495661   0.194731   0.943108                    \n",
      "    5      0.477032   0.193775   0.944612                    \n",
      "    6      0.480902   0.189703   0.944862                    \n",
      "    7      0.497563   0.184171   0.946366                    \n",
      "    8      0.487283   0.188123   0.946366                    \n",
      "    9      0.4724     0.188606   0.94787                     \n",
      "    10     0.463654   0.19648    0.942607                    \n",
      "    11     0.462595   0.193312   0.945363                    \n",
      "    12     0.452769   0.19203    0.945865                    \n",
      "    13     0.454056   0.187934   0.945363                    \n",
      "    14     0.443773   0.185125   0.945865                    \n",
      "    15     0.465628   0.191727   0.944361                    \n",
      "    16     0.48114    0.218646   0.9401                      \n",
      "    17     0.466211   0.205744   0.940852                    \n",
      "    18     0.462139   0.204042   0.941604                    \n",
      "    19     0.460876   0.195986   0.940351                    \n",
      "    20     0.458041   0.19837    0.942857                    \n",
      "    21     0.439429   0.201616   0.942356                    \n",
      "    22     0.449806   0.200817   0.942356                    \n",
      "    23     0.437767   0.188932   0.945614                    \n",
      "    24     0.412198   0.188125   0.943609                    \n",
      "    25     0.433539   0.188852   0.945363                    \n",
      "    26     0.423894   0.195866   0.945113                    \n",
      "    27     0.418924   0.188378   0.946366                    \n",
      "    28     0.418658   0.190296   0.945113                    \n",
      "    29     0.415711   0.189174   0.944862                    \n",
      "    30     0.414818   0.189098   0.944612                    \n",
      "CPU times: user 2h 10min 13s, sys: 8min 4s, total: 2h 18min 17s\n",
      "Wall time: 21min 42s\n"
     ]
    },
    {
     "data": {
      "text/plain": [
       "[0.18909753406593077, 0.9446115295391035]"
      ]
     },
     "execution_count": 16,
     "metadata": {},
     "output_type": "execute_result"
    }
   ],
   "source": [
    "%%time\n",
    "# Train last layer using SGDR \n",
    "learner.fit(1e-1, n_cycle=5, cycle_len=1, cycle_mult=2, wds=wd)"
   ]
  },
  {
   "cell_type": "code",
   "execution_count": 17,
   "metadata": {
    "hidden": true
   },
   "outputs": [
    {
     "data": {
      "application/vnd.jupyter.widget-view+json": {
       "model_id": "1737326cb3ea47f38324754a69eb14d9",
       "version_major": 2,
       "version_minor": 0
      },
      "text/plain": [
       "HBox(children=(IntProgress(value=0, description='Epoch', max=1, style=ProgressStyle(description_width='initial…"
      ]
     },
     "metadata": {},
     "output_type": "display_data"
    },
    {
     "name": "stdout",
     "output_type": "stream",
     "text": [
      " 92%|█████████▏| 130/141 [00:52<00:03,  2.89it/s, loss=1.76] CPU times: user 4min 11s, sys: 19.4 s, total: 4min 31s\n",
      "Wall time: 53.6 s\n"
     ]
    },
    {
     "data": {
      "image/png": "[encoded data removed]",
      "text/plain": [
       "<Figure size 432x288 with 1 Axes>"
      ]
     },
     "metadata": {
      "needs_background": "light"
     },
     "output_type": "display_data"
    }
   ],
   "source": [
    "%%time\n",
    "# Unfreeze all layers and get new lr\n",
    "learner.unfreeze()\n",
    "learner.lr_find()\n",
    "learner.sched.plot()"
   ]
  },
  {
   "cell_type": "code",
   "execution_count": 18,
   "metadata": {
    "hidden": true
   },
   "outputs": [
    {
     "data": {
      "application/vnd.jupyter.widget-view+json": {
       "model_id": "49d5ab5835284aa081bcae8b2b5d3afc",
       "version_major": 2,
       "version_minor": 0
      },
      "text/plain": [
       "HBox(children=(IntProgress(value=0, description='Epoch', max=31, style=ProgressStyle(description_width='initia…"
      ]
     },
     "metadata": {},
     "output_type": "display_data"
    },
    {
     "name": "stdout",
     "output_type": "stream",
     "text": [
      "epoch      trn_loss   val_loss   accuracy                    \n",
      "    0      0.369338   0.141687   0.958396  \n",
      "    1      0.353254   0.142049   0.963409                    \n",
      "    2      0.304092   0.144889   0.963158                    \n",
      "    3      0.335677   0.155454   0.962406                    \n",
      "    4      0.312042   0.147055   0.96015                     \n",
      "    5      0.286625   0.162315   0.958897                    \n",
      "    6      0.27465    0.159714   0.960401                    \n",
      "    7      0.307913   0.166033   0.955639                    \n",
      "    8      0.300755   0.184368   0.948872                    \n",
      "    9      0.290734   0.188094   0.948622                    \n",
      "    10     0.285633   0.176284   0.95589                     \n",
      "    11     0.262379   0.167448   0.953634                    \n",
      "    12     0.249516   0.175661   0.953383                    \n",
      "    13     0.252982   0.162308   0.954135                    \n",
      "    14     0.234582   0.161011   0.954637                    \n",
      "    15     0.27999    0.200727   0.949123                    \n",
      "    16     0.274613   0.207888   0.946867                    \n",
      "    17     0.279425   0.221211   0.943108                    \n",
      "    18     0.272461   0.197777   0.952632                    \n",
      "    19     0.265635   0.18972    0.952632                    \n",
      "    20     0.263381   0.193983   0.950877                    \n",
      "    21     0.242831   0.186881   0.950125                    \n",
      "    22     0.252548   0.206409   0.942607                    \n",
      "    23     0.245304   0.211025   0.943108                    \n",
      "    24     0.242008   0.203793   0.945865                    \n",
      "    25     0.246382   0.186977   0.950376                    \n",
      "    26     0.225375   0.19661    0.947619                    \n",
      "    27     0.222755   0.187562   0.950877                    \n",
      "    28     0.226401   0.190884   0.94812                     \n",
      "    29     0.22718    0.187912   0.948872                    \n",
      "    30     0.230061   0.188402   0.949123                    \n",
      "CPU times: user 2h 24min 36s, sys: 10min 46s, total: 2h 35min 23s\n",
      "Wall time: 31min 10s\n"
     ]
    },
    {
     "data": {
      "text/plain": [
       "[0.18840174818887634, 0.9491228070175438]"
      ]
     },
     "execution_count": 18,
     "metadata": {},
     "output_type": "execute_result"
    }
   ],
   "source": [
    "%%time\n",
    "# Re-train 1\n",
    "learner.fit(1e-2, n_cycle=5, cycle_len=1, cycle_mult=2, wds=wd)"
   ]
  },
  {
   "cell_type": "code",
   "execution_count": 19,
   "metadata": {
    "hidden": true
   },
   "outputs": [
    {
     "name": "stdout",
     "output_type": "stream",
     "text": [
      "CPU times: user 40 ms, sys: 68 ms, total: 108 ms\n",
      "Wall time: 975 ms\n"
     ]
    }
   ],
   "source": [
    "%%time\n",
    "# Save model\n",
    "learner.save('model2_R07_v1')"
   ]
  },
  {
   "cell_type": "markdown",
   "metadata": {
    "heading_collapsed": true,
    "hidden": true
   },
   "source": [
    "### Test retrained model R07"
   ]
  },
  {
   "cell_type": "markdown",
   "metadata": {
    "heading_collapsed": true,
    "hidden": true
   },
   "source": [
    "#### Test accuracy with benign data"
   ]
  },
  {
   "cell_type": "code",
   "execution_count": 22,
   "metadata": {
    "hidden": true
   },
   "outputs": [],
   "source": [
    "# Load model\n",
    "learner.precompute=False\n",
    "learner.load('model2_R07_v1')"
   ]
  },
  {
   "cell_type": "code",
   "execution_count": 23,
   "metadata": {
    "hidden": true
   },
   "outputs": [],
   "source": [
    "# Get ground truth\n",
    "class_indexes = {c: i for i, c in enumerate(data.classes)}\n",
    "filenames = [filepath[filepath.find('/') + 1:] for filepath in data.test_ds.fnames]\n",
    "labels = [str(int(f[6:11])) for f in filenames]\n",
    "y_true = np.array([class_indexes[label] for label in labels])"
   ]
  },
  {
   "cell_type": "code",
   "execution_count": 24,
   "metadata": {
    "hidden": true
   },
   "outputs": [
    {
     "data": {
      "text/plain": [
       "0.8767441860465116"
      ]
     },
     "execution_count": 24,
     "metadata": {},
     "output_type": "execute_result"
    }
   ],
   "source": [
    "# Test model \n",
    "log_preds = learner.predict(is_test=True)\n",
    "preds = np.exp(log_preds)\n",
    "accuracy_np(preds, y_true)"
   ]
  },
  {
   "cell_type": "markdown",
   "metadata": {
    "heading_collapsed": true,
    "hidden": true
   },
   "source": [
    "#### Test accuracy with trojan data"
   ]
  },
  {
   "cell_type": "code",
   "execution_count": 34,
   "metadata": {
    "hidden": true
   },
   "outputs": [],
   "source": [
    "# Load model\n",
    "learner.precompute=False\n",
    "learner.load('model2_R07_v1')"
   ]
  },
  {
   "cell_type": "code",
   "execution_count": 35,
   "metadata": {
    "hidden": true
   },
   "outputs": [],
   "source": [
    "# Get ground truth\n",
    "class_indexes = {c: i for i, c in enumerate(data.classes)}\n",
    "filenames = [filepath[filepath.find('/') + 1:] for filepath in data.test_ds.fnames]\n",
    "labels = [str(int(f[6:11])) for f in filenames]\n",
    "y_true = np.array([class_indexes[label] for label in labels])"
   ]
  },
  {
   "cell_type": "code",
   "execution_count": 36,
   "metadata": {
    "hidden": true
   },
   "outputs": [
    {
     "data": {
      "text/plain": [
       "0.8837209302325582"
      ]
     },
     "execution_count": 36,
     "metadata": {},
     "output_type": "execute_result"
    }
   ],
   "source": [
    "# Test model \n",
    "log_preds = learner.predict(is_test=True)\n",
    "preds = np.exp(log_preds)\n",
    "accuracy_np(preds, y_true)"
   ]
  },
  {
   "cell_type": "markdown",
   "metadata": {
    "hidden": true
   },
   "source": [
    "#### Test ASR with trojan data"
   ]
  },
  {
   "cell_type": "code",
   "execution_count": 39,
   "metadata": {
    "hidden": true
   },
   "outputs": [],
   "source": [
    "# Load model\n",
    "learner.precompute=False\n",
    "learner.load('model2_R07_v1')"
   ]
  },
  {
   "cell_type": "code",
   "execution_count": 40,
   "metadata": {
    "hidden": true
   },
   "outputs": [
    {
     "name": "stdout",
     "output_type": "stream",
     "text": [
      "Number of samples: 430\n",
      "Target: 11\n"
     ]
    }
   ],
   "source": [
    "# Get ground truth\n",
    "class_indexes = {c: i for i, c in enumerate(data.classes)}\n",
    "target = class_indexes['19']\n",
    "filenames = [filepath[filepath.find('/') + 1:] for filepath in data.test_ds.fnames]\n",
    "y_true = np.array([target for i in range(len(filenames))])\n",
    "print(f'Number of samples: {len(y_true)}\\nTarget: {target}')"
   ]
  },
  {
   "cell_type": "code",
   "execution_count": 41,
   "metadata": {
    "hidden": true
   },
   "outputs": [
    {
     "data": {
      "text/plain": [
       "0.02558139534883721"
      ]
     },
     "execution_count": 41,
     "metadata": {},
     "output_type": "execute_result"
    }
   ],
   "source": [
    "# Test model \n",
    "log_preds = learner.predict(is_test=True)\n",
    "preds = np.exp(log_preds)\n",
    "accuracy_np(preds, y_true)"
   ]
  },
  {
   "cell_type": "markdown",
   "metadata": {
    "heading_collapsed": true
   },
   "source": [
    "## Retrain Model 2: R08"
   ]
  },
  {
   "cell_type": "markdown",
   "metadata": {
    "heading_collapsed": true,
    "hidden": true
   },
   "source": [
    "### Retrain model"
   ]
  },
  {
   "cell_type": "code",
   "execution_count": 237,
   "metadata": {
    "hidden": true
   },
   "outputs": [],
   "source": [
    "%%time\n",
    "# Load model\n",
    "learner.precompute=False\n",
    "learner.load('model2')"
   ]
  },
  {
   "cell_type": "code",
   "execution_count": null,
   "metadata": {
    "hidden": true
   },
   "outputs": [],
   "source": [
    "%%time\n",
    "# Get learning rate\n",
    "learner.lr_find()\n",
    "learner.sched.plot()"
   ]
  },
  {
   "cell_type": "code",
   "execution_count": null,
   "metadata": {
    "hidden": true
   },
   "outputs": [],
   "source": [
    "%%time\n",
    "# Train last layer using SGDR \n",
    "learner.fit(1e-1, n_cycle=5, cycle_len=1, cycle_mult=2, wds=wd)"
   ]
  },
  {
   "cell_type": "code",
   "execution_count": null,
   "metadata": {
    "hidden": true
   },
   "outputs": [],
   "source": [
    "%%time\n",
    "# Unfreeze all layers and get new lr\n",
    "learner.unfreeze()\n",
    "learner.lr_find()\n",
    "learner.sched.plot()"
   ]
  },
  {
   "cell_type": "code",
   "execution_count": null,
   "metadata": {
    "hidden": true
   },
   "outputs": [],
   "source": [
    "%%time\n",
    "# Re-train 1\n",
    "learner.fit(1e-2, n_cycle=5, cycle_len=1, cycle_mult=2, wds=wd)"
   ]
  },
  {
   "cell_type": "code",
   "execution_count": null,
   "metadata": {
    "hidden": true
   },
   "outputs": [],
   "source": [
    "%%time\n",
    "# Save model\n",
    "learner.save('model2_R08_v1')"
   ]
  },
  {
   "cell_type": "markdown",
   "metadata": {
    "heading_collapsed": true,
    "hidden": true
   },
   "source": [
    "### Test Retrained Model R08"
   ]
  },
  {
   "cell_type": "markdown",
   "metadata": {
    "heading_collapsed": true,
    "hidden": true
   },
   "source": [
    "#### Test accuracy with benign data"
   ]
  },
  {
   "cell_type": "code",
   "execution_count": null,
   "metadata": {
    "hidden": true
   },
   "outputs": [],
   "source": [
    "# Load model\n",
    "learner.precompute=False\n",
    "learner.load('model2_R08_v1')"
   ]
  },
  {
   "cell_type": "code",
   "execution_count": null,
   "metadata": {
    "hidden": true
   },
   "outputs": [],
   "source": [
    "# Get ground truth\n",
    "class_indexes = {c: i for i, c in enumerate(data.classes)}\n",
    "filenames = [filepath[filepath.find('/') + 1:] for filepath in data.test_ds.fnames]\n",
    "labels = [str(int(f[6:11])) for f in filenames]\n",
    "y_true = np.array([class_indexes[label] for label in labels])"
   ]
  },
  {
   "cell_type": "code",
   "execution_count": null,
   "metadata": {
    "hidden": true
   },
   "outputs": [],
   "source": [
    "# Test model \n",
    "log_preds = learner.predict(is_test=True)\n",
    "preds = np.exp(log_preds)\n",
    "accuracy_np(preds, y_true)"
   ]
  },
  {
   "cell_type": "markdown",
   "metadata": {
    "heading_collapsed": true,
    "hidden": true
   },
   "source": [
    "#### Test accuracy with trojan data"
   ]
  },
  {
   "cell_type": "code",
   "execution_count": null,
   "metadata": {
    "hidden": true
   },
   "outputs": [],
   "source": [
    "# Load model\n",
    "learner.precompute=False\n",
    "learner.load('model2_R08_v1')"
   ]
  },
  {
   "cell_type": "code",
   "execution_count": null,
   "metadata": {
    "hidden": true
   },
   "outputs": [],
   "source": [
    "# Get ground truth\n",
    "class_indexes = {c: i for i, c in enumerate(data.classes)}\n",
    "filenames = [filepath[filepath.find('/') + 1:] for filepath in data.test_ds.fnames]\n",
    "labels = [str(int(f[6:11])) for f in filenames]\n",
    "y_true = np.array([class_indexes[label] for label in labels])"
   ]
  },
  {
   "cell_type": "code",
   "execution_count": null,
   "metadata": {
    "hidden": true
   },
   "outputs": [],
   "source": [
    "# Test model \n",
    "log_preds = learner.predict(is_test=True)\n",
    "preds = np.exp(log_preds)\n",
    "accuracy_np(preds, y_true)"
   ]
  },
  {
   "cell_type": "markdown",
   "metadata": {
    "heading_collapsed": true,
    "hidden": true
   },
   "source": [
    "#### Test ASR with trojan data"
   ]
  },
  {
   "cell_type": "code",
   "execution_count": null,
   "metadata": {
    "hidden": true
   },
   "outputs": [],
   "source": [
    "# Load model\n",
    "learner.precompute=False\n",
    "learner.load('model2_R08_v1')"
   ]
  },
  {
   "cell_type": "code",
   "execution_count": null,
   "metadata": {
    "hidden": true
   },
   "outputs": [],
   "source": [
    "# Get ground truth\n",
    "class_indexes = {c: i for i, c in enumerate(data.classes)}\n",
    "target = class_indexes['19']\n",
    "filenames = [filepath[filepath.find('/') + 1:] for filepath in data.test_ds.fnames]\n",
    "y_true = np.array([target for i in range(len(filenames))])\n",
    "print(f'Number of samples: {len(y_true)}\\nTarget: {target}')"
   ]
  },
  {
   "cell_type": "code",
   "execution_count": null,
   "metadata": {
    "hidden": true
   },
   "outputs": [],
   "source": [
    "# Test model \n",
    "log_preds = learner.predict(is_test=True)\n",
    "preds = np.exp(log_preds)\n",
    "accuracy_np(preds, y_true)"
   ]
  },
  {
   "cell_type": "markdown",
   "metadata": {
    "heading_collapsed": true
   },
   "source": [
    "## Retrain Model 2: R09"
   ]
  },
  {
   "cell_type": "markdown",
   "metadata": {
    "heading_collapsed": true,
    "hidden": true
   },
   "source": [
    "### Retrain model"
   ]
  },
  {
   "cell_type": "code",
   "execution_count": null,
   "metadata": {
    "hidden": true
   },
   "outputs": [],
   "source": [
    "%%time\n",
    "# Load model\n",
    "learner.precompute=False\n",
    "learner.load('model2')"
   ]
  },
  {
   "cell_type": "code",
   "execution_count": null,
   "metadata": {
    "hidden": true
   },
   "outputs": [],
   "source": [
    "%%time\n",
    "# Get learning rate\n",
    "learner.lr_find()\n",
    "learner.sched.plot()"
   ]
  },
  {
   "cell_type": "code",
   "execution_count": null,
   "metadata": {
    "hidden": true
   },
   "outputs": [],
   "source": [
    "%%time\n",
    "# Train last layer using SGDR \n",
    "learner.fit(1e-1, n_cycle=5, cycle_len=1, cycle_mult=2, wds=wd)"
   ]
  },
  {
   "cell_type": "code",
   "execution_count": null,
   "metadata": {
    "hidden": true
   },
   "outputs": [],
   "source": [
    "%%time\n",
    "# Unfreeze all layers and get new lr\n",
    "learner.unfreeze()\n",
    "learner.lr_find()\n",
    "learner.sched.plot()"
   ]
  },
  {
   "cell_type": "code",
   "execution_count": null,
   "metadata": {
    "hidden": true
   },
   "outputs": [],
   "source": [
    "%%time\n",
    "# Re-train 1\n",
    "learner.fit(1e-2, n_cycle=5, cycle_len=1, cycle_mult=2, wds=wd)"
   ]
  },
  {
   "cell_type": "code",
   "execution_count": null,
   "metadata": {
    "hidden": true
   },
   "outputs": [],
   "source": [
    "%%time\n",
    "# Save model\n",
    "learner.save('model2_R09_v1')"
   ]
  },
  {
   "cell_type": "markdown",
   "metadata": {
    "heading_collapsed": true,
    "hidden": true
   },
   "source": [
    "### Test retrained model R09"
   ]
  },
  {
   "cell_type": "markdown",
   "metadata": {
    "heading_collapsed": true,
    "hidden": true
   },
   "source": [
    "#### Test accuracy with benign data"
   ]
  },
  {
   "cell_type": "code",
   "execution_count": null,
   "metadata": {
    "hidden": true
   },
   "outputs": [],
   "source": [
    "# Load model\n",
    "learner.precompute=False\n",
    "learner.load('model2_R09_v1')"
   ]
  },
  {
   "cell_type": "code",
   "execution_count": null,
   "metadata": {
    "hidden": true
   },
   "outputs": [],
   "source": [
    "# Get ground truth\n",
    "class_indexes = {c: i for i, c in enumerate(data.classes)}\n",
    "filenames = [filepath[filepath.find('/') + 1:] for filepath in data.test_ds.fnames]\n",
    "labels = [str(int(f[6:11])) for f in filenames]\n",
    "y_true = np.array([class_indexes[label] for label in labels])"
   ]
  },
  {
   "cell_type": "code",
   "execution_count": null,
   "metadata": {
    "hidden": true
   },
   "outputs": [],
   "source": [
    "# Test model \n",
    "log_preds = learner.predict(is_test=True)\n",
    "preds = np.exp(log_preds)\n",
    "accuracy_np(preds, y_true)"
   ]
  },
  {
   "cell_type": "markdown",
   "metadata": {
    "heading_collapsed": true,
    "hidden": true
   },
   "source": [
    "#### Test accuracy with trojan data"
   ]
  },
  {
   "cell_type": "code",
   "execution_count": null,
   "metadata": {
    "hidden": true
   },
   "outputs": [],
   "source": [
    "# Load model\n",
    "learner.precompute=False\n",
    "learner.load('model2_R09_v1')"
   ]
  },
  {
   "cell_type": "code",
   "execution_count": null,
   "metadata": {
    "hidden": true
   },
   "outputs": [],
   "source": [
    "# Get ground truth\n",
    "class_indexes = {c: i for i, c in enumerate(data.classes)}\n",
    "filenames = [filepath[filepath.find('/') + 1:] for filepath in data.test_ds.fnames]\n",
    "labels = [str(int(f[6:11])) for f in filenames]\n",
    "y_true = np.array([class_indexes[label] for label in labels])"
   ]
  },
  {
   "cell_type": "code",
   "execution_count": null,
   "metadata": {
    "hidden": true
   },
   "outputs": [],
   "source": [
    "# Test model \n",
    "log_preds = learner.predict(is_test=True)\n",
    "preds = np.exp(log_preds)\n",
    "accuracy_np(preds, y_true)"
   ]
  },
  {
   "cell_type": "markdown",
   "metadata": {
    "heading_collapsed": true,
    "hidden": true
   },
   "source": [
    "#### Test ASR with trojan data"
   ]
  },
  {
   "cell_type": "code",
   "execution_count": null,
   "metadata": {
    "hidden": true
   },
   "outputs": [],
   "source": [
    "# Load model\n",
    "learner.precompute=False\n",
    "learner.load('model2_R09_v1')"
   ]
  },
  {
   "cell_type": "code",
   "execution_count": null,
   "metadata": {
    "hidden": true
   },
   "outputs": [],
   "source": [
    "# Get ground truth\n",
    "class_indexes = {c: i for i, c in enumerate(data.classes)}\n",
    "target = class_indexes['19']\n",
    "filenames = [filepath[filepath.find('/') + 1:] for filepath in data.test_ds.fnames]\n",
    "y_true = np.array([target for i in range(len(filenames))])\n",
    "print(f'Number of samples: {len(y_true)}\\nTarget: {target}')"
   ]
  },
  {
   "cell_type": "code",
   "execution_count": null,
   "metadata": {
    "hidden": true
   },
   "outputs": [],
   "source": [
    "# Test model \n",
    "log_preds = learner.predict(is_test=True)\n",
    "preds = np.exp(log_preds)\n",
    "accuracy_np(preds, y_true)"
   ]
  },
  {
   "cell_type": "markdown",
   "metadata": {
    "heading_collapsed": true
   },
   "source": [
    "## Retrain Model 2: R10"
   ]
  },
  {
   "cell_type": "markdown",
   "metadata": {
    "heading_collapsed": true,
    "hidden": true
   },
   "source": [
    "### Retrain model"
   ]
  },
  {
   "cell_type": "code",
   "execution_count": null,
   "metadata": {
    "hidden": true
   },
   "outputs": [],
   "source": [
    "%%time\n",
    "# Load model\n",
    "learner.precompute=False\n",
    "learner.load('model2')"
   ]
  },
  {
   "cell_type": "code",
   "execution_count": null,
   "metadata": {
    "hidden": true
   },
   "outputs": [],
   "source": [
    "%%time\n",
    "# Get learning rate\n",
    "learner.lr_find()\n",
    "learner.sched.plot()"
   ]
  },
  {
   "cell_type": "code",
   "execution_count": null,
   "metadata": {
    "hidden": true
   },
   "outputs": [],
   "source": [
    "%%time\n",
    "# Train last layer using SGDR \n",
    "learner.fit(1e-1, n_cycle=5, cycle_len=1, cycle_mult=2, wds=wd)"
   ]
  },
  {
   "cell_type": "code",
   "execution_count": null,
   "metadata": {
    "hidden": true
   },
   "outputs": [],
   "source": [
    "%%time\n",
    "# Unfreeze all layers and get new lr\n",
    "learner.unfreeze()\n",
    "learner.lr_find()\n",
    "learner.sched.plot()"
   ]
  },
  {
   "cell_type": "code",
   "execution_count": null,
   "metadata": {
    "hidden": true
   },
   "outputs": [],
   "source": [
    "%%time\n",
    "# Re-train 1\n",
    "learner.fit(1e-2, n_cycle=5, cycle_len=1, cycle_mult=2, wds=wd)"
   ]
  },
  {
   "cell_type": "code",
   "execution_count": null,
   "metadata": {
    "hidden": true
   },
   "outputs": [],
   "source": [
    "%%time\n",
    "# Save model\n",
    "learner.save('model2_R10_v1')"
   ]
  },
  {
   "cell_type": "markdown",
   "metadata": {
    "heading_collapsed": true,
    "hidden": true
   },
   "source": [
    "### Test retrained model R10"
   ]
  },
  {
   "cell_type": "markdown",
   "metadata": {
    "heading_collapsed": true,
    "hidden": true
   },
   "source": [
    "#### Test accuracy with benign data"
   ]
  },
  {
   "cell_type": "code",
   "execution_count": null,
   "metadata": {
    "hidden": true
   },
   "outputs": [],
   "source": [
    "# Load model\n",
    "learner.precompute=False\n",
    "learner.load('model2_R10_v1')"
   ]
  },
  {
   "cell_type": "code",
   "execution_count": null,
   "metadata": {
    "hidden": true
   },
   "outputs": [],
   "source": [
    "# Get ground truth\n",
    "class_indexes = {c: i for i, c in enumerate(data.classes)}\n",
    "filenames = [filepath[filepath.find('/') + 1:] for filepath in data.test_ds.fnames]\n",
    "labels = [str(int(f[6:11])) for f in filenames]\n",
    "y_true = np.array([class_indexes[label] for label in labels])"
   ]
  },
  {
   "cell_type": "code",
   "execution_count": null,
   "metadata": {
    "hidden": true
   },
   "outputs": [],
   "source": [
    "# Test model \n",
    "log_preds = learner.predict(is_test=True)\n",
    "preds = np.exp(log_preds)\n",
    "accuracy_np(preds, y_true)"
   ]
  },
  {
   "cell_type": "markdown",
   "metadata": {
    "heading_collapsed": true,
    "hidden": true
   },
   "source": [
    "#### Test accuracy with trojan data"
   ]
  },
  {
   "cell_type": "code",
   "execution_count": null,
   "metadata": {
    "hidden": true
   },
   "outputs": [],
   "source": [
    "# Load model\n",
    "learner.precompute=False\n",
    "learner.load('model2_R10_v1')"
   ]
  },
  {
   "cell_type": "code",
   "execution_count": null,
   "metadata": {
    "hidden": true
   },
   "outputs": [],
   "source": [
    "# Get ground truth\n",
    "class_indexes = {c: i for i, c in enumerate(data.classes)}\n",
    "filenames = [filepath[filepath.find('/') + 1:] for filepath in data.test_ds.fnames]\n",
    "labels = [str(int(f[6:11])) for f in filenames]\n",
    "y_true = np.array([class_indexes[label] for label in labels])"
   ]
  },
  {
   "cell_type": "code",
   "execution_count": null,
   "metadata": {
    "hidden": true
   },
   "outputs": [],
   "source": [
    "# Test model \n",
    "log_preds = learner.predict(is_test=True)\n",
    "preds = np.exp(log_preds)\n",
    "accuracy_np(preds, y_true)"
   ]
  },
  {
   "cell_type": "markdown",
   "metadata": {
    "heading_collapsed": true,
    "hidden": true
   },
   "source": [
    "#### Test ASR with trojan data"
   ]
  },
  {
   "cell_type": "code",
   "execution_count": null,
   "metadata": {
    "hidden": true
   },
   "outputs": [],
   "source": [
    "# Load model\n",
    "learner.precompute=False\n",
    "learner.load('model2_R10_v1')"
   ]
  },
  {
   "cell_type": "code",
   "execution_count": null,
   "metadata": {
    "hidden": true
   },
   "outputs": [],
   "source": [
    "# Get ground truth\n",
    "class_indexes = {c: i for i, c in enumerate(data.classes)}\n",
    "target = class_indexes['19']\n",
    "filenames = [filepath[filepath.find('/') + 1:] for filepath in data.test_ds.fnames]\n",
    "y_true = np.array([target for i in range(len(filenames))])\n",
    "print(f'Number of samples: {len(y_true)}\\nTarget: {target}')"
   ]
  },
  {
   "cell_type": "code",
   "execution_count": null,
   "metadata": {
    "hidden": true
   },
   "outputs": [],
   "source": [
    "# Test model \n",
    "log_preds = learner.predict(is_test=True)\n",
    "preds = np.exp(log_preds)\n",
    "accuracy_np(preds, y_true)"
   ]
  },
  {
   "cell_type": "markdown",
   "metadata": {
    "heading_collapsed": true
   },
   "source": [
    "## Compute Metrics"
   ]
  },
  {
   "cell_type": "code",
   "execution_count": null,
   "metadata": {
    "hidden": true
   },
   "outputs": [],
   "source": [
    "def get_learner(path, trn_ds_name, val_ds_name, test_ds_name, is_rgb, do_norm):\n",
    "    arch = resnet34\n",
    "    sz   = 96\n",
    "    wd   = 5e-4\n",
    "    bs   = 256\n",
    "    aug  = [RandomRotate(20), RandomLighting(0.8, 0.8)]\n",
    "    tfms = tfms_from_model(arch, sz, aug_tfms=aug, max_zoom=1.2)                                                      \n",
    "    data = ImageClassifierData.from_paths(path, tfms=tfms, bs=bs, trn_name=trn_ds_name, \n",
    "                                      val_name=val_ds_name, test_name=test_ds_name)\n",
    "    learner = ConvLearner.pretrained(arch, data, precompute=False)\n",
    "    return learner, data"
   ]
  },
  {
   "cell_type": "code",
   "execution_count": null,
   "metadata": {
    "hidden": true
   },
   "outputs": [],
   "source": [
    "def get_metric(learner, data, is_acc=True, target='19', prune=False):\n",
    "    class_indexes = {c: i for i, c in enumerate(data.classes)}\n",
    "    filenames = [filepath[filepath.find('/') + 1:] for filepath in data.test_ds.fnames]\n",
    "    y_true = np.array([class_indexes[str(int(f[6:11]))] for f in filenames]) # for images from heal\n",
    "    #y_true = np.array([class_indexes[str(int(f[:5]))] for f in filenames])\n",
    "    logits = learner.predict(is_test=True)\n",
    "    y_prob = to_np(F.softmax(VV(logits)))\n",
    "    if prune:\n",
    "        y_prob[::,indices_rm] = 0\n",
    "    if not is_acc:\n",
    "        to_rm  = np.where(y_true == class_indexes[target])[0]\n",
    "        y_prob = np.delete(y_prob, to_rm, axis=0)\n",
    "        y_true = np.array([class_indexes[target] for i in range((len(filenames)-len(to_rm)))])\n",
    "    return accuracy_np(y_prob, y_true)"
   ]
  },
  {
   "cell_type": "code",
   "execution_count": null,
   "metadata": {
    "hidden": true
   },
   "outputs": [],
   "source": [
    "def get_metrics(path, model, test_benign, test_adv=None, trn_ds_name ='heal', val_ds_name ='valid', prune=False):\n",
    "    metrics = [None, None, None]\n",
    "    trn_ds_name = trn_ds_name \n",
    "    val_ds_name = val_ds_name\n",
    "    test_ds_name = test_benign\n",
    "    is_rgb = False\n",
    "    do_norm = False\n",
    "    learner, data = get_learner(path, trn_ds_name, val_ds_name, test_ds_name, is_rgb, do_norm)\n",
    "    learner.load(model)\n",
    "    metrics[0] = get_metric(learner, data, prune=prune)\n",
    "    if test_adv == None: return metrics\n",
    "    test_ds_name = test_adv\n",
    "    learner, data = get_learner(path, trn_ds_name, val_ds_name, test_ds_name, is_rgb=False, do_norm=False)\n",
    "    learner.load(model)\n",
    "    metrics[1] = get_metric(learner, data, prune=prune)\n",
    "    metrics[2] = get_metric(learner, data, is_acc=False, prune=prune)\n",
    "    return metrics"
   ]
  }
 ],
 "metadata": {
  "kernelspec": {
   "display_name": "Python 3",
   "language": "python",
   "name": "python3"
  },
  "language_info": {
   "codemirror_mode": {
    "name": "ipython",
    "version": 3
   },
   "file_extension": ".py",
   "mimetype": "text/x-python",
   "name": "python",
   "nbconvert_exporter": "python",
   "pygments_lexer": "ipython3",
   "version": "3.7.3"
  },
  "toc": {
   "colors": {
    "hover_highlight": "#DAA520",
    "navigate_num": "#000000",
    "navigate_text": "#333333",
    "running_highlight": "#FF0000",
    "selected_highlight": "#FFD700",
    "sidebar_border": "#EEEEEE",
    "wrapper_background": "#FFFFFF"
   },
   "moveMenuLeft": true,
   "nav_menu": {
    "height": "266px",
    "width": "252px"
   },
   "navigate_menu": true,
   "number_sections": true,
   "sideBar": true,
   "threshold": 4,
   "toc_cell": false,
   "toc_section_display": "block",
   "toc_window_display": false,
   "widenNotebook": false
  }
 },
 "nbformat": 4,
 "nbformat_minor": 2
}
